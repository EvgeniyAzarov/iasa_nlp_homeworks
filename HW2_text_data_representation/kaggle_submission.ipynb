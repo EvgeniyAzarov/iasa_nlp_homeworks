{
 "cells": [
  {
   "cell_type": "code",
   "execution_count": 1,
   "id": "c1179e54",
   "metadata": {
    "_cell_guid": "a27727ff-33dc-4b3e-a4c8-72b53c11564d",
    "_kg_hide-output": true,
    "_uuid": "eacdce79-487c-4c50-9311-8170152a0b06",
    "collapsed": false,
    "execution": {
     "iopub.execute_input": "2023-10-10T00:06:31.096903Z",
     "iopub.status.busy": "2023-10-10T00:06:31.096255Z",
     "iopub.status.idle": "2023-10-10T00:06:32.557776Z",
     "shell.execute_reply": "2023-10-10T00:06:32.556666Z"
    },
    "jupyter": {
     "outputs_hidden": false
    },
    "papermill": {
     "duration": 1.472717,
     "end_time": "2023-10-10T00:06:32.560232",
     "exception": false,
     "start_time": "2023-10-10T00:06:31.087515",
     "status": "completed"
    },
    "tags": []
   },
   "outputs": [
    {
     "name": "stdout",
     "output_type": "stream",
     "text": [
      "/kaggle/input/sentence-transformers-dataset/__results__.html\n",
      "/kaggle/input/sentence-transformers-dataset/__notebook__.ipynb\n",
      "/kaggle/input/sentence-transformers-dataset/__output__.json\n",
      "/kaggle/input/sentence-transformers-dataset/custom.css\n",
      "/kaggle/input/sentence-transformers-dataset/sentence-transformers/index.rst\n",
      "/kaggle/input/sentence-transformers-dataset/sentence-transformers/NOTICE.txt\n",
      "/kaggle/input/sentence-transformers-dataset/sentence-transformers/setup.cfg\n",
      "/kaggle/input/sentence-transformers-dataset/sentence-transformers/LICENSE\n",
      "/kaggle/input/sentence-transformers-dataset/sentence-transformers/.gitignore\n",
      "/kaggle/input/sentence-transformers-dataset/sentence-transformers/README.md\n",
      "/kaggle/input/sentence-transformers-dataset/sentence-transformers/requirements.txt\n",
      "/kaggle/input/sentence-transformers-dataset/sentence-transformers/setup.py\n",
      "/kaggle/input/sentence-transformers-dataset/sentence-transformers/tests/test_train_stsb.py\n",
      "/kaggle/input/sentence-transformers-dataset/sentence-transformers/tests/test_pretrained_stsb.py\n",
      "/kaggle/input/sentence-transformers-dataset/sentence-transformers/tests/test_multi_process.py\n",
      "/kaggle/input/sentence-transformers-dataset/sentence-transformers/tests/test_image_embeddings.py\n",
      "/kaggle/input/sentence-transformers-dataset/sentence-transformers/tests/test_evaluator.py\n",
      "/kaggle/input/sentence-transformers-dataset/sentence-transformers/tests/test_cross_encoder.py\n",
      "/kaggle/input/sentence-transformers-dataset/sentence-transformers/tests/test_util.py\n",
      "/kaggle/input/sentence-transformers-dataset/sentence-transformers/tests/test_compute_embeddings.py\n",
      "/kaggle/input/sentence-transformers-dataset/sentence-transformers/examples/README.md\n",
      "/kaggle/input/sentence-transformers-dataset/sentence-transformers/examples/domain_adaptation/README.md\n",
      "/kaggle/input/sentence-transformers-dataset/sentence-transformers/examples/training/README.md\n",
      "/kaggle/input/sentence-transformers-dataset/sentence-transformers/examples/training/sts/README.md\n",
      "/kaggle/input/sentence-transformers-dataset/sentence-transformers/examples/training/sts/training_stsbenchmark_continue_training.py\n",
      "/kaggle/input/sentence-transformers-dataset/sentence-transformers/examples/training/sts/training_stsbenchmark.py\n",
      "/kaggle/input/sentence-transformers-dataset/sentence-transformers/examples/training/other/training_wikipedia_sections.py\n",
      "/kaggle/input/sentence-transformers-dataset/sentence-transformers/examples/training/other/training_multi-task.py\n",
      "/kaggle/input/sentence-transformers-dataset/sentence-transformers/examples/training/other/training_batch_hard_trec.py\n",
      "/kaggle/input/sentence-transformers-dataset/sentence-transformers/examples/training/avg_word_embeddings/training_stsbenchmark_bow.py\n",
      "/kaggle/input/sentence-transformers-dataset/sentence-transformers/examples/training/avg_word_embeddings/training_stsbenchmark_avg_word_embeddings.py\n",
      "/kaggle/input/sentence-transformers-dataset/sentence-transformers/examples/training/avg_word_embeddings/training_stsbenchmark_tf-idf_word_embeddings.py\n",
      "/kaggle/input/sentence-transformers-dataset/sentence-transformers/examples/training/avg_word_embeddings/training_stsbenchmark_cnn.py\n",
      "/kaggle/input/sentence-transformers-dataset/sentence-transformers/examples/training/avg_word_embeddings/training_stsbenchmark_bilstm.py\n",
      "/kaggle/input/sentence-transformers-dataset/sentence-transformers/examples/training/nli/training_nli_v2.py\n",
      "/kaggle/input/sentence-transformers-dataset/sentence-transformers/examples/training/nli/README.md\n",
      "/kaggle/input/sentence-transformers-dataset/sentence-transformers/examples/training/nli/training_nli.py\n",
      "/kaggle/input/sentence-transformers-dataset/sentence-transformers/examples/training/data_augmentation/README.md\n",
      "/kaggle/input/sentence-transformers-dataset/sentence-transformers/examples/training/data_augmentation/train_sts_seed_optimization.py\n",
      "/kaggle/input/sentence-transformers-dataset/sentence-transformers/examples/training/data_augmentation/train_sts_indomain_semantic.py\n",
      "/kaggle/input/sentence-transformers-dataset/sentence-transformers/examples/training/data_augmentation/train_sts_indomain_bm25.py\n",
      "/kaggle/input/sentence-transformers-dataset/sentence-transformers/examples/training/data_augmentation/train_sts_qqp_crossdomain.py\n",
      "/kaggle/input/sentence-transformers-dataset/sentence-transformers/examples/training/data_augmentation/train_sts_indomain_nlpaug.py\n",
      "/kaggle/input/sentence-transformers-dataset/sentence-transformers/examples/training/cross-encoder/README.md\n",
      "/kaggle/input/sentence-transformers-dataset/sentence-transformers/examples/training/cross-encoder/training_quora_duplicate_questions.py\n",
      "/kaggle/input/sentence-transformers-dataset/sentence-transformers/examples/training/cross-encoder/training_nli.py\n",
      "/kaggle/input/sentence-transformers-dataset/sentence-transformers/examples/training/cross-encoder/training_stsbenchmark.py\n",
      "/kaggle/input/sentence-transformers-dataset/sentence-transformers/examples/training/paraphrases/MultiDatasetDataLoader.py\n",
      "/kaggle/input/sentence-transformers-dataset/sentence-transformers/examples/training/paraphrases/README.md\n",
      "/kaggle/input/sentence-transformers-dataset/sentence-transformers/examples/training/paraphrases/training.py\n",
      "/kaggle/input/sentence-transformers-dataset/sentence-transformers/examples/training/distillation/model_quantization.py\n",
      "/kaggle/input/sentence-transformers-dataset/sentence-transformers/examples/training/distillation/README.md\n",
      "/kaggle/input/sentence-transformers-dataset/sentence-transformers/examples/training/distillation/model_distillation.py\n",
      "/kaggle/input/sentence-transformers-dataset/sentence-transformers/examples/training/distillation/dimensionality_reduction.py\n",
      "/kaggle/input/sentence-transformers-dataset/sentence-transformers/examples/training/ms_marco/train_bi-encoder_mnrl.py\n",
      "/kaggle/input/sentence-transformers-dataset/sentence-transformers/examples/training/ms_marco/train_cross-encoder_scratch.py\n",
      "/kaggle/input/sentence-transformers-dataset/sentence-transformers/examples/training/ms_marco/README.md\n",
      "/kaggle/input/sentence-transformers-dataset/sentence-transformers/examples/training/ms_marco/train_cross-encoder_kd.py\n",
      "/kaggle/input/sentence-transformers-dataset/sentence-transformers/examples/training/ms_marco/eval_cross-encoder-trec-dl.py\n",
      "/kaggle/input/sentence-transformers-dataset/sentence-transformers/examples/training/ms_marco/eval_msmarco.py\n",
      "/kaggle/input/sentence-transformers-dataset/sentence-transformers/examples/training/ms_marco/train_bi-encoder_margin-mse.py\n",
      "/kaggle/input/sentence-transformers-dataset/sentence-transformers/examples/training/ms_marco/multilingual/README.md\n",
      "/kaggle/input/sentence-transformers-dataset/sentence-transformers/examples/training/ms_marco/multilingual/translate_queries.py\n",
      "/kaggle/input/sentence-transformers-dataset/sentence-transformers/examples/training/quora_duplicate_questions/create_splits.py\n",
      "/kaggle/input/sentence-transformers-dataset/sentence-transformers/examples/training/quora_duplicate_questions/application_duplicate_questions_mining.py\n",
      "/kaggle/input/sentence-transformers-dataset/sentence-transformers/examples/training/quora_duplicate_questions/README.md\n",
      "/kaggle/input/sentence-transformers-dataset/sentence-transformers/examples/training/quora_duplicate_questions/training_OnlineContrastiveLoss.py\n",
      "/kaggle/input/sentence-transformers-dataset/sentence-transformers/examples/training/quora_duplicate_questions/training_multi-task-learning.py\n",
      "/kaggle/input/sentence-transformers-dataset/sentence-transformers/examples/training/quora_duplicate_questions/training_MultipleNegativesRankingLoss.py\n",
      "/kaggle/input/sentence-transformers-dataset/sentence-transformers/examples/training/multilingual/get_parallel_data_tatoeba.py\n",
      "/kaggle/input/sentence-transformers-dataset/sentence-transformers/examples/training/multilingual/get_parallel_data_ted2020.py\n",
      "/kaggle/input/sentence-transformers-dataset/sentence-transformers/examples/training/multilingual/README.md\n",
      "/kaggle/input/sentence-transformers-dataset/sentence-transformers/examples/training/multilingual/get_parallel_data_opus.py\n",
      "/kaggle/input/sentence-transformers-dataset/sentence-transformers/examples/training/multilingual/make_multilingual_sys.py\n",
      "/kaggle/input/sentence-transformers-dataset/sentence-transformers/examples/training/multilingual/make_multilingual.py\n",
      "/kaggle/input/sentence-transformers-dataset/sentence-transformers/examples/training/multilingual/get_parallel_data_wikimatrix.py\n",
      "/kaggle/input/sentence-transformers-dataset/sentence-transformers/examples/applications/README.md\n",
      "/kaggle/input/sentence-transformers-dataset/sentence-transformers/examples/applications/retrieve_rerank/retrieve_rerank_simple_wikipedia.ipynb\n",
      "/kaggle/input/sentence-transformers-dataset/sentence-transformers/examples/applications/retrieve_rerank/README.md\n",
      "/kaggle/input/sentence-transformers-dataset/sentence-transformers/examples/applications/retrieve_rerank/in_document_search_crossencoder.py\n",
      "/kaggle/input/sentence-transformers-dataset/sentence-transformers/examples/applications/computing-embeddings/computing_embeddings_multi_gpu.py\n",
      "/kaggle/input/sentence-transformers-dataset/sentence-transformers/examples/applications/computing-embeddings/README.md\n",
      "/kaggle/input/sentence-transformers-dataset/sentence-transformers/examples/applications/computing-embeddings/computing_embeddings.py\n",
      "/kaggle/input/sentence-transformers-dataset/sentence-transformers/examples/applications/computing-embeddings/computing_embeddings_streaming.py\n",
      "/kaggle/input/sentence-transformers-dataset/sentence-transformers/examples/applications/parallel-sentence-mining/bucc2018.py\n",
      "/kaggle/input/sentence-transformers-dataset/sentence-transformers/examples/applications/parallel-sentence-mining/README.md\n",
      "/kaggle/input/sentence-transformers-dataset/sentence-transformers/examples/applications/parallel-sentence-mining/bitext_mining.py\n",
      "/kaggle/input/sentence-transformers-dataset/sentence-transformers/examples/applications/parallel-sentence-mining/bitext_mining_utils.py\n",
      "/kaggle/input/sentence-transformers-dataset/sentence-transformers/examples/applications/cross-encoder/cross-encoder_reranking.py\n",
      "/kaggle/input/sentence-transformers-dataset/sentence-transformers/examples/applications/cross-encoder/README.md\n",
      "/kaggle/input/sentence-transformers-dataset/sentence-transformers/examples/applications/cross-encoder/cross-encoder_usage.py\n",
      "/kaggle/input/sentence-transformers-dataset/sentence-transformers/examples/applications/image-search/Image_Duplicates.ipynb\n",
      "/kaggle/input/sentence-transformers-dataset/sentence-transformers/examples/applications/image-search/two_dogs_in_snow.jpg\n",
      "/kaggle/input/sentence-transformers-dataset/sentence-transformers/examples/applications/image-search/eiffel-tower-night.jpg\n",
      "/kaggle/input/sentence-transformers-dataset/sentence-transformers/examples/applications/image-search/Image_Search.ipynb\n",
      "/kaggle/input/sentence-transformers-dataset/sentence-transformers/examples/applications/image-search/README.md\n",
      "/kaggle/input/sentence-transformers-dataset/sentence-transformers/examples/applications/image-search/cat.jpg\n",
      "/kaggle/input/sentence-transformers-dataset/sentence-transformers/examples/applications/image-search/Image_Classification.ipynb\n",
      "/kaggle/input/sentence-transformers-dataset/sentence-transformers/examples/applications/image-search/Image_Search-multilingual.ipynb\n",
      "/kaggle/input/sentence-transformers-dataset/sentence-transformers/examples/applications/image-search/eiffel-tower-day.jpg\n",
      "/kaggle/input/sentence-transformers-dataset/sentence-transformers/examples/applications/image-search/Image_Clustering.ipynb\n",
      "/kaggle/input/sentence-transformers-dataset/sentence-transformers/examples/applications/image-search/example.py\n",
      "/kaggle/input/sentence-transformers-dataset/sentence-transformers/examples/applications/semantic-search/semantic_search_publications.py\n",
      "/kaggle/input/sentence-transformers-dataset/sentence-transformers/examples/applications/semantic-search/semantic_search_quora_pytorch.py\n",
      "/kaggle/input/sentence-transformers-dataset/sentence-transformers/examples/applications/semantic-search/semantic_search_quora_faiss.py\n",
      "/kaggle/input/sentence-transformers-dataset/sentence-transformers/examples/applications/semantic-search/README.md\n",
      "/kaggle/input/sentence-transformers-dataset/sentence-transformers/examples/applications/semantic-search/semantic_search_quora_elasticsearch.py\n",
      "/kaggle/input/sentence-transformers-dataset/sentence-transformers/examples/applications/semantic-search/semantic_search_quora_hnswlib.py\n",
      "/kaggle/input/sentence-transformers-dataset/sentence-transformers/examples/applications/semantic-search/semantic_search_wikipedia_qa.py\n",
      "/kaggle/input/sentence-transformers-dataset/sentence-transformers/examples/applications/semantic-search/semantic_search.py\n",
      "/kaggle/input/sentence-transformers-dataset/sentence-transformers/examples/applications/semantic-search/semantic_search_quora_annoy.py\n",
      "/kaggle/input/sentence-transformers-dataset/sentence-transformers/examples/applications/clustering/kmeans.py\n",
      "/kaggle/input/sentence-transformers-dataset/sentence-transformers/examples/applications/clustering/fast_clustering.py\n",
      "/kaggle/input/sentence-transformers-dataset/sentence-transformers/examples/applications/clustering/README.md\n",
      "/kaggle/input/sentence-transformers-dataset/sentence-transformers/examples/applications/clustering/agglomerative.py\n",
      "/kaggle/input/sentence-transformers-dataset/sentence-transformers/examples/applications/text-summarization/text-summarization.py\n",
      "/kaggle/input/sentence-transformers-dataset/sentence-transformers/examples/applications/text-summarization/README.md\n",
      "/kaggle/input/sentence-transformers-dataset/sentence-transformers/examples/applications/text-summarization/LexRank.py\n",
      "/kaggle/input/sentence-transformers-dataset/sentence-transformers/examples/applications/paraphrase-mining/README.md\n",
      "/kaggle/input/sentence-transformers-dataset/sentence-transformers/examples/unsupervised_learning/README.md\n",
      "/kaggle/input/sentence-transformers-dataset/sentence-transformers/examples/unsupervised_learning/SimCSE/train_simcse_from_file.py\n",
      "/kaggle/input/sentence-transformers-dataset/sentence-transformers/examples/unsupervised_learning/SimCSE/README.md\n",
      "/kaggle/input/sentence-transformers-dataset/sentence-transformers/examples/unsupervised_learning/SimCSE/train_stsb_simcse.py\n",
      "/kaggle/input/sentence-transformers-dataset/sentence-transformers/examples/unsupervised_learning/SimCSE/train_askubuntu_simcse.py\n",
      "/kaggle/input/sentence-transformers-dataset/sentence-transformers/examples/unsupervised_learning/query_generation/README.md\n",
      "/kaggle/input/sentence-transformers-dataset/sentence-transformers/examples/unsupervised_learning/query_generation/3_programming_semantic_search.py\n",
      "/kaggle/input/sentence-transformers-dataset/sentence-transformers/examples/unsupervised_learning/query_generation/2_programming_train_bi-encoder.py\n",
      "/kaggle/input/sentence-transformers-dataset/sentence-transformers/examples/unsupervised_learning/query_generation/1_programming_query_generation.py\n",
      "/kaggle/input/sentence-transformers-dataset/sentence-transformers/examples/unsupervised_learning/query_generation/example_query_generation.py\n",
      "/kaggle/input/sentence-transformers-dataset/sentence-transformers/examples/unsupervised_learning/TSDAE/train_tsdae_from_file.py\n",
      "/kaggle/input/sentence-transformers-dataset/sentence-transformers/examples/unsupervised_learning/TSDAE/README.md\n",
      "/kaggle/input/sentence-transformers-dataset/sentence-transformers/examples/unsupervised_learning/TSDAE/train_askubuntu_tsdae.py\n",
      "/kaggle/input/sentence-transformers-dataset/sentence-transformers/examples/unsupervised_learning/TSDAE/train_stsb_tsdae.py\n",
      "/kaggle/input/sentence-transformers-dataset/sentence-transformers/examples/unsupervised_learning/TSDAE/eval_askubuntu.py\n",
      "/kaggle/input/sentence-transformers-dataset/sentence-transformers/examples/unsupervised_learning/CT_In-Batch_Negatives/train_ct-improved_from_file.py\n",
      "/kaggle/input/sentence-transformers-dataset/sentence-transformers/examples/unsupervised_learning/CT_In-Batch_Negatives/README.md\n",
      "/kaggle/input/sentence-transformers-dataset/sentence-transformers/examples/unsupervised_learning/CT_In-Batch_Negatives/train_askubuntu_ct-improved.py\n",
      "/kaggle/input/sentence-transformers-dataset/sentence-transformers/examples/unsupervised_learning/CT_In-Batch_Negatives/train_stsb_ct-improved.py\n",
      "/kaggle/input/sentence-transformers-dataset/sentence-transformers/examples/unsupervised_learning/CT/train_askubuntu_ct.py\n",
      "/kaggle/input/sentence-transformers-dataset/sentence-transformers/examples/unsupervised_learning/CT/README.md\n",
      "/kaggle/input/sentence-transformers-dataset/sentence-transformers/examples/unsupervised_learning/CT/train_ct_from_file.py\n",
      "/kaggle/input/sentence-transformers-dataset/sentence-transformers/examples/unsupervised_learning/CT/train_stsb_ct.py\n",
      "/kaggle/input/sentence-transformers-dataset/sentence-transformers/examples/unsupervised_learning/MLM/README.md\n",
      "/kaggle/input/sentence-transformers-dataset/sentence-transformers/examples/unsupervised_learning/MLM/train_mlm.py\n",
      "/kaggle/input/sentence-transformers-dataset/sentence-transformers/examples/evaluation/evaluation_stsbenchmark.py\n",
      "/kaggle/input/sentence-transformers-dataset/sentence-transformers/examples/evaluation/evaluation_stsbenchmark_sbert-wk.py\n",
      "/kaggle/input/sentence-transformers-dataset/sentence-transformers/examples/evaluation/evaluation_translation_matching.py\n",
      "/kaggle/input/sentence-transformers-dataset/sentence-transformers/examples/evaluation/evaluation_inference_speed.py\n",
      "/kaggle/input/sentence-transformers-dataset/sentence-transformers/sentence_transformers/SentenceTransformer.py\n",
      "/kaggle/input/sentence-transformers-dataset/sentence-transformers/sentence_transformers/model_card_templates.py\n",
      "/kaggle/input/sentence-transformers-dataset/sentence-transformers/sentence_transformers/__init__.py\n",
      "/kaggle/input/sentence-transformers-dataset/sentence-transformers/sentence_transformers/util.py\n",
      "/kaggle/input/sentence-transformers-dataset/sentence-transformers/sentence_transformers/LoggingHandler.py\n",
      "/kaggle/input/sentence-transformers-dataset/sentence-transformers/sentence_transformers/losses/ContrastiveLoss.py\n",
      "/kaggle/input/sentence-transformers-dataset/sentence-transformers/sentence_transformers/losses/CosineSimilarityLoss.py\n",
      "/kaggle/input/sentence-transformers-dataset/sentence-transformers/sentence_transformers/losses/MSELoss.py\n",
      "/kaggle/input/sentence-transformers-dataset/sentence-transformers/sentence_transformers/losses/SoftmaxLoss.py\n",
      "/kaggle/input/sentence-transformers-dataset/sentence-transformers/sentence_transformers/losses/MultipleNegativesRankingLoss.py\n",
      "/kaggle/input/sentence-transformers-dataset/sentence-transformers/sentence_transformers/losses/BatchSemiHardTripletLoss.py\n",
      "/kaggle/input/sentence-transformers-dataset/sentence-transformers/sentence_transformers/losses/DenoisingAutoEncoderLoss.py\n",
      "/kaggle/input/sentence-transformers-dataset/sentence-transformers/sentence_transformers/losses/BatchAllTripletLoss.py\n",
      "/kaggle/input/sentence-transformers-dataset/sentence-transformers/sentence_transformers/losses/ContrastiveTensionLoss.py\n",
      "/kaggle/input/sentence-transformers-dataset/sentence-transformers/sentence_transformers/losses/MultipleNegativesSymmetricRankingLoss.py\n",
      "/kaggle/input/sentence-transformers-dataset/sentence-transformers/sentence_transformers/losses/MegaBatchMarginLoss.py\n",
      "/kaggle/input/sentence-transformers-dataset/sentence-transformers/sentence_transformers/losses/BatchHardSoftMarginTripletLoss.py\n",
      "/kaggle/input/sentence-transformers-dataset/sentence-transformers/sentence_transformers/losses/OnlineContrastiveLoss.py\n",
      "/kaggle/input/sentence-transformers-dataset/sentence-transformers/sentence_transformers/losses/__init__.py\n",
      "/kaggle/input/sentence-transformers-dataset/sentence-transformers/sentence_transformers/losses/TripletLoss.py\n",
      "/kaggle/input/sentence-transformers-dataset/sentence-transformers/sentence_transformers/losses/BatchHardTripletLoss.py\n",
      "/kaggle/input/sentence-transformers-dataset/sentence-transformers/sentence_transformers/losses/MarginMSELoss.py\n",
      "/kaggle/input/sentence-transformers-dataset/sentence-transformers/sentence_transformers/readers/NLIDataReader.py\n",
      "/kaggle/input/sentence-transformers-dataset/sentence-transformers/sentence_transformers/readers/LabelSentenceReader.py\n",
      "/kaggle/input/sentence-transformers-dataset/sentence-transformers/sentence_transformers/readers/PairedFilesReader.py\n",
      "/kaggle/input/sentence-transformers-dataset/sentence-transformers/sentence_transformers/readers/TripletReader.py\n",
      "/kaggle/input/sentence-transformers-dataset/sentence-transformers/sentence_transformers/readers/__init__.py\n",
      "/kaggle/input/sentence-transformers-dataset/sentence-transformers/sentence_transformers/readers/InputExample.py\n",
      "/kaggle/input/sentence-transformers-dataset/sentence-transformers/sentence_transformers/readers/STSDataReader.py\n",
      "/kaggle/input/sentence-transformers-dataset/sentence-transformers/sentence_transformers/datasets/DenoisingAutoEncoderDataset.py\n",
      "/kaggle/input/sentence-transformers-dataset/sentence-transformers/sentence_transformers/datasets/SentencesDataset.py\n",
      "/kaggle/input/sentence-transformers-dataset/sentence-transformers/sentence_transformers/datasets/ParallelSentencesDataset.py\n",
      "/kaggle/input/sentence-transformers-dataset/sentence-transformers/sentence_transformers/datasets/NoDuplicatesDataLoader.py\n",
      "/kaggle/input/sentence-transformers-dataset/sentence-transformers/sentence_transformers/datasets/SentenceLabelDataset.py\n",
      "/kaggle/input/sentence-transformers-dataset/sentence-transformers/sentence_transformers/datasets/__init__.py\n",
      "/kaggle/input/sentence-transformers-dataset/sentence-transformers/sentence_transformers/models/WeightedLayerPooling.py\n",
      "/kaggle/input/sentence-transformers-dataset/sentence-transformers/sentence_transformers/models/Dropout.py\n",
      "/kaggle/input/sentence-transformers-dataset/sentence-transformers/sentence_transformers/models/LayerNorm.py\n",
      "/kaggle/input/sentence-transformers-dataset/sentence-transformers/sentence_transformers/models/BoW.py\n",
      "/kaggle/input/sentence-transformers-dataset/sentence-transformers/sentence_transformers/models/CLIPModel.py\n",
      "/kaggle/input/sentence-transformers-dataset/sentence-transformers/sentence_transformers/models/Dense.py\n",
      "/kaggle/input/sentence-transformers-dataset/sentence-transformers/sentence_transformers/models/Normalize.py\n",
      "/kaggle/input/sentence-transformers-dataset/sentence-transformers/sentence_transformers/models/CNN.py\n",
      "/kaggle/input/sentence-transformers-dataset/sentence-transformers/sentence_transformers/models/Transformer.py\n",
      "/kaggle/input/sentence-transformers-dataset/sentence-transformers/sentence_transformers/models/WordWeights.py\n",
      "/kaggle/input/sentence-transformers-dataset/sentence-transformers/sentence_transformers/models/LSTM.py\n",
      "/kaggle/input/sentence-transformers-dataset/sentence-transformers/sentence_transformers/models/WordEmbeddings.py\n",
      "/kaggle/input/sentence-transformers-dataset/sentence-transformers/sentence_transformers/models/__init__.py\n",
      "/kaggle/input/sentence-transformers-dataset/sentence-transformers/sentence_transformers/models/Asym.py\n",
      "/kaggle/input/sentence-transformers-dataset/sentence-transformers/sentence_transformers/models/Pooling.py\n",
      "/kaggle/input/sentence-transformers-dataset/sentence-transformers/sentence_transformers/models/tokenizer/__init__.py\n",
      "/kaggle/input/sentence-transformers-dataset/sentence-transformers/sentence_transformers/models/tokenizer/PhraseTokenizer.py\n",
      "/kaggle/input/sentence-transformers-dataset/sentence-transformers/sentence_transformers/models/tokenizer/WhitespaceTokenizer.py\n",
      "/kaggle/input/sentence-transformers-dataset/sentence-transformers/sentence_transformers/models/tokenizer/WordTokenizer.py\n",
      "/kaggle/input/sentence-transformers-dataset/sentence-transformers/sentence_transformers/cross_encoder/CrossEncoder.py\n",
      "/kaggle/input/sentence-transformers-dataset/sentence-transformers/sentence_transformers/cross_encoder/__init__.py\n",
      "/kaggle/input/sentence-transformers-dataset/sentence-transformers/sentence_transformers/cross_encoder/evaluation/CEBinaryClassificationEvaluator.py\n",
      "/kaggle/input/sentence-transformers-dataset/sentence-transformers/sentence_transformers/cross_encoder/evaluation/CECorrelationEvaluator.py\n",
      "/kaggle/input/sentence-transformers-dataset/sentence-transformers/sentence_transformers/cross_encoder/evaluation/CERerankingEvaluator.py\n",
      "/kaggle/input/sentence-transformers-dataset/sentence-transformers/sentence_transformers/cross_encoder/evaluation/CESoftmaxAccuracyEvaluator.py\n",
      "/kaggle/input/sentence-transformers-dataset/sentence-transformers/sentence_transformers/cross_encoder/evaluation/__init__.py\n",
      "/kaggle/input/sentence-transformers-dataset/sentence-transformers/sentence_transformers/cross_encoder/evaluation/CEBinaryAccuracyEvaluator.py\n",
      "/kaggle/input/sentence-transformers-dataset/sentence-transformers/sentence_transformers/evaluation/RerankingEvaluator.py\n",
      "/kaggle/input/sentence-transformers-dataset/sentence-transformers/sentence_transformers/evaluation/MSEEvaluatorFromDataFrame.py\n",
      "/kaggle/input/sentence-transformers-dataset/sentence-transformers/sentence_transformers/evaluation/ParaphraseMiningEvaluator.py\n",
      "/kaggle/input/sentence-transformers-dataset/sentence-transformers/sentence_transformers/evaluation/SequentialEvaluator.py\n",
      "/kaggle/input/sentence-transformers-dataset/sentence-transformers/sentence_transformers/evaluation/SimilarityFunction.py\n",
      "/kaggle/input/sentence-transformers-dataset/sentence-transformers/sentence_transformers/evaluation/EmbeddingSimilarityEvaluator.py\n",
      "/kaggle/input/sentence-transformers-dataset/sentence-transformers/sentence_transformers/evaluation/BinaryClassificationEvaluator.py\n",
      "/kaggle/input/sentence-transformers-dataset/sentence-transformers/sentence_transformers/evaluation/LabelAccuracyEvaluator.py\n",
      "/kaggle/input/sentence-transformers-dataset/sentence-transformers/sentence_transformers/evaluation/TripletEvaluator.py\n",
      "/kaggle/input/sentence-transformers-dataset/sentence-transformers/sentence_transformers/evaluation/TranslationEvaluator.py\n",
      "/kaggle/input/sentence-transformers-dataset/sentence-transformers/sentence_transformers/evaluation/InformationRetrievalEvaluator.py\n",
      "/kaggle/input/sentence-transformers-dataset/sentence-transformers/sentence_transformers/evaluation/MSEEvaluator.py\n",
      "/kaggle/input/sentence-transformers-dataset/sentence-transformers/sentence_transformers/evaluation/SentenceEvaluator.py\n",
      "/kaggle/input/sentence-transformers-dataset/sentence-transformers/sentence_transformers/evaluation/__init__.py\n",
      "/kaggle/input/sentence-transformers-dataset/sentence-transformers/docs/conf.py\n",
      "/kaggle/input/sentence-transformers-dataset/sentence-transformers/docs/pretrained_cross-encoders.md\n",
      "/kaggle/input/sentence-transformers-dataset/sentence-transformers/docs/contact.md\n",
      "/kaggle/input/sentence-transformers-dataset/sentence-transformers/docs/quickstart.md\n",
      "/kaggle/input/sentence-transformers-dataset/sentence-transformers/docs/pretrained_models.md\n",
      "/kaggle/input/sentence-transformers-dataset/sentence-transformers/docs/installation.md\n",
      "/kaggle/input/sentence-transformers-dataset/sentence-transformers/docs/publications.md\n",
      "/kaggle/input/sentence-transformers-dataset/sentence-transformers/docs/hugging_face.md\n",
      "/kaggle/input/sentence-transformers-dataset/sentence-transformers/docs/package_reference/losses.md\n",
      "/kaggle/input/sentence-transformers-dataset/sentence-transformers/docs/package_reference/util.md\n",
      "/kaggle/input/sentence-transformers-dataset/sentence-transformers/docs/package_reference/datasets.md\n",
      "/kaggle/input/sentence-transformers-dataset/sentence-transformers/docs/package_reference/cross_encoder.md\n",
      "/kaggle/input/sentence-transformers-dataset/sentence-transformers/docs/package_reference/SentenceTransformer.md\n",
      "/kaggle/input/sentence-transformers-dataset/sentence-transformers/docs/package_reference/models.md\n",
      "/kaggle/input/sentence-transformers-dataset/sentence-transformers/docs/package_reference/evaluation.md\n",
      "/kaggle/input/sentence-transformers-dataset/sentence-transformers/docs/training/overview.md\n",
      "/kaggle/input/sentence-transformers-dataset/sentence-transformers/docs/_static/html/models_en_sentence_embeddings.html\n",
      "/kaggle/input/sentence-transformers-dataset/sentence-transformers/docs/_static/css/custom.css\n",
      "/kaggle/input/sentence-transformers-dataset/sentence-transformers/docs/_static/js/custom.js\n",
      "/kaggle/input/sentence-transformers-dataset/sentence-transformers/docs/usage/semantic_textual_similarity.md\n",
      "/kaggle/input/sentence-transformers-dataset/sentence-transformers/docs/pretrained-models/msmarco-v2.md\n",
      "/kaggle/input/sentence-transformers-dataset/sentence-transformers/docs/pretrained-models/dpr.md\n",
      "/kaggle/input/sentence-transformers-dataset/sentence-transformers/docs/pretrained-models/msmarco-v5.md\n",
      "/kaggle/input/sentence-transformers-dataset/sentence-transformers/docs/pretrained-models/msmarco-v3.md\n",
      "/kaggle/input/sentence-transformers-dataset/sentence-transformers/docs/pretrained-models/sts-models.md\n",
      "/kaggle/input/sentence-transformers-dataset/sentence-transformers/docs/pretrained-models/nli-models.md\n",
      "/kaggle/input/sentence-transformers-dataset/sentence-transformers/docs/pretrained-models/nq-v1.md\n",
      "/kaggle/input/sentence-transformers-dataset/sentence-transformers/docs/pretrained-models/ce-msmarco.md\n",
      "/kaggle/input/sentence-transformers-dataset/sentence-transformers/docs/pretrained-models/msmarco-v1.md\n",
      "/kaggle/input/sentence-transformers-dataset/sentence-transformers/docs/pretrained-models/wikipedia-sections-models.md\n",
      "/kaggle/input/sentence-transformers-dataset/sentence-transformers/docs/_themes/sphinx_rtd_theme/search.html\n",
      "/kaggle/input/sentence-transformers-dataset/sentence-transformers/docs/_themes/sphinx_rtd_theme/versions.html\n",
      "/kaggle/input/sentence-transformers-dataset/sentence-transformers/docs/_themes/sphinx_rtd_theme/breadcrumbs.html\n",
      "/kaggle/input/sentence-transformers-dataset/sentence-transformers/docs/_themes/sphinx_rtd_theme/layout.html\n",
      "/kaggle/input/sentence-transformers-dataset/sentence-transformers/docs/_themes/sphinx_rtd_theme/searchbox.html\n",
      "/kaggle/input/sentence-transformers-dataset/sentence-transformers/docs/_themes/sphinx_rtd_theme/footer.html\n",
      "/kaggle/input/sentence-transformers-dataset/sentence-transformers/docs/_themes/sphinx_rtd_theme/theme.conf\n",
      "/kaggle/input/sentence-transformers-dataset/sentence-transformers/docs/_themes/sphinx_rtd_theme/__init__.py\n",
      "/kaggle/input/sentence-transformers-dataset/sentence-transformers/docs/_themes/sphinx_rtd_theme/static/css/badge_only.css\n",
      "/kaggle/input/sentence-transformers-dataset/sentence-transformers/docs/_themes/sphinx_rtd_theme/static/css/theme.css\n",
      "/kaggle/input/sentence-transformers-dataset/sentence-transformers/docs/_themes/sphinx_rtd_theme/static/css/fonts/fontawesome-webfont.woff2\n",
      "/kaggle/input/sentence-transformers-dataset/sentence-transformers/docs/_themes/sphinx_rtd_theme/static/css/fonts/lato-bold-italic.woff\n",
      "/kaggle/input/sentence-transformers-dataset/sentence-transformers/docs/_themes/sphinx_rtd_theme/static/css/fonts/lato-normal-italic.woff2\n",
      "/kaggle/input/sentence-transformers-dataset/sentence-transformers/docs/_themes/sphinx_rtd_theme/static/css/fonts/Roboto-Slab-Regular.woff\n",
      "/kaggle/input/sentence-transformers-dataset/sentence-transformers/docs/_themes/sphinx_rtd_theme/static/css/fonts/lato-normal.woff2\n",
      "/kaggle/input/sentence-transformers-dataset/sentence-transformers/docs/_themes/sphinx_rtd_theme/static/css/fonts/fontawesome-webfont.woff\n",
      "/kaggle/input/sentence-transformers-dataset/sentence-transformers/docs/_themes/sphinx_rtd_theme/static/css/fonts/lato-bold.woff\n",
      "/kaggle/input/sentence-transformers-dataset/sentence-transformers/docs/_themes/sphinx_rtd_theme/static/css/fonts/lato-bold.woff2\n",
      "/kaggle/input/sentence-transformers-dataset/sentence-transformers/docs/_themes/sphinx_rtd_theme/static/css/fonts/fontawesome-webfont.ttf\n",
      "/kaggle/input/sentence-transformers-dataset/sentence-transformers/docs/_themes/sphinx_rtd_theme/static/css/fonts/Roboto-Slab-Bold.woff\n",
      "/kaggle/input/sentence-transformers-dataset/sentence-transformers/docs/_themes/sphinx_rtd_theme/static/css/fonts/lato-bold-italic.woff2\n",
      "/kaggle/input/sentence-transformers-dataset/sentence-transformers/docs/_themes/sphinx_rtd_theme/static/css/fonts/lato-normal.woff\n",
      "/kaggle/input/sentence-transformers-dataset/sentence-transformers/docs/_themes/sphinx_rtd_theme/static/css/fonts/fontawesome-webfont.svg\n",
      "/kaggle/input/sentence-transformers-dataset/sentence-transformers/docs/_themes/sphinx_rtd_theme/static/css/fonts/Roboto-Slab-Bold.woff2\n",
      "/kaggle/input/sentence-transformers-dataset/sentence-transformers/docs/_themes/sphinx_rtd_theme/static/css/fonts/lato-normal-italic.woff\n",
      "/kaggle/input/sentence-transformers-dataset/sentence-transformers/docs/_themes/sphinx_rtd_theme/static/css/fonts/Roboto-Slab-Regular.woff2\n",
      "/kaggle/input/sentence-transformers-dataset/sentence-transformers/docs/_themes/sphinx_rtd_theme/static/css/fonts/fontawesome-webfont.eot\n",
      "/kaggle/input/sentence-transformers-dataset/sentence-transformers/docs/_themes/sphinx_rtd_theme/static/js/badge_only.js\n",
      "/kaggle/input/sentence-transformers-dataset/sentence-transformers/docs/_themes/sphinx_rtd_theme/static/js/theme.js\n",
      "/kaggle/input/sentence-transformers-dataset/sentence-transformers/docs/_themes/sphinx_rtd_theme/locale/sphinx.pot\n",
      "/kaggle/input/sentence-transformers-dataset/sentence-transformers/docs/_themes/sphinx_rtd_theme/locale/zh_CN/LC_MESSAGES/sphinx.mo\n",
      "/kaggle/input/sentence-transformers-dataset/sentence-transformers/docs/_themes/sphinx_rtd_theme/locale/zh_CN/LC_MESSAGES/sphinx.po\n",
      "/kaggle/input/sentence-transformers-dataset/sentence-transformers/docs/_themes/sphinx_rtd_theme/locale/sv/LC_MESSAGES/sphinx.mo\n",
      "/kaggle/input/sentence-transformers-dataset/sentence-transformers/docs/_themes/sphinx_rtd_theme/locale/sv/LC_MESSAGES/sphinx.po\n",
      "/kaggle/input/sentence-transformers-dataset/sentence-transformers/docs/_themes/sphinx_rtd_theme/locale/es/LC_MESSAGES/sphinx.mo\n",
      "/kaggle/input/sentence-transformers-dataset/sentence-transformers/docs/_themes/sphinx_rtd_theme/locale/es/LC_MESSAGES/sphinx.po\n",
      "/kaggle/input/sentence-transformers-dataset/sentence-transformers/docs/_themes/sphinx_rtd_theme/locale/tr/LC_MESSAGES/sphinx.mo\n",
      "/kaggle/input/sentence-transformers-dataset/sentence-transformers/docs/_themes/sphinx_rtd_theme/locale/tr/LC_MESSAGES/sphinx.po\n",
      "/kaggle/input/sentence-transformers-dataset/sentence-transformers/docs/_themes/sphinx_rtd_theme/locale/nl/LC_MESSAGES/sphinx.mo\n",
      "/kaggle/input/sentence-transformers-dataset/sentence-transformers/docs/_themes/sphinx_rtd_theme/locale/nl/LC_MESSAGES/sphinx.po\n",
      "/kaggle/input/sentence-transformers-dataset/sentence-transformers/docs/_themes/sphinx_rtd_theme/locale/et/LC_MESSAGES/sphinx.mo\n",
      "/kaggle/input/sentence-transformers-dataset/sentence-transformers/docs/_themes/sphinx_rtd_theme/locale/et/LC_MESSAGES/sphinx.po\n",
      "/kaggle/input/sentence-transformers-dataset/sentence-transformers/docs/_themes/sphinx_rtd_theme/locale/ru/LC_MESSAGES/sphinx.mo\n",
      "/kaggle/input/sentence-transformers-dataset/sentence-transformers/docs/_themes/sphinx_rtd_theme/locale/ru/LC_MESSAGES/sphinx.po\n",
      "/kaggle/input/sentence-transformers-dataset/sentence-transformers/docs/_themes/sphinx_rtd_theme/locale/pt_BR/LC_MESSAGES/sphinx.mo\n",
      "/kaggle/input/sentence-transformers-dataset/sentence-transformers/docs/_themes/sphinx_rtd_theme/locale/pt_BR/LC_MESSAGES/sphinx.po\n",
      "/kaggle/input/sentence-transformers-dataset/sentence-transformers/docs/_themes/sphinx_rtd_theme/locale/fr/LC_MESSAGES/sphinx.mo\n",
      "/kaggle/input/sentence-transformers-dataset/sentence-transformers/docs/_themes/sphinx_rtd_theme/locale/fr/LC_MESSAGES/sphinx.po\n",
      "/kaggle/input/sentence-transformers-dataset/sentence-transformers/docs/_themes/sphinx_rtd_theme/locale/de/LC_MESSAGES/sphinx.mo\n",
      "/kaggle/input/sentence-transformers-dataset/sentence-transformers/docs/_themes/sphinx_rtd_theme/locale/de/LC_MESSAGES/sphinx.po\n",
      "/kaggle/input/sentence-transformers-dataset/sentence-transformers/docs/_themes/sphinx_rtd_theme/locale/en/LC_MESSAGES/sphinx.mo\n",
      "/kaggle/input/sentence-transformers-dataset/sentence-transformers/docs/_themes/sphinx_rtd_theme/locale/en/LC_MESSAGES/sphinx.po\n",
      "/kaggle/input/sentence-transformers-dataset/sentence-transformers/docs/img/favicon.ico\n",
      "/kaggle/input/sentence-transformers-dataset/sentence-transformers/docs/img/SimCSE.png\n",
      "/kaggle/input/sentence-transformers-dataset/sentence-transformers/docs/img/MultipleNegativeRankingLoss.png\n",
      "/kaggle/input/sentence-transformers-dataset/sentence-transformers/docs/img/gpl_negatives.jpg\n",
      "/kaggle/input/sentence-transformers-dataset/sentence-transformers/docs/img/SemanticSearch.png\n",
      "/kaggle/input/sentence-transformers-dataset/sentence-transformers/docs/img/CrossEncoder.png\n",
      "/kaggle/input/sentence-transformers-dataset/sentence-transformers/docs/img/Bi_vs_Cross-Encoder.png\n",
      "/kaggle/input/sentence-transformers-dataset/sentence-transformers/docs/img/adaptive_pre-training.png\n",
      "/kaggle/input/sentence-transformers-dataset/sentence-transformers/docs/img/ImageSearch.png\n",
      "/kaggle/input/sentence-transformers-dataset/sentence-transformers/docs/img/augsbert-domain-transfer.png\n",
      "/kaggle/input/sentence-transformers-dataset/sentence-transformers/docs/img/query-generation.png\n",
      "/kaggle/input/sentence-transformers-dataset/sentence-transformers/docs/img/InformationRetrieval.png\n",
      "/kaggle/input/sentence-transformers-dataset/sentence-transformers/docs/img/TSDAE.png\n",
      "/kaggle/input/sentence-transformers-dataset/sentence-transformers/docs/img/gpl_steps.png\n",
      "/kaggle/input/sentence-transformers-dataset/sentence-transformers/docs/img/msmarco-training-ce-distillation.png\n",
      "/kaggle/input/sentence-transformers-dataset/sentence-transformers/docs/img/SBERT_SoftmaxLoss.png\n",
      "/kaggle/input/sentence-transformers-dataset/sentence-transformers/docs/img/20news_semantic.png\n",
      "/kaggle/input/sentence-transformers-dataset/sentence-transformers/docs/img/gpl_overview.png\n",
      "/kaggle/input/sentence-transformers-dataset/sentence-transformers/docs/img/logo.svg\n",
      "/kaggle/input/sentence-transformers-dataset/sentence-transformers/docs/img/augsbert-indomain.png\n",
      "/kaggle/input/sentence-transformers-dataset/sentence-transformers/docs/img/logo.xcf\n",
      "/kaggle/input/sentence-transformers-dataset/sentence-transformers/docs/img/CT.jpg\n",
      "/kaggle/input/sentence-transformers-dataset/sentence-transformers/docs/img/BiEncoder.png\n",
      "/kaggle/input/sentence-transformers-dataset/sentence-transformers/docs/img/gpl_architecture.png\n",
      "/kaggle/input/sentence-transformers-dataset/sentence-transformers/docs/img/SBERT_Architecture.png\n",
      "/kaggle/input/sentence-transformers-dataset/sentence-transformers/docs/img/monolingual-distillation.png\n",
      "/kaggle/input/sentence-transformers-dataset/sentence-transformers/docs/img/logo_org.png\n",
      "/kaggle/input/sentence-transformers-dataset/sentence-transformers/docs/img/MLM.png\n",
      "/kaggle/input/sentence-transformers-dataset/sentence-transformers/docs/img/logo.png\n",
      "/kaggle/input/sentence-transformers-dataset/sentence-transformers/docs/img/multilingual-distillation.png\n",
      "/kaggle/input/sentence-transformers-dataset/sentence-transformers/docs/img/SBERT_Siamese_Network.png\n",
      "/kaggle/input/sentence-transformers-dataset/sentence-transformers/docs/img/20news_top2vec.png\n",
      "/kaggle/input/sentence-transformers-dataset/sentence-transformers/.git/config\n",
      "/kaggle/input/sentence-transformers-dataset/sentence-transformers/.git/packed-refs\n",
      "/kaggle/input/sentence-transformers-dataset/sentence-transformers/.git/HEAD\n",
      "/kaggle/input/sentence-transformers-dataset/sentence-transformers/.git/index\n",
      "/kaggle/input/sentence-transformers-dataset/sentence-transformers/.git/description\n",
      "/kaggle/input/sentence-transformers-dataset/sentence-transformers/.git/info/exclude\n",
      "/kaggle/input/sentence-transformers-dataset/sentence-transformers/.git/refs/heads/master\n",
      "/kaggle/input/sentence-transformers-dataset/sentence-transformers/.git/refs/remotes/origin/HEAD\n",
      "/kaggle/input/sentence-transformers-dataset/sentence-transformers/.git/hooks/pre-merge-commit.sample\n",
      "/kaggle/input/sentence-transformers-dataset/sentence-transformers/.git/hooks/prepare-commit-msg.sample\n",
      "/kaggle/input/sentence-transformers-dataset/sentence-transformers/.git/hooks/update.sample\n",
      "/kaggle/input/sentence-transformers-dataset/sentence-transformers/.git/hooks/pre-push.sample\n",
      "/kaggle/input/sentence-transformers-dataset/sentence-transformers/.git/hooks/pre-rebase.sample\n",
      "/kaggle/input/sentence-transformers-dataset/sentence-transformers/.git/hooks/pre-applypatch.sample\n",
      "/kaggle/input/sentence-transformers-dataset/sentence-transformers/.git/hooks/pre-commit.sample\n",
      "/kaggle/input/sentence-transformers-dataset/sentence-transformers/.git/hooks/commit-msg.sample\n",
      "/kaggle/input/sentence-transformers-dataset/sentence-transformers/.git/hooks/post-update.sample\n",
      "/kaggle/input/sentence-transformers-dataset/sentence-transformers/.git/hooks/pre-receive.sample\n",
      "/kaggle/input/sentence-transformers-dataset/sentence-transformers/.git/hooks/fsmonitor-watchman.sample\n",
      "/kaggle/input/sentence-transformers-dataset/sentence-transformers/.git/hooks/applypatch-msg.sample\n",
      "/kaggle/input/sentence-transformers-dataset/sentence-transformers/.git/logs/HEAD\n",
      "/kaggle/input/sentence-transformers-dataset/sentence-transformers/.git/logs/refs/heads/master\n",
      "/kaggle/input/sentence-transformers-dataset/sentence-transformers/.git/logs/refs/remotes/origin/HEAD\n",
      "/kaggle/input/sentence-transformers-dataset/sentence-transformers/.git/objects/pack/pack-eae2bd310db67d28e8965d7bd338ed48dafffd7b.idx\n",
      "/kaggle/input/sentence-transformers-dataset/sentence-transformers/.git/objects/pack/pack-eae2bd310db67d28e8965d7bd338ed48dafffd7b.pack\n",
      "/kaggle/input/commonlit-evaluate-student-summaries/sample_submission.csv\n",
      "/kaggle/input/commonlit-evaluate-student-summaries/prompts_train.csv\n",
      "/kaggle/input/commonlit-evaluate-student-summaries/summaries_test.csv\n",
      "/kaggle/input/commonlit-evaluate-student-summaries/summaries_train.csv\n",
      "/kaggle/input/commonlit-evaluate-student-summaries/prompts_test.csv\n",
      "/kaggle/input/sentence-transformers-models/__results__.html\n",
      "/kaggle/input/sentence-transformers-models/__resultx__.html\n",
      "/kaggle/input/sentence-transformers-models/__notebook__.ipynb\n",
      "/kaggle/input/sentence-transformers-models/__output__.json\n",
      "/kaggle/input/sentence-transformers-models/custom.css\n",
      "/kaggle/input/sentence-transformers-models/all-MiniLM-L6-v2/config.json\n",
      "/kaggle/input/sentence-transformers-models/all-MiniLM-L6-v2/README.md\n",
      "/kaggle/input/sentence-transformers-models/all-MiniLM-L6-v2/tokenizer.json\n",
      "/kaggle/input/sentence-transformers-models/all-MiniLM-L6-v2/tokenizer_config.json\n",
      "/kaggle/input/sentence-transformers-models/all-MiniLM-L6-v2/sentence_bert_config.json\n",
      "/kaggle/input/sentence-transformers-models/all-MiniLM-L6-v2/pytorch_model.bin\n",
      "/kaggle/input/sentence-transformers-models/all-MiniLM-L6-v2/config_sentence_transformers.json\n",
      "/kaggle/input/sentence-transformers-models/all-MiniLM-L6-v2/modules.json\n",
      "/kaggle/input/sentence-transformers-models/all-MiniLM-L6-v2/special_tokens_map.json\n",
      "/kaggle/input/sentence-transformers-models/all-MiniLM-L6-v2/vocab.txt\n",
      "/kaggle/input/sentence-transformers-models/all-MiniLM-L6-v2/1_Pooling/config.json\n",
      "/kaggle/input/sentence-transformers-models/cross-encoder/ms-marco-MiniLM-L-12-v2/config.json\n",
      "/kaggle/input/sentence-transformers-models/cross-encoder/ms-marco-MiniLM-L-12-v2/tokenizer.json\n",
      "/kaggle/input/sentence-transformers-models/cross-encoder/ms-marco-MiniLM-L-12-v2/tokenizer_config.json\n",
      "/kaggle/input/sentence-transformers-models/cross-encoder/ms-marco-MiniLM-L-12-v2/pytorch_model.bin\n",
      "/kaggle/input/sentence-transformers-models/cross-encoder/ms-marco-MiniLM-L-12-v2/special_tokens_map.json\n",
      "/kaggle/input/sentence-transformers-models/cross-encoder/ms-marco-MiniLM-L-12-v2/vocab.txt\n",
      "/kaggle/input/sentence-transformers-models/cross-encoder/quora-roberta-large/config.json\n",
      "/kaggle/input/sentence-transformers-models/cross-encoder/quora-roberta-large/merges.txt\n",
      "/kaggle/input/sentence-transformers-models/cross-encoder/quora-roberta-large/tokenizer.json\n",
      "/kaggle/input/sentence-transformers-models/cross-encoder/quora-roberta-large/vocab.json\n",
      "/kaggle/input/sentence-transformers-models/cross-encoder/quora-roberta-large/tokenizer_config.json\n",
      "/kaggle/input/sentence-transformers-models/cross-encoder/quora-roberta-large/pytorch_model.bin\n",
      "/kaggle/input/sentence-transformers-models/cross-encoder/quora-roberta-large/special_tokens_map.json\n",
      "/kaggle/input/sentence-transformers-models/cross-encoder/stsb-roberta-base/config.json\n",
      "/kaggle/input/sentence-transformers-models/cross-encoder/stsb-roberta-base/merges.txt\n",
      "/kaggle/input/sentence-transformers-models/cross-encoder/stsb-roberta-base/tokenizer.json\n",
      "/kaggle/input/sentence-transformers-models/cross-encoder/stsb-roberta-base/vocab.json\n",
      "/kaggle/input/sentence-transformers-models/cross-encoder/stsb-roberta-base/tokenizer_config.json\n",
      "/kaggle/input/sentence-transformers-models/cross-encoder/stsb-roberta-base/pytorch_model.bin\n",
      "/kaggle/input/sentence-transformers-models/cross-encoder/stsb-roberta-base/special_tokens_map.json\n",
      "/kaggle/input/sentence-transformers-models/cross-encoder/stsb-roberta-large/config.json\n",
      "/kaggle/input/sentence-transformers-models/cross-encoder/stsb-roberta-large/merges.txt\n",
      "/kaggle/input/sentence-transformers-models/cross-encoder/stsb-roberta-large/tokenizer.json\n",
      "/kaggle/input/sentence-transformers-models/cross-encoder/stsb-roberta-large/vocab.json\n",
      "/kaggle/input/sentence-transformers-models/cross-encoder/stsb-roberta-large/tokenizer_config.json\n",
      "/kaggle/input/sentence-transformers-models/cross-encoder/stsb-roberta-large/pytorch_model.bin\n",
      "/kaggle/input/sentence-transformers-models/cross-encoder/stsb-roberta-large/special_tokens_map.json\n",
      "/kaggle/input/sentence-transformers-models/cross-encoder/quora-roberta-base/config.json\n",
      "/kaggle/input/sentence-transformers-models/cross-encoder/quora-roberta-base/merges.txt\n",
      "/kaggle/input/sentence-transformers-models/cross-encoder/quora-roberta-base/tokenizer.json\n",
      "/kaggle/input/sentence-transformers-models/cross-encoder/quora-roberta-base/vocab.json\n",
      "/kaggle/input/sentence-transformers-models/cross-encoder/quora-roberta-base/tokenizer_config.json\n",
      "/kaggle/input/sentence-transformers-models/cross-encoder/quora-roberta-base/pytorch_model.bin\n",
      "/kaggle/input/sentence-transformers-models/cross-encoder/quora-roberta-base/special_tokens_map.json\n",
      "/kaggle/input/sentence-transformers-models/paraphrase-MiniLM-L3-v2/config.json\n",
      "/kaggle/input/sentence-transformers-models/paraphrase-MiniLM-L3-v2/README.md\n",
      "/kaggle/input/sentence-transformers-models/paraphrase-MiniLM-L3-v2/tokenizer.json\n",
      "/kaggle/input/sentence-transformers-models/paraphrase-MiniLM-L3-v2/tokenizer_config.json\n",
      "/kaggle/input/sentence-transformers-models/paraphrase-MiniLM-L3-v2/sentence_bert_config.json\n",
      "/kaggle/input/sentence-transformers-models/paraphrase-MiniLM-L3-v2/pytorch_model.bin\n",
      "/kaggle/input/sentence-transformers-models/paraphrase-MiniLM-L3-v2/config_sentence_transformers.json\n",
      "/kaggle/input/sentence-transformers-models/paraphrase-MiniLM-L3-v2/modules.json\n",
      "/kaggle/input/sentence-transformers-models/paraphrase-MiniLM-L3-v2/special_tokens_map.json\n",
      "/kaggle/input/sentence-transformers-models/paraphrase-MiniLM-L3-v2/vocab.txt\n",
      "/kaggle/input/sentence-transformers-models/paraphrase-MiniLM-L3-v2/1_Pooling/config.json\n"
     ]
    }
   ],
   "source": [
    "# This Python 3 environment comes with many helpful analytics libraries installed\n",
    "# It is defined by the kaggle/python Docker image: https://github.com/kaggle/docker-python\n",
    "# For example, here's several helpful packages to load\n",
    "\n",
    "import numpy as np # linear algebra\n",
    "import pandas as pd # data processing, CSV file I/O (e.g. pd.read_csv)\n",
    "\n",
    "# Input data files are available in the read-only \"../input/\" directory\n",
    "# For example, running this (by clicking run or pressing Shift+Enter) will list all files under the input directory\n",
    "\n",
    "import os\n",
    "for dirname, _, filenames in os.walk('/kaggle/input'):\n",
    "    for filename in filenames:\n",
    "        print(os.path.join(dirname, filename))\n",
    "\n",
    "# You can write up to 20GB to the current directory (/kaggle/working/) that gets preserved as output when you create a version using \"Save & Run All\" \n",
    "# You can also write temporary files to /kaggle/temp/, but they won't be saved outside of the current session"
   ]
  },
  {
   "cell_type": "code",
   "execution_count": 2,
   "id": "57b19e34",
   "metadata": {
    "_cell_guid": "9a28941e-b386-4849-8da3-c55e35bd5943",
    "_uuid": "ca19e382-e2b9-425c-95fb-f0693739f247",
    "collapsed": false,
    "execution": {
     "iopub.execute_input": "2023-10-10T00:06:32.578188Z",
     "iopub.status.busy": "2023-10-10T00:06:32.577389Z",
     "iopub.status.idle": "2023-10-10T00:07:13.563830Z",
     "shell.execute_reply": "2023-10-10T00:07:13.562536Z"
    },
    "jupyter": {
     "outputs_hidden": false
    },
    "papermill": {
     "duration": 40.998262,
     "end_time": "2023-10-10T00:07:13.566612",
     "exception": false,
     "start_time": "2023-10-10T00:06:32.568350",
     "status": "completed"
    },
    "tags": []
   },
   "outputs": [
    {
     "name": "stdout",
     "output_type": "stream",
     "text": [
      "Processing /tmp/st\r\n",
      "  Preparing metadata (setup.py) ... \u001b[?25l-\b \bdone\r\n",
      "\u001b[?25hRequirement already satisfied: transformers<5.0.0,>=4.6.0 in /opt/conda/lib/python3.10/site-packages (from sentence-transformers==2.2.2) (4.33.0)\r\n",
      "Requirement already satisfied: tqdm in /opt/conda/lib/python3.10/site-packages (from sentence-transformers==2.2.2) (4.66.1)\r\n",
      "Requirement already satisfied: torch>=1.6.0 in /opt/conda/lib/python3.10/site-packages (from sentence-transformers==2.2.2) (2.0.0+cpu)\r\n",
      "Requirement already satisfied: torchvision in /opt/conda/lib/python3.10/site-packages (from sentence-transformers==2.2.2) (0.15.1+cpu)\r\n",
      "Requirement already satisfied: numpy in /opt/conda/lib/python3.10/site-packages (from sentence-transformers==2.2.2) (1.23.5)\r\n",
      "Requirement already satisfied: scikit-learn in /opt/conda/lib/python3.10/site-packages (from sentence-transformers==2.2.2) (1.2.2)\r\n",
      "Requirement already satisfied: scipy in /opt/conda/lib/python3.10/site-packages (from sentence-transformers==2.2.2) (1.11.2)\r\n",
      "Requirement already satisfied: nltk in /opt/conda/lib/python3.10/site-packages (from sentence-transformers==2.2.2) (3.2.4)\r\n",
      "Requirement already satisfied: sentencepiece in /opt/conda/lib/python3.10/site-packages (from sentence-transformers==2.2.2) (0.1.99)\r\n",
      "Requirement already satisfied: huggingface-hub>=0.4.0 in /opt/conda/lib/python3.10/site-packages (from sentence-transformers==2.2.2) (0.16.4)\r\n",
      "Requirement already satisfied: filelock in /opt/conda/lib/python3.10/site-packages (from huggingface-hub>=0.4.0->sentence-transformers==2.2.2) (3.12.2)\r\n",
      "Requirement already satisfied: fsspec in /opt/conda/lib/python3.10/site-packages (from huggingface-hub>=0.4.0->sentence-transformers==2.2.2) (2023.9.0)\r\n",
      "Requirement already satisfied: requests in /opt/conda/lib/python3.10/site-packages (from huggingface-hub>=0.4.0->sentence-transformers==2.2.2) (2.31.0)\r\n",
      "Requirement already satisfied: pyyaml>=5.1 in /opt/conda/lib/python3.10/site-packages (from huggingface-hub>=0.4.0->sentence-transformers==2.2.2) (6.0)\r\n",
      "Requirement already satisfied: typing-extensions>=3.7.4.3 in /opt/conda/lib/python3.10/site-packages (from huggingface-hub>=0.4.0->sentence-transformers==2.2.2) (4.6.3)\r\n",
      "Requirement already satisfied: packaging>=20.9 in /opt/conda/lib/python3.10/site-packages (from huggingface-hub>=0.4.0->sentence-transformers==2.2.2) (21.3)\r\n",
      "Requirement already satisfied: sympy in /opt/conda/lib/python3.10/site-packages (from torch>=1.6.0->sentence-transformers==2.2.2) (1.12)\r\n",
      "Requirement already satisfied: networkx in /opt/conda/lib/python3.10/site-packages (from torch>=1.6.0->sentence-transformers==2.2.2) (3.1)\r\n",
      "Requirement already satisfied: jinja2 in /opt/conda/lib/python3.10/site-packages (from torch>=1.6.0->sentence-transformers==2.2.2) (3.1.2)\r\n",
      "Requirement already satisfied: regex!=2019.12.17 in /opt/conda/lib/python3.10/site-packages (from transformers<5.0.0,>=4.6.0->sentence-transformers==2.2.2) (2023.6.3)\r\n",
      "Requirement already satisfied: tokenizers!=0.11.3,<0.14,>=0.11.1 in /opt/conda/lib/python3.10/site-packages (from transformers<5.0.0,>=4.6.0->sentence-transformers==2.2.2) (0.13.3)\r\n",
      "Requirement already satisfied: safetensors>=0.3.1 in /opt/conda/lib/python3.10/site-packages (from transformers<5.0.0,>=4.6.0->sentence-transformers==2.2.2) (0.3.3)\r\n",
      "Requirement already satisfied: six in /opt/conda/lib/python3.10/site-packages (from nltk->sentence-transformers==2.2.2) (1.16.0)\r\n",
      "Requirement already satisfied: joblib>=1.1.1 in /opt/conda/lib/python3.10/site-packages (from scikit-learn->sentence-transformers==2.2.2) (1.3.2)\r\n",
      "Requirement already satisfied: threadpoolctl>=2.0.0 in /opt/conda/lib/python3.10/site-packages (from scikit-learn->sentence-transformers==2.2.2) (3.1.0)\r\n",
      "Requirement already satisfied: pillow!=8.3.*,>=5.3.0 in /opt/conda/lib/python3.10/site-packages (from torchvision->sentence-transformers==2.2.2) (9.5.0)\r\n",
      "Requirement already satisfied: pyparsing!=3.0.5,>=2.0.2 in /opt/conda/lib/python3.10/site-packages (from packaging>=20.9->huggingface-hub>=0.4.0->sentence-transformers==2.2.2) (3.0.9)\r\n",
      "Requirement already satisfied: MarkupSafe>=2.0 in /opt/conda/lib/python3.10/site-packages (from jinja2->torch>=1.6.0->sentence-transformers==2.2.2) (2.1.3)\r\n",
      "Requirement already satisfied: charset-normalizer<4,>=2 in /opt/conda/lib/python3.10/site-packages (from requests->huggingface-hub>=0.4.0->sentence-transformers==2.2.2) (3.1.0)\r\n",
      "Requirement already satisfied: idna<4,>=2.5 in /opt/conda/lib/python3.10/site-packages (from requests->huggingface-hub>=0.4.0->sentence-transformers==2.2.2) (3.4)\r\n",
      "Requirement already satisfied: urllib3<3,>=1.21.1 in /opt/conda/lib/python3.10/site-packages (from requests->huggingface-hub>=0.4.0->sentence-transformers==2.2.2) (1.26.15)\r\n",
      "Requirement already satisfied: certifi>=2017.4.17 in /opt/conda/lib/python3.10/site-packages (from requests->huggingface-hub>=0.4.0->sentence-transformers==2.2.2) (2023.7.22)\r\n",
      "Requirement already satisfied: mpmath>=0.19 in /opt/conda/lib/python3.10/site-packages (from sympy->torch>=1.6.0->sentence-transformers==2.2.2) (1.3.0)\r\n",
      "Building wheels for collected packages: sentence-transformers\r\n",
      "  Building wheel for sentence-transformers (setup.py) ... \u001b[?25l-\b \b\\\b \bdone\r\n",
      "\u001b[?25h  Created wheel for sentence-transformers: filename=sentence_transformers-2.2.2-py3-none-any.whl size=126132 sha256=ec4c97f1af320153d230ca0fb23cbf53f688c1f91525590c9d1588db94db762f\r\n",
      "  Stored in directory: /tmp/pip-ephem-wheel-cache-8e8kxruk/wheels/75/66/b4/7e3615e01e698b0515db7fe537d95df69218ed36339b7dfb5d\r\n",
      "Successfully built sentence-transformers\r\n",
      "Installing collected packages: sentence-transformers\r\n",
      "Successfully installed sentence-transformers-2.2.2\r\n"
     ]
    }
   ],
   "source": [
    "!cp -r ../input/sentence-transformers-dataset/sentence-transformers /tmp/st\n",
    "!pip install /tmp/st"
   ]
  },
  {
   "cell_type": "code",
   "execution_count": 3,
   "id": "b0629919",
   "metadata": {
    "_cell_guid": "e8707652-fc44-43b1-b307-fd3b88a247bd",
    "_uuid": "32bf82c4-ffa1-4af5-bbad-4e94ed03a878",
    "collapsed": false,
    "execution": {
     "iopub.execute_input": "2023-10-10T00:07:13.586358Z",
     "iopub.status.busy": "2023-10-10T00:07:13.585618Z",
     "iopub.status.idle": "2023-10-10T00:07:36.941031Z",
     "shell.execute_reply": "2023-10-10T00:07:36.940120Z"
    },
    "jupyter": {
     "outputs_hidden": false
    },
    "papermill": {
     "duration": 23.368346,
     "end_time": "2023-10-10T00:07:36.943835",
     "exception": false,
     "start_time": "2023-10-10T00:07:13.575489",
     "status": "completed"
    },
    "tags": []
   },
   "outputs": [],
   "source": [
    "import os\n",
    "\n",
    "import pandas as pd\n",
    "import numpy as np\n",
    "import scipy\n",
    "import seaborn as sns\n",
    "import gensim\n",
    "import nltk\n",
    "import spacy\n",
    "import sentence_transformers\n",
    "import re\n",
    "import spacy\n",
    "import matplotlib.pyplot as plt\n",
    "import lightgbm\n",
    "import optuna\n",
    "from sklearn.feature_extraction.text import TfidfVectorizer, CountVectorizer\n",
    "from sklearn.pipeline import Pipeline, FeatureUnion\n",
    "from sklearn.compose import ColumnTransformer\n",
    "from sklearn.model_selection import train_test_split\n",
    "from sklearn.metrics import mean_squared_error\n",
    "from sklearn.preprocessing import RobustScaler, FunctionTransformer\n",
    "from sklearn.metrics.pairwise import cosine_similarity\n",
    "from sklearn.linear_model import LinearRegression, Ridge"
   ]
  },
  {
   "cell_type": "code",
   "execution_count": 4,
   "id": "bb0a869d",
   "metadata": {
    "_cell_guid": "b0a28d0b-388d-4d66-869c-cf05ba12c4c5",
    "_uuid": "1549e9ef-aac6-4129-a300-ac6e798c55bc",
    "collapsed": false,
    "execution": {
     "iopub.execute_input": "2023-10-10T00:07:36.963969Z",
     "iopub.status.busy": "2023-10-10T00:07:36.963622Z",
     "iopub.status.idle": "2023-10-10T00:07:37.086145Z",
     "shell.execute_reply": "2023-10-10T00:07:37.085286Z"
    },
    "jupyter": {
     "outputs_hidden": false
    },
    "papermill": {
     "duration": 0.134985,
     "end_time": "2023-10-10T00:07:37.088318",
     "exception": false,
     "start_time": "2023-10-10T00:07:36.953333",
     "status": "completed"
    },
    "tags": []
   },
   "outputs": [],
   "source": [
    "# dir = \"../data/\"\n",
    "dir = \"/kaggle/input/\"\n",
    "prompts_train = pd.read_csv(os.path.join(dir, \"commonlit-evaluate-student-summaries/prompts_train.csv\"))\n",
    "summaries_train = pd.read_csv(os.path.join(dir, \"commonlit-evaluate-student-summaries/summaries_train.csv\"))\n",
    "\n",
    "prompts_test = pd.read_csv(os.path.join(dir, \"commonlit-evaluate-student-summaries/prompts_test.csv\"))\n",
    "summaries_test = pd.read_csv(os.path.join(dir, \"commonlit-evaluate-student-summaries/summaries_test.csv\"))\n",
    "\n",
    "sample_submission = pd.read_csv(os.path.join(dir, \"commonlit-evaluate-student-summaries/sample_submission.csv\"))"
   ]
  },
  {
   "cell_type": "code",
   "execution_count": 5,
   "id": "0765e6b8",
   "metadata": {
    "_cell_guid": "047f6d75-be62-4073-83a9-f2d7d9037209",
    "_uuid": "7fed86d9-d906-43ac-9565-cd647e6bfc1b",
    "collapsed": false,
    "execution": {
     "iopub.execute_input": "2023-10-10T00:07:37.107816Z",
     "iopub.status.busy": "2023-10-10T00:07:37.107215Z",
     "iopub.status.idle": "2023-10-10T00:07:37.117074Z",
     "shell.execute_reply": "2023-10-10T00:07:37.116268Z"
    },
    "jupyter": {
     "outputs_hidden": false
    },
    "papermill": {
     "duration": 0.022048,
     "end_time": "2023-10-10T00:07:37.119235",
     "exception": false,
     "start_time": "2023-10-10T00:07:37.097187",
     "status": "completed"
    },
    "tags": []
   },
   "outputs": [],
   "source": [
    "def preprocess_general(text):\n",
    "    tokens = nltk.tokenize.word_tokenize(text)\n",
    "    tokens = [t.lower() for t in tokens]\n",
    "    tokens = [t for t in tokens if t.isalpha()]\n",
    "    return \" \".join(tokens)\n",
    "\n",
    "stop_words = set(nltk.corpus.stopwords.words(\"english\"))\n",
    "# lemmatizer = nltk.stem.WordNetLemmatizer()\n",
    "\n",
    "def remove_stopwords_and_lemmatize(text):\n",
    "    filtered = []\n",
    "    for word in nltk.tokenize.word_tokenize(text):\n",
    "        if word.lower() not in stop_words: \n",
    "#             filtered.append(lemmatizer.lemmatize(word))\n",
    "            filtered.append(word)\n",
    "\n",
    "    return \" \".join(filtered)"
   ]
  },
  {
   "cell_type": "code",
   "execution_count": 6,
   "id": "156159bc",
   "metadata": {
    "_cell_guid": "e2029149-3392-4ba7-8592-1e05635f3d87",
    "_uuid": "5d834a48-2268-43ca-aeb4-d52b02d42020",
    "collapsed": false,
    "execution": {
     "iopub.execute_input": "2023-10-10T00:07:37.138100Z",
     "iopub.status.busy": "2023-10-10T00:07:37.137764Z",
     "iopub.status.idle": "2023-10-10T00:07:43.803006Z",
     "shell.execute_reply": "2023-10-10T00:07:43.802216Z"
    },
    "jupyter": {
     "outputs_hidden": false
    },
    "papermill": {
     "duration": 6.677114,
     "end_time": "2023-10-10T00:07:43.805199",
     "exception": false,
     "start_time": "2023-10-10T00:07:37.128085",
     "status": "completed"
    },
    "tags": []
   },
   "outputs": [],
   "source": [
    "summaries_train['cleaned_text'] = summaries_train['text'].apply(preprocess_general)\n",
    "summaries_train['xcleaned_text'] = summaries_train['cleaned_text'].apply(remove_stopwords_and_lemmatize)"
   ]
  },
  {
   "cell_type": "code",
   "execution_count": 7,
   "id": "f98987c4",
   "metadata": {
    "_cell_guid": "e2029149-3392-4ba7-8592-1e05635f3d87",
    "_uuid": "5d834a48-2268-43ca-aeb4-d52b02d42020",
    "collapsed": false,
    "execution": {
     "iopub.execute_input": "2023-10-10T00:07:43.824234Z",
     "iopub.status.busy": "2023-10-10T00:07:43.823878Z",
     "iopub.status.idle": "2023-10-10T00:07:43.831411Z",
     "shell.execute_reply": "2023-10-10T00:07:43.830512Z"
    },
    "jupyter": {
     "outputs_hidden": false
    },
    "papermill": {
     "duration": 0.019214,
     "end_time": "2023-10-10T00:07:43.833556",
     "exception": false,
     "start_time": "2023-10-10T00:07:43.814342",
     "status": "completed"
    },
    "tags": []
   },
   "outputs": [],
   "source": [
    "summaries_test['cleaned_text'] = summaries_test['text'].apply(preprocess_general)\n",
    "summaries_test['xcleaned_text'] = summaries_test['cleaned_text'].apply(remove_stopwords_and_lemmatize)"
   ]
  },
  {
   "cell_type": "code",
   "execution_count": 8,
   "id": "d69c23b9",
   "metadata": {
    "_cell_guid": "4aede796-6a1b-4582-a798-649adae9d499",
    "_uuid": "727e3dd1-efd1-42b5-871c-53fb63c14249",
    "collapsed": false,
    "execution": {
     "iopub.execute_input": "2023-10-10T00:07:43.852573Z",
     "iopub.status.busy": "2023-10-10T00:07:43.851887Z",
     "iopub.status.idle": "2023-10-10T00:07:43.887992Z",
     "shell.execute_reply": "2023-10-10T00:07:43.887183Z"
    },
    "jupyter": {
     "outputs_hidden": false
    },
    "papermill": {
     "duration": 0.047214,
     "end_time": "2023-10-10T00:07:43.889676",
     "exception": false,
     "start_time": "2023-10-10T00:07:43.842462",
     "status": "completed"
    },
    "tags": []
   },
   "outputs": [],
   "source": [
    "prompts_train['cleaned_prompt_text'] = prompts_train['prompt_text'].apply(lambda x: remove_stopwords_and_lemmatize(preprocess_general(x)))"
   ]
  },
  {
   "cell_type": "code",
   "execution_count": 9,
   "id": "03b72261",
   "metadata": {
    "_cell_guid": "4aede796-6a1b-4582-a798-649adae9d499",
    "_uuid": "727e3dd1-efd1-42b5-871c-53fb63c14249",
    "collapsed": false,
    "execution": {
     "iopub.execute_input": "2023-10-10T00:07:43.908712Z",
     "iopub.status.busy": "2023-10-10T00:07:43.908036Z",
     "iopub.status.idle": "2023-10-10T00:07:43.914330Z",
     "shell.execute_reply": "2023-10-10T00:07:43.913303Z"
    },
    "jupyter": {
     "outputs_hidden": false
    },
    "papermill": {
     "duration": 0.017931,
     "end_time": "2023-10-10T00:07:43.916308",
     "exception": false,
     "start_time": "2023-10-10T00:07:43.898377",
     "status": "completed"
    },
    "tags": []
   },
   "outputs": [],
   "source": [
    "prompts_test['cleaned_prompt_text'] = prompts_test['prompt_text'].apply(lambda x: remove_stopwords_and_lemmatize(preprocess_general(x)))"
   ]
  },
  {
   "cell_type": "code",
   "execution_count": 10,
   "id": "00a6981b",
   "metadata": {
    "_cell_guid": "017027a7-17ff-40a1-b44a-48b15d72011a",
    "_uuid": "fb4c1791-d1f0-4a10-9b6f-9e801465f1f2",
    "collapsed": false,
    "execution": {
     "iopub.execute_input": "2023-10-10T00:07:43.934849Z",
     "iopub.status.busy": "2023-10-10T00:07:43.934474Z",
     "iopub.status.idle": "2023-10-10T00:07:45.071469Z",
     "shell.execute_reply": "2023-10-10T00:07:45.070058Z"
    },
    "jupyter": {
     "outputs_hidden": false
    },
    "papermill": {
     "duration": 1.148928,
     "end_time": "2023-10-10T00:07:45.073850",
     "exception": false,
     "start_time": "2023-10-10T00:07:43.924922",
     "status": "completed"
    },
    "tags": []
   },
   "outputs": [
    {
     "name": "stdout",
     "output_type": "stream",
     "text": [
      "commonlit-evaluate-student-summaries  sentence-transformers-models\r\n",
      "sentence-transformers-dataset\r\n"
     ]
    }
   ],
   "source": [
    "!ls ../input"
   ]
  },
  {
   "cell_type": "code",
   "execution_count": 11,
   "id": "9195a582",
   "metadata": {
    "_cell_guid": "6e06607a-f772-4631-a33e-569c3f5c6273",
    "_uuid": "df5648bd-bcc8-466a-912c-fc2d2293f8a3",
    "collapsed": false,
    "execution": {
     "iopub.execute_input": "2023-10-10T00:07:45.094615Z",
     "iopub.status.busy": "2023-10-10T00:07:45.093765Z",
     "iopub.status.idle": "2023-10-10T00:07:47.972811Z",
     "shell.execute_reply": "2023-10-10T00:07:47.971649Z"
    },
    "jupyter": {
     "outputs_hidden": false
    },
    "papermill": {
     "duration": 2.892577,
     "end_time": "2023-10-10T00:07:47.975231",
     "exception": false,
     "start_time": "2023-10-10T00:07:45.082654",
     "status": "completed"
    },
    "tags": []
   },
   "outputs": [],
   "source": [
    "sbert_model = sentence_transformers.SentenceTransformer('../input/sentence-transformers-models/all-MiniLM-L6-v2')"
   ]
  },
  {
   "cell_type": "code",
   "execution_count": 12,
   "id": "8d63350e",
   "metadata": {
    "_cell_guid": "b6650e29-e0b7-4b12-a9ab-074cc17809e1",
    "_uuid": "9a9841b3-5f92-40f3-8d9c-68e69766fea4",
    "collapsed": false,
    "execution": {
     "iopub.execute_input": "2023-10-10T00:07:47.994011Z",
     "iopub.status.busy": "2023-10-10T00:07:47.993635Z",
     "iopub.status.idle": "2023-10-10T00:07:48.569918Z",
     "shell.execute_reply": "2023-10-10T00:07:48.568783Z"
    },
    "jupyter": {
     "outputs_hidden": false
    },
    "papermill": {
     "duration": 0.587736,
     "end_time": "2023-10-10T00:07:48.571917",
     "exception": false,
     "start_time": "2023-10-10T00:07:47.984181",
     "status": "completed"
    },
    "tags": []
   },
   "outputs": [
    {
     "data": {
      "application/vnd.jupyter.widget-view+json": {
       "model_id": "9242b01aaf4f4b41b976ad17a064d9b7",
       "version_major": 2,
       "version_minor": 0
      },
      "text/plain": [
       "Batches:   0%|          | 0/1 [00:00<?, ?it/s]"
      ]
     },
     "metadata": {},
     "output_type": "display_data"
    }
   ],
   "source": [
    "prompts_embeddings = sbert_model.encode(prompts_train['cleaned_prompt_text'])\n",
    "prompts_emb_df = pd.DataFrame(prompts_embeddings, columns=[f\"PE_{i}\" for i in range(prompts_embeddings.shape[1])], index=prompts_train['prompt_id'])"
   ]
  },
  {
   "cell_type": "code",
   "execution_count": 13,
   "id": "37c46bbb",
   "metadata": {
    "_cell_guid": "b6650e29-e0b7-4b12-a9ab-074cc17809e1",
    "_uuid": "9a9841b3-5f92-40f3-8d9c-68e69766fea4",
    "collapsed": false,
    "execution": {
     "iopub.execute_input": "2023-10-10T00:07:48.591785Z",
     "iopub.status.busy": "2023-10-10T00:07:48.591191Z",
     "iopub.status.idle": "2023-10-10T00:07:48.628714Z",
     "shell.execute_reply": "2023-10-10T00:07:48.627703Z"
    },
    "jupyter": {
     "outputs_hidden": false
    },
    "papermill": {
     "duration": 0.049804,
     "end_time": "2023-10-10T00:07:48.630813",
     "exception": false,
     "start_time": "2023-10-10T00:07:48.581009",
     "status": "completed"
    },
    "tags": []
   },
   "outputs": [
    {
     "data": {
      "application/vnd.jupyter.widget-view+json": {
       "model_id": "42830315c0c44186ad5da8bbc4f2194b",
       "version_major": 2,
       "version_minor": 0
      },
      "text/plain": [
       "Batches:   0%|          | 0/1 [00:00<?, ?it/s]"
      ]
     },
     "metadata": {},
     "output_type": "display_data"
    }
   ],
   "source": [
    "prompts_embeddings_test = sbert_model.encode(prompts_test['cleaned_prompt_text'])\n",
    "prompts_emb_df_test = pd.DataFrame(prompts_embeddings_test, columns=[f\"PE_{i}\" for i in range(prompts_embeddings_test.shape[1])], index=prompts_test['prompt_id'])"
   ]
  },
  {
   "cell_type": "code",
   "execution_count": 14,
   "id": "374cf8d0",
   "metadata": {
    "_cell_guid": "ce7bb8cb-b24d-417a-a145-8f428067cbe7",
    "_uuid": "4c7f8c98-9faa-4eb3-9aa6-abcc5f34c324",
    "collapsed": false,
    "execution": {
     "iopub.execute_input": "2023-10-10T00:07:48.653686Z",
     "iopub.status.busy": "2023-10-10T00:07:48.653316Z",
     "iopub.status.idle": "2023-10-10T00:09:24.202120Z",
     "shell.execute_reply": "2023-10-10T00:09:24.201217Z"
    },
    "jupyter": {
     "outputs_hidden": false
    },
    "papermill": {
     "duration": 95.561646,
     "end_time": "2023-10-10T00:09:24.204444",
     "exception": false,
     "start_time": "2023-10-10T00:07:48.642798",
     "status": "completed"
    },
    "tags": []
   },
   "outputs": [
    {
     "data": {
      "application/vnd.jupyter.widget-view+json": {
       "model_id": "4375e6eb467e47c19609691230631cf1",
       "version_major": 2,
       "version_minor": 0
      },
      "text/plain": [
       "Batches:   0%|          | 0/224 [00:00<?, ?it/s]"
      ]
     },
     "metadata": {},
     "output_type": "display_data"
    }
   ],
   "source": [
    "summaries_embeddings = sbert_model.encode(summaries_train['xcleaned_text'])\n",
    "summaries_emb_df = pd.DataFrame(summaries_embeddings, columns=[f\"SE_{i}\" for i in range(summaries_embeddings.shape[1])])"
   ]
  },
  {
   "cell_type": "code",
   "execution_count": 15,
   "id": "9ef0deb8",
   "metadata": {
    "_cell_guid": "ce7bb8cb-b24d-417a-a145-8f428067cbe7",
    "_uuid": "4c7f8c98-9faa-4eb3-9aa6-abcc5f34c324",
    "collapsed": false,
    "execution": {
     "iopub.execute_input": "2023-10-10T00:09:24.224852Z",
     "iopub.status.busy": "2023-10-10T00:09:24.224233Z",
     "iopub.status.idle": "2023-10-10T00:09:24.263709Z",
     "shell.execute_reply": "2023-10-10T00:09:24.262648Z"
    },
    "jupyter": {
     "outputs_hidden": false
    },
    "papermill": {
     "duration": 0.052517,
     "end_time": "2023-10-10T00:09:24.266196",
     "exception": false,
     "start_time": "2023-10-10T00:09:24.213679",
     "status": "completed"
    },
    "tags": []
   },
   "outputs": [
    {
     "data": {
      "application/vnd.jupyter.widget-view+json": {
       "model_id": "9b06d697027a443c9bc01c56aaabf768",
       "version_major": 2,
       "version_minor": 0
      },
      "text/plain": [
       "Batches:   0%|          | 0/1 [00:00<?, ?it/s]"
      ]
     },
     "metadata": {},
     "output_type": "display_data"
    }
   ],
   "source": [
    "summaries_embeddings_test = sbert_model.encode(summaries_test['xcleaned_text'])\n",
    "summaries_emb_df_test = \\\n",
    "pd.DataFrame(summaries_embeddings_test, columns=[f\"SE_{i}\" for i in range(summaries_embeddings_test.shape[1])])"
   ]
  },
  {
   "cell_type": "code",
   "execution_count": 16,
   "id": "2ed34218",
   "metadata": {
    "execution": {
     "iopub.execute_input": "2023-10-10T00:09:24.287072Z",
     "iopub.status.busy": "2023-10-10T00:09:24.286348Z",
     "iopub.status.idle": "2023-10-10T00:09:24.291298Z",
     "shell.execute_reply": "2023-10-10T00:09:24.290270Z"
    },
    "papermill": {
     "duration": 0.017377,
     "end_time": "2023-10-10T00:09:24.293098",
     "exception": false,
     "start_time": "2023-10-10T00:09:24.275721",
     "status": "completed"
    },
    "tags": []
   },
   "outputs": [],
   "source": [
    "def similarity(u, v):\n",
    "    return np.dot(u, v) / (np.linalg.norm(u) * np.linalg.norm(v))"
   ]
  },
  {
   "cell_type": "code",
   "execution_count": 17,
   "id": "08e9a09c",
   "metadata": {
    "execution": {
     "iopub.execute_input": "2023-10-10T00:09:24.313312Z",
     "iopub.status.busy": "2023-10-10T00:09:24.312903Z",
     "iopub.status.idle": "2023-10-10T00:09:24.470171Z",
     "shell.execute_reply": "2023-10-10T00:09:24.469003Z"
    },
    "papermill": {
     "duration": 0.170069,
     "end_time": "2023-10-10T00:09:24.472667",
     "exception": false,
     "start_time": "2023-10-10T00:09:24.302598",
     "status": "completed"
    },
    "tags": []
   },
   "outputs": [],
   "source": [
    "prompt_idx_mapper = dict(zip(prompts_train['prompt_id'].to_list(), prompts_train.index))\n",
    "summaries_train['prompt_idx'] = summaries_train['prompt_id'].map(prompt_idx_mapper)\n",
    "summaries_train['summary_idx'] = summaries_train.index\n",
    "summaries_train['similarity_to_prompt'] = \\\n",
    "    summaries_train.apply(lambda x: similarity(prompts_embeddings[x['prompt_idx']], summaries_embeddings[x['summary_idx']]), axis=1)\n",
    "summaries_train = summaries_train.drop(columns=['prompt_idx', 'summary_idx'])"
   ]
  },
  {
   "cell_type": "code",
   "execution_count": 18,
   "id": "1e05735a",
   "metadata": {
    "execution": {
     "iopub.execute_input": "2023-10-10T00:09:24.555650Z",
     "iopub.status.busy": "2023-10-10T00:09:24.554901Z",
     "iopub.status.idle": "2023-10-10T00:09:24.564443Z",
     "shell.execute_reply": "2023-10-10T00:09:24.563682Z"
    },
    "papermill": {
     "duration": 0.08455,
     "end_time": "2023-10-10T00:09:24.566442",
     "exception": false,
     "start_time": "2023-10-10T00:09:24.481892",
     "status": "completed"
    },
    "tags": []
   },
   "outputs": [],
   "source": [
    "prompt_idx_mapper = dict(zip(prompts_test['prompt_id'].to_list(), prompts_test.index))\n",
    "summaries_test['prompt_idx'] = summaries_test['prompt_id'].map(prompt_idx_mapper)\n",
    "summaries_test['summary_idx'] = summaries_test.index\n",
    "summaries_test['similarity_to_prompt'] = \\\n",
    "    summaries_test.apply(lambda x: similarity(prompts_embeddings[x['prompt_idx']], summaries_embeddings[x['summary_idx']]), axis=1)\n",
    "summaries_test = summaries_test.drop(columns=['prompt_idx', 'summary_idx'])"
   ]
  },
  {
   "cell_type": "code",
   "execution_count": 19,
   "id": "149f4dfe",
   "metadata": {
    "execution": {
     "iopub.execute_input": "2023-10-10T00:09:24.586755Z",
     "iopub.status.busy": "2023-10-10T00:09:24.586192Z",
     "iopub.status.idle": "2023-10-10T00:09:28.916029Z",
     "shell.execute_reply": "2023-10-10T00:09:28.914973Z"
    },
    "papermill": {
     "duration": 4.342527,
     "end_time": "2023-10-10T00:09:28.918230",
     "exception": false,
     "start_time": "2023-10-10T00:09:24.575703",
     "status": "completed"
    },
    "tags": []
   },
   "outputs": [
    {
     "data": {
      "text/html": [
       "<style>#sk-container-id-1 {color: black;background-color: white;}#sk-container-id-1 pre{padding: 0;}#sk-container-id-1 div.sk-toggleable {background-color: white;}#sk-container-id-1 label.sk-toggleable__label {cursor: pointer;display: block;width: 100%;margin-bottom: 0;padding: 0.3em;box-sizing: border-box;text-align: center;}#sk-container-id-1 label.sk-toggleable__label-arrow:before {content: \"▸\";float: left;margin-right: 0.25em;color: #696969;}#sk-container-id-1 label.sk-toggleable__label-arrow:hover:before {color: black;}#sk-container-id-1 div.sk-estimator:hover label.sk-toggleable__label-arrow:before {color: black;}#sk-container-id-1 div.sk-toggleable__content {max-height: 0;max-width: 0;overflow: hidden;text-align: left;background-color: #f0f8ff;}#sk-container-id-1 div.sk-toggleable__content pre {margin: 0.2em;color: black;border-radius: 0.25em;background-color: #f0f8ff;}#sk-container-id-1 input.sk-toggleable__control:checked~div.sk-toggleable__content {max-height: 200px;max-width: 100%;overflow: auto;}#sk-container-id-1 input.sk-toggleable__control:checked~label.sk-toggleable__label-arrow:before {content: \"▾\";}#sk-container-id-1 div.sk-estimator input.sk-toggleable__control:checked~label.sk-toggleable__label {background-color: #d4ebff;}#sk-container-id-1 div.sk-label input.sk-toggleable__control:checked~label.sk-toggleable__label {background-color: #d4ebff;}#sk-container-id-1 input.sk-hidden--visually {border: 0;clip: rect(1px 1px 1px 1px);clip: rect(1px, 1px, 1px, 1px);height: 1px;margin: -1px;overflow: hidden;padding: 0;position: absolute;width: 1px;}#sk-container-id-1 div.sk-estimator {font-family: monospace;background-color: #f0f8ff;border: 1px dotted black;border-radius: 0.25em;box-sizing: border-box;margin-bottom: 0.5em;}#sk-container-id-1 div.sk-estimator:hover {background-color: #d4ebff;}#sk-container-id-1 div.sk-parallel-item::after {content: \"\";width: 100%;border-bottom: 1px solid gray;flex-grow: 1;}#sk-container-id-1 div.sk-label:hover label.sk-toggleable__label {background-color: #d4ebff;}#sk-container-id-1 div.sk-serial::before {content: \"\";position: absolute;border-left: 1px solid gray;box-sizing: border-box;top: 0;bottom: 0;left: 50%;z-index: 0;}#sk-container-id-1 div.sk-serial {display: flex;flex-direction: column;align-items: center;background-color: white;padding-right: 0.2em;padding-left: 0.2em;position: relative;}#sk-container-id-1 div.sk-item {position: relative;z-index: 1;}#sk-container-id-1 div.sk-parallel {display: flex;align-items: stretch;justify-content: center;background-color: white;position: relative;}#sk-container-id-1 div.sk-item::before, #sk-container-id-1 div.sk-parallel-item::before {content: \"\";position: absolute;border-left: 1px solid gray;box-sizing: border-box;top: 0;bottom: 0;left: 50%;z-index: -1;}#sk-container-id-1 div.sk-parallel-item {display: flex;flex-direction: column;z-index: 1;position: relative;background-color: white;}#sk-container-id-1 div.sk-parallel-item:first-child::after {align-self: flex-end;width: 50%;}#sk-container-id-1 div.sk-parallel-item:last-child::after {align-self: flex-start;width: 50%;}#sk-container-id-1 div.sk-parallel-item:only-child::after {width: 0;}#sk-container-id-1 div.sk-dashed-wrapped {border: 1px dashed gray;margin: 0 0.4em 0.5em 0.4em;box-sizing: border-box;padding-bottom: 0.4em;background-color: white;}#sk-container-id-1 div.sk-label label {font-family: monospace;font-weight: bold;display: inline-block;line-height: 1.2em;}#sk-container-id-1 div.sk-label-container {text-align: center;}#sk-container-id-1 div.sk-container {/* jupyter's `normalize.less` sets `[hidden] { display: none; }` but bootstrap.min.css set `[hidden] { display: none !important; }` so we also need the `!important` here to be able to override the default hidden behavior on the sphinx rendered scikit-learn.org. See: https://github.com/scikit-learn/scikit-learn/issues/21755 */display: inline-block !important;position: relative;}#sk-container-id-1 div.sk-text-repr-fallback {display: none;}</style><div id=\"sk-container-id-1\" class=\"sk-top-container\"><div class=\"sk-text-repr-fallback\"><pre>TfidfVectorizer(ngram_range=(1, 4))</pre><b>In a Jupyter environment, please rerun this cell to show the HTML representation or trust the notebook. <br />On GitHub, the HTML representation is unable to render, please try loading this page with nbviewer.org.</b></div><div class=\"sk-container\" hidden><div class=\"sk-item\"><div class=\"sk-estimator sk-toggleable\"><input class=\"sk-toggleable__control sk-hidden--visually\" id=\"sk-estimator-id-1\" type=\"checkbox\" checked><label for=\"sk-estimator-id-1\" class=\"sk-toggleable__label sk-toggleable__label-arrow\">TfidfVectorizer</label><div class=\"sk-toggleable__content\"><pre>TfidfVectorizer(ngram_range=(1, 4))</pre></div></div></div></div></div>"
      ],
      "text/plain": [
       "TfidfVectorizer(ngram_range=(1, 4))"
      ]
     },
     "execution_count": 19,
     "metadata": {},
     "output_type": "execute_result"
    }
   ],
   "source": [
    "tfidf = TfidfVectorizer(analyzer='word', ngram_range=(1, 4))\n",
    "tfidf.fit(summaries_train['cleaned_text'])"
   ]
  },
  {
   "cell_type": "code",
   "execution_count": 20,
   "id": "9ee32669",
   "metadata": {
    "execution": {
     "iopub.execute_input": "2023-10-10T00:09:28.938859Z",
     "iopub.status.busy": "2023-10-10T00:09:28.938500Z",
     "iopub.status.idle": "2023-10-10T00:09:29.219457Z",
     "shell.execute_reply": "2023-10-10T00:09:29.218340Z"
    },
    "papermill": {
     "duration": 0.29429,
     "end_time": "2023-10-10T00:09:29.221975",
     "exception": false,
     "start_time": "2023-10-10T00:09:28.927685",
     "status": "completed"
    },
    "tags": []
   },
   "outputs": [],
   "source": [
    "summaries_train['n_words'] = summaries_train['cleaned_text'].apply(lambda x: len(x.split(\" \")))\n",
    "summaries_train['n_sentences'] = summaries_train['text'].str.count('\\.')\n",
    "summaries_train['mean_word_length'] = summaries_train['cleaned_text'].apply(lambda x: np.mean([len(word) for word in x.split()]))\n",
    "summaries_train['n_punctuation'] = summaries_train.apply(lambda x: len(x['text']) - len(x['cleaned_text']), axis=1)"
   ]
  },
  {
   "cell_type": "code",
   "execution_count": 21,
   "id": "3e590daa",
   "metadata": {
    "execution": {
     "iopub.execute_input": "2023-10-10T00:09:29.243515Z",
     "iopub.status.busy": "2023-10-10T00:09:29.243140Z",
     "iopub.status.idle": "2023-10-10T00:09:29.253124Z",
     "shell.execute_reply": "2023-10-10T00:09:29.252307Z"
    },
    "papermill": {
     "duration": 0.022864,
     "end_time": "2023-10-10T00:09:29.255167",
     "exception": false,
     "start_time": "2023-10-10T00:09:29.232303",
     "status": "completed"
    },
    "tags": []
   },
   "outputs": [],
   "source": [
    "summaries_test['n_words'] = summaries_test['cleaned_text'].apply(lambda x: len(x.split(\" \")))\n",
    "summaries_test['n_sentences'] = summaries_test['text'].str.count('\\.')\n",
    "summaries_test['mean_word_length'] = summaries_test['cleaned_text'].apply(lambda x: np.mean([len(word) for word in x.split()]))\n",
    "summaries_test['n_punctuation'] = summaries_test.apply(lambda x: len(x['text']) - len(x['cleaned_text']), axis=1)"
   ]
  },
  {
   "cell_type": "code",
   "execution_count": 22,
   "id": "388d9d6e",
   "metadata": {
    "execution": {
     "iopub.execute_input": "2023-10-10T00:09:29.276689Z",
     "iopub.status.busy": "2023-10-10T00:09:29.276348Z",
     "iopub.status.idle": "2023-10-10T00:09:29.319783Z",
     "shell.execute_reply": "2023-10-10T00:09:29.318842Z"
    },
    "papermill": {
     "duration": 0.057174,
     "end_time": "2023-10-10T00:09:29.322269",
     "exception": false,
     "start_time": "2023-10-10T00:09:29.265095",
     "status": "completed"
    },
    "tags": []
   },
   "outputs": [],
   "source": [
    "df_content = pd.concat([\n",
    "    summaries_train[[\"similarity_to_prompt\", \"n_words\", \"n_sentences\", \"mean_word_length\", \"n_punctuation\", \"content\"]], \n",
    "    prompts_emb_df.loc[summaries_train['prompt_id']].reset_index(drop=True),\n",
    "    summaries_emb_df\n",
    "], axis=1, join='inner') "
   ]
  },
  {
   "cell_type": "code",
   "execution_count": 23,
   "id": "4bb6179c",
   "metadata": {
    "execution": {
     "iopub.execute_input": "2023-10-10T00:09:29.343711Z",
     "iopub.status.busy": "2023-10-10T00:09:29.343368Z",
     "iopub.status.idle": "2023-10-10T00:09:29.350574Z",
     "shell.execute_reply": "2023-10-10T00:09:29.349631Z"
    },
    "papermill": {
     "duration": 0.020203,
     "end_time": "2023-10-10T00:09:29.352482",
     "exception": false,
     "start_time": "2023-10-10T00:09:29.332279",
     "status": "completed"
    },
    "tags": []
   },
   "outputs": [],
   "source": [
    "df_content_test = pd.concat([\n",
    "    summaries_test[[\"similarity_to_prompt\", \"n_words\", \"n_sentences\", \"mean_word_length\", \"n_punctuation\"]], \n",
    "    prompts_emb_df_test.loc[summaries_test['prompt_id']].reset_index(drop=True),\n",
    "    summaries_emb_df_test\n",
    "], axis=1, join='inner') "
   ]
  },
  {
   "cell_type": "code",
   "execution_count": 24,
   "id": "96bec426",
   "metadata": {
    "execution": {
     "iopub.execute_input": "2023-10-10T00:09:29.374116Z",
     "iopub.status.busy": "2023-10-10T00:09:29.373762Z",
     "iopub.status.idle": "2023-10-10T00:09:29.384977Z",
     "shell.execute_reply": "2023-10-10T00:09:29.383989Z"
    },
    "papermill": {
     "duration": 0.024624,
     "end_time": "2023-10-10T00:09:29.386945",
     "exception": false,
     "start_time": "2023-10-10T00:09:29.362321",
     "status": "completed"
    },
    "tags": []
   },
   "outputs": [],
   "source": [
    "predictors = df_content.drop(\"content\", axis=1).columns\n",
    "target = \"content\""
   ]
  },
  {
   "cell_type": "code",
   "execution_count": 25,
   "id": "efdcfe4b",
   "metadata": {
    "execution": {
     "iopub.execute_input": "2023-10-10T00:09:29.408237Z",
     "iopub.status.busy": "2023-10-10T00:09:29.407882Z",
     "iopub.status.idle": "2023-10-10T00:09:29.630576Z",
     "shell.execute_reply": "2023-10-10T00:09:29.629238Z"
    },
    "papermill": {
     "duration": 0.238139,
     "end_time": "2023-10-10T00:09:29.634720",
     "exception": false,
     "start_time": "2023-10-10T00:09:29.396581",
     "status": "completed"
    },
    "tags": []
   },
   "outputs": [
    {
     "data": {
      "text/html": [
       "<style>#sk-container-id-2 {color: black;background-color: white;}#sk-container-id-2 pre{padding: 0;}#sk-container-id-2 div.sk-toggleable {background-color: white;}#sk-container-id-2 label.sk-toggleable__label {cursor: pointer;display: block;width: 100%;margin-bottom: 0;padding: 0.3em;box-sizing: border-box;text-align: center;}#sk-container-id-2 label.sk-toggleable__label-arrow:before {content: \"▸\";float: left;margin-right: 0.25em;color: #696969;}#sk-container-id-2 label.sk-toggleable__label-arrow:hover:before {color: black;}#sk-container-id-2 div.sk-estimator:hover label.sk-toggleable__label-arrow:before {color: black;}#sk-container-id-2 div.sk-toggleable__content {max-height: 0;max-width: 0;overflow: hidden;text-align: left;background-color: #f0f8ff;}#sk-container-id-2 div.sk-toggleable__content pre {margin: 0.2em;color: black;border-radius: 0.25em;background-color: #f0f8ff;}#sk-container-id-2 input.sk-toggleable__control:checked~div.sk-toggleable__content {max-height: 200px;max-width: 100%;overflow: auto;}#sk-container-id-2 input.sk-toggleable__control:checked~label.sk-toggleable__label-arrow:before {content: \"▾\";}#sk-container-id-2 div.sk-estimator input.sk-toggleable__control:checked~label.sk-toggleable__label {background-color: #d4ebff;}#sk-container-id-2 div.sk-label input.sk-toggleable__control:checked~label.sk-toggleable__label {background-color: #d4ebff;}#sk-container-id-2 input.sk-hidden--visually {border: 0;clip: rect(1px 1px 1px 1px);clip: rect(1px, 1px, 1px, 1px);height: 1px;margin: -1px;overflow: hidden;padding: 0;position: absolute;width: 1px;}#sk-container-id-2 div.sk-estimator {font-family: monospace;background-color: #f0f8ff;border: 1px dotted black;border-radius: 0.25em;box-sizing: border-box;margin-bottom: 0.5em;}#sk-container-id-2 div.sk-estimator:hover {background-color: #d4ebff;}#sk-container-id-2 div.sk-parallel-item::after {content: \"\";width: 100%;border-bottom: 1px solid gray;flex-grow: 1;}#sk-container-id-2 div.sk-label:hover label.sk-toggleable__label {background-color: #d4ebff;}#sk-container-id-2 div.sk-serial::before {content: \"\";position: absolute;border-left: 1px solid gray;box-sizing: border-box;top: 0;bottom: 0;left: 50%;z-index: 0;}#sk-container-id-2 div.sk-serial {display: flex;flex-direction: column;align-items: center;background-color: white;padding-right: 0.2em;padding-left: 0.2em;position: relative;}#sk-container-id-2 div.sk-item {position: relative;z-index: 1;}#sk-container-id-2 div.sk-parallel {display: flex;align-items: stretch;justify-content: center;background-color: white;position: relative;}#sk-container-id-2 div.sk-item::before, #sk-container-id-2 div.sk-parallel-item::before {content: \"\";position: absolute;border-left: 1px solid gray;box-sizing: border-box;top: 0;bottom: 0;left: 50%;z-index: -1;}#sk-container-id-2 div.sk-parallel-item {display: flex;flex-direction: column;z-index: 1;position: relative;background-color: white;}#sk-container-id-2 div.sk-parallel-item:first-child::after {align-self: flex-end;width: 50%;}#sk-container-id-2 div.sk-parallel-item:last-child::after {align-self: flex-start;width: 50%;}#sk-container-id-2 div.sk-parallel-item:only-child::after {width: 0;}#sk-container-id-2 div.sk-dashed-wrapped {border: 1px dashed gray;margin: 0 0.4em 0.5em 0.4em;box-sizing: border-box;padding-bottom: 0.4em;background-color: white;}#sk-container-id-2 div.sk-label label {font-family: monospace;font-weight: bold;display: inline-block;line-height: 1.2em;}#sk-container-id-2 div.sk-label-container {text-align: center;}#sk-container-id-2 div.sk-container {/* jupyter's `normalize.less` sets `[hidden] { display: none; }` but bootstrap.min.css set `[hidden] { display: none !important; }` so we also need the `!important` here to be able to override the default hidden behavior on the sphinx rendered scikit-learn.org. See: https://github.com/scikit-learn/scikit-learn/issues/21755 */display: inline-block !important;position: relative;}#sk-container-id-2 div.sk-text-repr-fallback {display: none;}</style><div id=\"sk-container-id-2\" class=\"sk-top-container\"><div class=\"sk-text-repr-fallback\"><pre>Ridge(alpha=10869)</pre><b>In a Jupyter environment, please rerun this cell to show the HTML representation or trust the notebook. <br />On GitHub, the HTML representation is unable to render, please try loading this page with nbviewer.org.</b></div><div class=\"sk-container\" hidden><div class=\"sk-item\"><div class=\"sk-estimator sk-toggleable\"><input class=\"sk-toggleable__control sk-hidden--visually\" id=\"sk-estimator-id-2\" type=\"checkbox\" checked><label for=\"sk-estimator-id-2\" class=\"sk-toggleable__label sk-toggleable__label-arrow\">Ridge</label><div class=\"sk-toggleable__content\"><pre>Ridge(alpha=10869)</pre></div></div></div></div></div>"
      ],
      "text/plain": [
       "Ridge(alpha=10869)"
      ]
     },
     "execution_count": 25,
     "metadata": {},
     "output_type": "execute_result"
    }
   ],
   "source": [
    "lm = Ridge(alpha=10869)\n",
    "lm.fit(df_content[predictors], df_content[target])"
   ]
  },
  {
   "cell_type": "code",
   "execution_count": 26,
   "id": "350a0397",
   "metadata": {
    "execution": {
     "iopub.execute_input": "2023-10-10T00:09:29.694160Z",
     "iopub.status.busy": "2023-10-10T00:09:29.693760Z",
     "iopub.status.idle": "2023-10-10T00:09:29.725762Z",
     "shell.execute_reply": "2023-10-10T00:09:29.724305Z"
    },
    "papermill": {
     "duration": 0.064293,
     "end_time": "2023-10-10T00:09:29.728694",
     "exception": false,
     "start_time": "2023-10-10T00:09:29.664401",
     "status": "completed"
    },
    "tags": []
   },
   "outputs": [],
   "source": [
    "content_pred = lm.predict(df_content_test[predictors])"
   ]
  },
  {
   "cell_type": "code",
   "execution_count": 27,
   "id": "26907cbe",
   "metadata": {
    "execution": {
     "iopub.execute_input": "2023-10-10T00:09:29.749790Z",
     "iopub.status.busy": "2023-10-10T00:09:29.749428Z",
     "iopub.status.idle": "2023-10-10T00:09:29.756986Z",
     "shell.execute_reply": "2023-10-10T00:09:29.755958Z"
    },
    "papermill": {
     "duration": 0.020892,
     "end_time": "2023-10-10T00:09:29.759268",
     "exception": false,
     "start_time": "2023-10-10T00:09:29.738376",
     "status": "completed"
    },
    "tags": []
   },
   "outputs": [],
   "source": [
    "df_wording = summaries_train[[\"n_words\", \"n_sentences\", \"mean_word_length\", \"n_punctuation\", \"wording\", \"cleaned_text\"]]\n",
    "df_wording_test = summaries_test[[\"n_words\", \"n_sentences\", \"mean_word_length\", \"n_punctuation\", \"cleaned_text\"]]"
   ]
  },
  {
   "cell_type": "code",
   "execution_count": 28,
   "id": "9edcbcba",
   "metadata": {
    "execution": {
     "iopub.execute_input": "2023-10-10T00:09:29.780351Z",
     "iopub.status.busy": "2023-10-10T00:09:29.779999Z",
     "iopub.status.idle": "2023-10-10T00:09:29.785830Z",
     "shell.execute_reply": "2023-10-10T00:09:29.784829Z"
    },
    "papermill": {
     "duration": 0.018327,
     "end_time": "2023-10-10T00:09:29.787599",
     "exception": false,
     "start_time": "2023-10-10T00:09:29.769272",
     "status": "completed"
    },
    "tags": []
   },
   "outputs": [],
   "source": [
    "predictors = df_wording.drop([\"wording\", \"cleaned_text\"], axis=1).columns\n",
    "target = 'wording'"
   ]
  },
  {
   "cell_type": "code",
   "execution_count": 29,
   "id": "ab874c4a",
   "metadata": {
    "execution": {
     "iopub.execute_input": "2023-10-10T00:09:29.808801Z",
     "iopub.status.busy": "2023-10-10T00:09:29.808123Z",
     "iopub.status.idle": "2023-10-10T00:09:32.001240Z",
     "shell.execute_reply": "2023-10-10T00:09:32.000229Z"
    },
    "papermill": {
     "duration": 2.20646,
     "end_time": "2023-10-10T00:09:32.003625",
     "exception": false,
     "start_time": "2023-10-10T00:09:29.797165",
     "status": "completed"
    },
    "tags": []
   },
   "outputs": [],
   "source": [
    "X_wording_train = scipy.sparse.hstack([df_wording[predictors], tfidf.transform(df_wording['cleaned_text'])]) \n",
    "X_wording_test = scipy.sparse.hstack([df_wording_test[predictors], tfidf.transform(df_wording_test['cleaned_text'])]) "
   ]
  },
  {
   "cell_type": "code",
   "execution_count": 30,
   "id": "dfc3ca80",
   "metadata": {
    "execution": {
     "iopub.execute_input": "2023-10-10T00:09:32.025147Z",
     "iopub.status.busy": "2023-10-10T00:09:32.024743Z",
     "iopub.status.idle": "2023-10-10T00:09:32.582462Z",
     "shell.execute_reply": "2023-10-10T00:09:32.581405Z"
    },
    "papermill": {
     "duration": 0.572081,
     "end_time": "2023-10-10T00:09:32.585598",
     "exception": false,
     "start_time": "2023-10-10T00:09:32.013517",
     "status": "completed"
    },
    "tags": []
   },
   "outputs": [
    {
     "data": {
      "text/html": [
       "<style>#sk-container-id-3 {color: black;background-color: white;}#sk-container-id-3 pre{padding: 0;}#sk-container-id-3 div.sk-toggleable {background-color: white;}#sk-container-id-3 label.sk-toggleable__label {cursor: pointer;display: block;width: 100%;margin-bottom: 0;padding: 0.3em;box-sizing: border-box;text-align: center;}#sk-container-id-3 label.sk-toggleable__label-arrow:before {content: \"▸\";float: left;margin-right: 0.25em;color: #696969;}#sk-container-id-3 label.sk-toggleable__label-arrow:hover:before {color: black;}#sk-container-id-3 div.sk-estimator:hover label.sk-toggleable__label-arrow:before {color: black;}#sk-container-id-3 div.sk-toggleable__content {max-height: 0;max-width: 0;overflow: hidden;text-align: left;background-color: #f0f8ff;}#sk-container-id-3 div.sk-toggleable__content pre {margin: 0.2em;color: black;border-radius: 0.25em;background-color: #f0f8ff;}#sk-container-id-3 input.sk-toggleable__control:checked~div.sk-toggleable__content {max-height: 200px;max-width: 100%;overflow: auto;}#sk-container-id-3 input.sk-toggleable__control:checked~label.sk-toggleable__label-arrow:before {content: \"▾\";}#sk-container-id-3 div.sk-estimator input.sk-toggleable__control:checked~label.sk-toggleable__label {background-color: #d4ebff;}#sk-container-id-3 div.sk-label input.sk-toggleable__control:checked~label.sk-toggleable__label {background-color: #d4ebff;}#sk-container-id-3 input.sk-hidden--visually {border: 0;clip: rect(1px 1px 1px 1px);clip: rect(1px, 1px, 1px, 1px);height: 1px;margin: -1px;overflow: hidden;padding: 0;position: absolute;width: 1px;}#sk-container-id-3 div.sk-estimator {font-family: monospace;background-color: #f0f8ff;border: 1px dotted black;border-radius: 0.25em;box-sizing: border-box;margin-bottom: 0.5em;}#sk-container-id-3 div.sk-estimator:hover {background-color: #d4ebff;}#sk-container-id-3 div.sk-parallel-item::after {content: \"\";width: 100%;border-bottom: 1px solid gray;flex-grow: 1;}#sk-container-id-3 div.sk-label:hover label.sk-toggleable__label {background-color: #d4ebff;}#sk-container-id-3 div.sk-serial::before {content: \"\";position: absolute;border-left: 1px solid gray;box-sizing: border-box;top: 0;bottom: 0;left: 50%;z-index: 0;}#sk-container-id-3 div.sk-serial {display: flex;flex-direction: column;align-items: center;background-color: white;padding-right: 0.2em;padding-left: 0.2em;position: relative;}#sk-container-id-3 div.sk-item {position: relative;z-index: 1;}#sk-container-id-3 div.sk-parallel {display: flex;align-items: stretch;justify-content: center;background-color: white;position: relative;}#sk-container-id-3 div.sk-item::before, #sk-container-id-3 div.sk-parallel-item::before {content: \"\";position: absolute;border-left: 1px solid gray;box-sizing: border-box;top: 0;bottom: 0;left: 50%;z-index: -1;}#sk-container-id-3 div.sk-parallel-item {display: flex;flex-direction: column;z-index: 1;position: relative;background-color: white;}#sk-container-id-3 div.sk-parallel-item:first-child::after {align-self: flex-end;width: 50%;}#sk-container-id-3 div.sk-parallel-item:last-child::after {align-self: flex-start;width: 50%;}#sk-container-id-3 div.sk-parallel-item:only-child::after {width: 0;}#sk-container-id-3 div.sk-dashed-wrapped {border: 1px dashed gray;margin: 0 0.4em 0.5em 0.4em;box-sizing: border-box;padding-bottom: 0.4em;background-color: white;}#sk-container-id-3 div.sk-label label {font-family: monospace;font-weight: bold;display: inline-block;line-height: 1.2em;}#sk-container-id-3 div.sk-label-container {text-align: center;}#sk-container-id-3 div.sk-container {/* jupyter's `normalize.less` sets `[hidden] { display: none; }` but bootstrap.min.css set `[hidden] { display: none !important; }` so we also need the `!important` here to be able to override the default hidden behavior on the sphinx rendered scikit-learn.org. See: https://github.com/scikit-learn/scikit-learn/issues/21755 */display: inline-block !important;position: relative;}#sk-container-id-3 div.sk-text-repr-fallback {display: none;}</style><div id=\"sk-container-id-3\" class=\"sk-top-container\"><div class=\"sk-text-repr-fallback\"><pre>Ridge(alpha=1346)</pre><b>In a Jupyter environment, please rerun this cell to show the HTML representation or trust the notebook. <br />On GitHub, the HTML representation is unable to render, please try loading this page with nbviewer.org.</b></div><div class=\"sk-container\" hidden><div class=\"sk-item\"><div class=\"sk-estimator sk-toggleable\"><input class=\"sk-toggleable__control sk-hidden--visually\" id=\"sk-estimator-id-3\" type=\"checkbox\" checked><label for=\"sk-estimator-id-3\" class=\"sk-toggleable__label sk-toggleable__label-arrow\">Ridge</label><div class=\"sk-toggleable__content\"><pre>Ridge(alpha=1346)</pre></div></div></div></div></div>"
      ],
      "text/plain": [
       "Ridge(alpha=1346)"
      ]
     },
     "execution_count": 30,
     "metadata": {},
     "output_type": "execute_result"
    }
   ],
   "source": [
    "lm = Ridge(alpha=1346)\n",
    "lm.fit(X_wording_train, df_wording[target])"
   ]
  },
  {
   "cell_type": "code",
   "execution_count": 31,
   "id": "0a2d2070",
   "metadata": {
    "execution": {
     "iopub.execute_input": "2023-10-10T00:09:32.644755Z",
     "iopub.status.busy": "2023-10-10T00:09:32.644149Z",
     "iopub.status.idle": "2023-10-10T00:09:32.651021Z",
     "shell.execute_reply": "2023-10-10T00:09:32.649971Z"
    },
    "papermill": {
     "duration": 0.040115,
     "end_time": "2023-10-10T00:09:32.653996",
     "exception": false,
     "start_time": "2023-10-10T00:09:32.613881",
     "status": "completed"
    },
    "tags": []
   },
   "outputs": [],
   "source": [
    "wording_pred = lm.predict(X_wording_test)"
   ]
  },
  {
   "cell_type": "code",
   "execution_count": 32,
   "id": "775dd10f",
   "metadata": {
    "execution": {
     "iopub.execute_input": "2023-10-10T00:09:32.704858Z",
     "iopub.status.busy": "2023-10-10T00:09:32.704543Z",
     "iopub.status.idle": "2023-10-10T00:09:32.719258Z",
     "shell.execute_reply": "2023-10-10T00:09:32.718265Z"
    },
    "papermill": {
     "duration": 0.034893,
     "end_time": "2023-10-10T00:09:32.721284",
     "exception": false,
     "start_time": "2023-10-10T00:09:32.686391",
     "status": "completed"
    },
    "tags": []
   },
   "outputs": [
    {
     "data": {
      "text/html": [
       "<div>\n",
       "<style scoped>\n",
       "    .dataframe tbody tr th:only-of-type {\n",
       "        vertical-align: middle;\n",
       "    }\n",
       "\n",
       "    .dataframe tbody tr th {\n",
       "        vertical-align: top;\n",
       "    }\n",
       "\n",
       "    .dataframe thead th {\n",
       "        text-align: right;\n",
       "    }\n",
       "</style>\n",
       "<table border=\"1\" class=\"dataframe\">\n",
       "  <thead>\n",
       "    <tr style=\"text-align: right;\">\n",
       "      <th></th>\n",
       "      <th>student_id</th>\n",
       "      <th>content</th>\n",
       "      <th>wording</th>\n",
       "    </tr>\n",
       "  </thead>\n",
       "  <tbody>\n",
       "    <tr>\n",
       "      <th>0</th>\n",
       "      <td>000000ffffff</td>\n",
       "      <td>0.0</td>\n",
       "      <td>0.0</td>\n",
       "    </tr>\n",
       "    <tr>\n",
       "      <th>1</th>\n",
       "      <td>111111eeeeee</td>\n",
       "      <td>0.0</td>\n",
       "      <td>0.0</td>\n",
       "    </tr>\n",
       "    <tr>\n",
       "      <th>2</th>\n",
       "      <td>222222cccccc</td>\n",
       "      <td>0.0</td>\n",
       "      <td>0.0</td>\n",
       "    </tr>\n",
       "    <tr>\n",
       "      <th>3</th>\n",
       "      <td>333333dddddd</td>\n",
       "      <td>0.0</td>\n",
       "      <td>0.0</td>\n",
       "    </tr>\n",
       "  </tbody>\n",
       "</table>\n",
       "</div>"
      ],
      "text/plain": [
       "     student_id  content  wording\n",
       "0  000000ffffff      0.0      0.0\n",
       "1  111111eeeeee      0.0      0.0\n",
       "2  222222cccccc      0.0      0.0\n",
       "3  333333dddddd      0.0      0.0"
      ]
     },
     "execution_count": 32,
     "metadata": {},
     "output_type": "execute_result"
    }
   ],
   "source": [
    "sample_submission"
   ]
  },
  {
   "cell_type": "code",
   "execution_count": 33,
   "id": "14d0458e",
   "metadata": {
    "execution": {
     "iopub.execute_input": "2023-10-10T00:09:32.744145Z",
     "iopub.status.busy": "2023-10-10T00:09:32.743045Z",
     "iopub.status.idle": "2023-10-10T00:09:32.748328Z",
     "shell.execute_reply": "2023-10-10T00:09:32.747654Z"
    },
    "papermill": {
     "duration": 0.018599,
     "end_time": "2023-10-10T00:09:32.750193",
     "exception": false,
     "start_time": "2023-10-10T00:09:32.731594",
     "status": "completed"
    },
    "tags": []
   },
   "outputs": [],
   "source": [
    "sample_submission['content'] = content_pred\n",
    "sample_submission['wording'] = wording_pred"
   ]
  },
  {
   "cell_type": "code",
   "execution_count": 34,
   "id": "44c28e9e",
   "metadata": {
    "execution": {
     "iopub.execute_input": "2023-10-10T00:09:32.771889Z",
     "iopub.status.busy": "2023-10-10T00:09:32.771504Z",
     "iopub.status.idle": "2023-10-10T00:09:32.781422Z",
     "shell.execute_reply": "2023-10-10T00:09:32.780246Z"
    },
    "papermill": {
     "duration": 0.022947,
     "end_time": "2023-10-10T00:09:32.783209",
     "exception": false,
     "start_time": "2023-10-10T00:09:32.760262",
     "status": "completed"
    },
    "tags": []
   },
   "outputs": [
    {
     "data": {
      "text/html": [
       "<div>\n",
       "<style scoped>\n",
       "    .dataframe tbody tr th:only-of-type {\n",
       "        vertical-align: middle;\n",
       "    }\n",
       "\n",
       "    .dataframe tbody tr th {\n",
       "        vertical-align: top;\n",
       "    }\n",
       "\n",
       "    .dataframe thead th {\n",
       "        text-align: right;\n",
       "    }\n",
       "</style>\n",
       "<table border=\"1\" class=\"dataframe\">\n",
       "  <thead>\n",
       "    <tr style=\"text-align: right;\">\n",
       "      <th></th>\n",
       "      <th>student_id</th>\n",
       "      <th>content</th>\n",
       "      <th>wording</th>\n",
       "    </tr>\n",
       "  </thead>\n",
       "  <tbody>\n",
       "    <tr>\n",
       "      <th>0</th>\n",
       "      <td>000000ffffff</td>\n",
       "      <td>-1.134886</td>\n",
       "      <td>-0.720735</td>\n",
       "    </tr>\n",
       "    <tr>\n",
       "      <th>1</th>\n",
       "      <td>111111eeeeee</td>\n",
       "      <td>-1.135409</td>\n",
       "      <td>-0.720735</td>\n",
       "    </tr>\n",
       "    <tr>\n",
       "      <th>2</th>\n",
       "      <td>222222cccccc</td>\n",
       "      <td>-1.133369</td>\n",
       "      <td>-0.720735</td>\n",
       "    </tr>\n",
       "    <tr>\n",
       "      <th>3</th>\n",
       "      <td>333333dddddd</td>\n",
       "      <td>-1.131172</td>\n",
       "      <td>-0.720735</td>\n",
       "    </tr>\n",
       "  </tbody>\n",
       "</table>\n",
       "</div>"
      ],
      "text/plain": [
       "     student_id   content   wording\n",
       "0  000000ffffff -1.134886 -0.720735\n",
       "1  111111eeeeee -1.135409 -0.720735\n",
       "2  222222cccccc -1.133369 -0.720735\n",
       "3  333333dddddd -1.131172 -0.720735"
      ]
     },
     "execution_count": 34,
     "metadata": {},
     "output_type": "execute_result"
    }
   ],
   "source": [
    "sample_submission"
   ]
  },
  {
   "cell_type": "code",
   "execution_count": 35,
   "id": "185f5395",
   "metadata": {
    "execution": {
     "iopub.execute_input": "2023-10-10T00:09:32.805642Z",
     "iopub.status.busy": "2023-10-10T00:09:32.805078Z",
     "iopub.status.idle": "2023-10-10T00:09:32.812490Z",
     "shell.execute_reply": "2023-10-10T00:09:32.811794Z"
    },
    "papermill": {
     "duration": 0.020806,
     "end_time": "2023-10-10T00:09:32.814318",
     "exception": false,
     "start_time": "2023-10-10T00:09:32.793512",
     "status": "completed"
    },
    "tags": []
   },
   "outputs": [],
   "source": [
    "sample_submission.to_csv(\"submission.csv\", index=False)"
   ]
  }
 ],
 "metadata": {
  "kernelspec": {
   "display_name": "Python 3",
   "language": "python",
   "name": "python3"
  },
  "language_info": {
   "codemirror_mode": {
    "name": "ipython",
    "version": 3
   },
   "file_extension": ".py",
   "mimetype": "text/x-python",
   "name": "python",
   "nbconvert_exporter": "python",
   "pygments_lexer": "ipython3",
   "version": "3.10.12"
  },
  "papermill": {
   "default_parameters": {},
   "duration": 189.013297,
   "end_time": "2023-10-10T00:09:36.308676",
   "environment_variables": {},
   "exception": null,
   "input_path": "__notebook__.ipynb",
   "output_path": "__notebook__.ipynb",
   "parameters": {},
   "start_time": "2023-10-10T00:06:27.295379",
   "version": "2.4.0"
  },
  "widgets": {
   "application/vnd.jupyter.widget-state+json": {
    "state": {
     "042c8d57ad874473906ddc0421a38d72": {
      "model_module": "@jupyter-widgets/base",
      "model_module_version": "1.2.0",
      "model_name": "LayoutModel",
      "state": {
       "_model_module": "@jupyter-widgets/base",
       "_model_module_version": "1.2.0",
       "_model_name": "LayoutModel",
       "_view_count": null,
       "_view_module": "@jupyter-widgets/base",
       "_view_module_version": "1.2.0",
       "_view_name": "LayoutView",
       "align_content": null,
       "align_items": null,
       "align_self": null,
       "border": null,
       "bottom": null,
       "display": null,
       "flex": null,
       "flex_flow": null,
       "grid_area": null,
       "grid_auto_columns": null,
       "grid_auto_flow": null,
       "grid_auto_rows": null,
       "grid_column": null,
       "grid_gap": null,
       "grid_row": null,
       "grid_template_areas": null,
       "grid_template_columns": null,
       "grid_template_rows": null,
       "height": null,
       "justify_content": null,
       "justify_items": null,
       "left": null,
       "margin": null,
       "max_height": null,
       "max_width": null,
       "min_height": null,
       "min_width": null,
       "object_fit": null,
       "object_position": null,
       "order": null,
       "overflow": null,
       "overflow_x": null,
       "overflow_y": null,
       "padding": null,
       "right": null,
       "top": null,
       "visibility": null,
       "width": null
      }
     },
     "07af3bac2b714e048a4ef9fb38c32804": {
      "model_module": "@jupyter-widgets/controls",
      "model_module_version": "1.5.0",
      "model_name": "HTMLModel",
      "state": {
       "_dom_classes": [],
       "_model_module": "@jupyter-widgets/controls",
       "_model_module_version": "1.5.0",
       "_model_name": "HTMLModel",
       "_view_count": null,
       "_view_module": "@jupyter-widgets/controls",
       "_view_module_version": "1.5.0",
       "_view_name": "HTMLView",
       "description": "",
       "description_tooltip": null,
       "layout": "IPY_MODEL_0e77fa69871b4614b1b27ae8e12631bd",
       "placeholder": "​",
       "style": "IPY_MODEL_c90f3df512ac4e36b389ed7fa84c4e26",
       "value": " 224/224 [01:35&lt;00:00,  7.53it/s]"
      }
     },
     "0e77fa69871b4614b1b27ae8e12631bd": {
      "model_module": "@jupyter-widgets/base",
      "model_module_version": "1.2.0",
      "model_name": "LayoutModel",
      "state": {
       "_model_module": "@jupyter-widgets/base",
       "_model_module_version": "1.2.0",
       "_model_name": "LayoutModel",
       "_view_count": null,
       "_view_module": "@jupyter-widgets/base",
       "_view_module_version": "1.2.0",
       "_view_name": "LayoutView",
       "align_content": null,
       "align_items": null,
       "align_self": null,
       "border": null,
       "bottom": null,
       "display": null,
       "flex": null,
       "flex_flow": null,
       "grid_area": null,
       "grid_auto_columns": null,
       "grid_auto_flow": null,
       "grid_auto_rows": null,
       "grid_column": null,
       "grid_gap": null,
       "grid_row": null,
       "grid_template_areas": null,
       "grid_template_columns": null,
       "grid_template_rows": null,
       "height": null,
       "justify_content": null,
       "justify_items": null,
       "left": null,
       "margin": null,
       "max_height": null,
       "max_width": null,
       "min_height": null,
       "min_width": null,
       "object_fit": null,
       "object_position": null,
       "order": null,
       "overflow": null,
       "overflow_x": null,
       "overflow_y": null,
       "padding": null,
       "right": null,
       "top": null,
       "visibility": null,
       "width": null
      }
     },
     "115c1ce231034899b39d98b8e7955102": {
      "model_module": "@jupyter-widgets/base",
      "model_module_version": "1.2.0",
      "model_name": "LayoutModel",
      "state": {
       "_model_module": "@jupyter-widgets/base",
       "_model_module_version": "1.2.0",
       "_model_name": "LayoutModel",
       "_view_count": null,
       "_view_module": "@jupyter-widgets/base",
       "_view_module_version": "1.2.0",
       "_view_name": "LayoutView",
       "align_content": null,
       "align_items": null,
       "align_self": null,
       "border": null,
       "bottom": null,
       "display": null,
       "flex": null,
       "flex_flow": null,
       "grid_area": null,
       "grid_auto_columns": null,
       "grid_auto_flow": null,
       "grid_auto_rows": null,
       "grid_column": null,
       "grid_gap": null,
       "grid_row": null,
       "grid_template_areas": null,
       "grid_template_columns": null,
       "grid_template_rows": null,
       "height": null,
       "justify_content": null,
       "justify_items": null,
       "left": null,
       "margin": null,
       "max_height": null,
       "max_width": null,
       "min_height": null,
       "min_width": null,
       "object_fit": null,
       "object_position": null,
       "order": null,
       "overflow": null,
       "overflow_x": null,
       "overflow_y": null,
       "padding": null,
       "right": null,
       "top": null,
       "visibility": null,
       "width": null
      }
     },
     "12608a1b084c4068bf3307429443552e": {
      "model_module": "@jupyter-widgets/controls",
      "model_module_version": "1.5.0",
      "model_name": "HTMLModel",
      "state": {
       "_dom_classes": [],
       "_model_module": "@jupyter-widgets/controls",
       "_model_module_version": "1.5.0",
       "_model_name": "HTMLModel",
       "_view_count": null,
       "_view_module": "@jupyter-widgets/controls",
       "_view_module_version": "1.5.0",
       "_view_name": "HTMLView",
       "description": "",
       "description_tooltip": null,
       "layout": "IPY_MODEL_eb2af181c31e438eb28d80e31d5a4c0f",
       "placeholder": "​",
       "style": "IPY_MODEL_c59c9711568a482bab73028805acd7eb",
       "value": "Batches: 100%"
      }
     },
     "21272b009aea4eac9e6436ca07e0b983": {
      "model_module": "@jupyter-widgets/base",
      "model_module_version": "1.2.0",
      "model_name": "LayoutModel",
      "state": {
       "_model_module": "@jupyter-widgets/base",
       "_model_module_version": "1.2.0",
       "_model_name": "LayoutModel",
       "_view_count": null,
       "_view_module": "@jupyter-widgets/base",
       "_view_module_version": "1.2.0",
       "_view_name": "LayoutView",
       "align_content": null,
       "align_items": null,
       "align_self": null,
       "border": null,
       "bottom": null,
       "display": null,
       "flex": null,
       "flex_flow": null,
       "grid_area": null,
       "grid_auto_columns": null,
       "grid_auto_flow": null,
       "grid_auto_rows": null,
       "grid_column": null,
       "grid_gap": null,
       "grid_row": null,
       "grid_template_areas": null,
       "grid_template_columns": null,
       "grid_template_rows": null,
       "height": null,
       "justify_content": null,
       "justify_items": null,
       "left": null,
       "margin": null,
       "max_height": null,
       "max_width": null,
       "min_height": null,
       "min_width": null,
       "object_fit": null,
       "object_position": null,
       "order": null,
       "overflow": null,
       "overflow_x": null,
       "overflow_y": null,
       "padding": null,
       "right": null,
       "top": null,
       "visibility": null,
       "width": null
      }
     },
     "250a6575c58c4412ab299d1bba236070": {
      "model_module": "@jupyter-widgets/base",
      "model_module_version": "1.2.0",
      "model_name": "LayoutModel",
      "state": {
       "_model_module": "@jupyter-widgets/base",
       "_model_module_version": "1.2.0",
       "_model_name": "LayoutModel",
       "_view_count": null,
       "_view_module": "@jupyter-widgets/base",
       "_view_module_version": "1.2.0",
       "_view_name": "LayoutView",
       "align_content": null,
       "align_items": null,
       "align_self": null,
       "border": null,
       "bottom": null,
       "display": null,
       "flex": null,
       "flex_flow": null,
       "grid_area": null,
       "grid_auto_columns": null,
       "grid_auto_flow": null,
       "grid_auto_rows": null,
       "grid_column": null,
       "grid_gap": null,
       "grid_row": null,
       "grid_template_areas": null,
       "grid_template_columns": null,
       "grid_template_rows": null,
       "height": null,
       "justify_content": null,
       "justify_items": null,
       "left": null,
       "margin": null,
       "max_height": null,
       "max_width": null,
       "min_height": null,
       "min_width": null,
       "object_fit": null,
       "object_position": null,
       "order": null,
       "overflow": null,
       "overflow_x": null,
       "overflow_y": null,
       "padding": null,
       "right": null,
       "top": null,
       "visibility": null,
       "width": null
      }
     },
     "3033cddec1b7433188937a1691ef9427": {
      "model_module": "@jupyter-widgets/controls",
      "model_module_version": "1.5.0",
      "model_name": "DescriptionStyleModel",
      "state": {
       "_model_module": "@jupyter-widgets/controls",
       "_model_module_version": "1.5.0",
       "_model_name": "DescriptionStyleModel",
       "_view_count": null,
       "_view_module": "@jupyter-widgets/base",
       "_view_module_version": "1.2.0",
       "_view_name": "StyleView",
       "description_width": ""
      }
     },
     "333608dba5194e56be3efa373a5f6440": {
      "model_module": "@jupyter-widgets/base",
      "model_module_version": "1.2.0",
      "model_name": "LayoutModel",
      "state": {
       "_model_module": "@jupyter-widgets/base",
       "_model_module_version": "1.2.0",
       "_model_name": "LayoutModel",
       "_view_count": null,
       "_view_module": "@jupyter-widgets/base",
       "_view_module_version": "1.2.0",
       "_view_name": "LayoutView",
       "align_content": null,
       "align_items": null,
       "align_self": null,
       "border": null,
       "bottom": null,
       "display": null,
       "flex": null,
       "flex_flow": null,
       "grid_area": null,
       "grid_auto_columns": null,
       "grid_auto_flow": null,
       "grid_auto_rows": null,
       "grid_column": null,
       "grid_gap": null,
       "grid_row": null,
       "grid_template_areas": null,
       "grid_template_columns": null,
       "grid_template_rows": null,
       "height": null,
       "justify_content": null,
       "justify_items": null,
       "left": null,
       "margin": null,
       "max_height": null,
       "max_width": null,
       "min_height": null,
       "min_width": null,
       "object_fit": null,
       "object_position": null,
       "order": null,
       "overflow": null,
       "overflow_x": null,
       "overflow_y": null,
       "padding": null,
       "right": null,
       "top": null,
       "visibility": null,
       "width": null
      }
     },
     "37ff8d0db1f949b4b4b568d9cb7778d5": {
      "model_module": "@jupyter-widgets/controls",
      "model_module_version": "1.5.0",
      "model_name": "ProgressStyleModel",
      "state": {
       "_model_module": "@jupyter-widgets/controls",
       "_model_module_version": "1.5.0",
       "_model_name": "ProgressStyleModel",
       "_view_count": null,
       "_view_module": "@jupyter-widgets/base",
       "_view_module_version": "1.2.0",
       "_view_name": "StyleView",
       "bar_color": null,
       "description_width": ""
      }
     },
     "40c94d11f180489c82078b6f61d0d072": {
      "model_module": "@jupyter-widgets/base",
      "model_module_version": "1.2.0",
      "model_name": "LayoutModel",
      "state": {
       "_model_module": "@jupyter-widgets/base",
       "_model_module_version": "1.2.0",
       "_model_name": "LayoutModel",
       "_view_count": null,
       "_view_module": "@jupyter-widgets/base",
       "_view_module_version": "1.2.0",
       "_view_name": "LayoutView",
       "align_content": null,
       "align_items": null,
       "align_self": null,
       "border": null,
       "bottom": null,
       "display": null,
       "flex": null,
       "flex_flow": null,
       "grid_area": null,
       "grid_auto_columns": null,
       "grid_auto_flow": null,
       "grid_auto_rows": null,
       "grid_column": null,
       "grid_gap": null,
       "grid_row": null,
       "grid_template_areas": null,
       "grid_template_columns": null,
       "grid_template_rows": null,
       "height": null,
       "justify_content": null,
       "justify_items": null,
       "left": null,
       "margin": null,
       "max_height": null,
       "max_width": null,
       "min_height": null,
       "min_width": null,
       "object_fit": null,
       "object_position": null,
       "order": null,
       "overflow": null,
       "overflow_x": null,
       "overflow_y": null,
       "padding": null,
       "right": null,
       "top": null,
       "visibility": null,
       "width": null
      }
     },
     "42830315c0c44186ad5da8bbc4f2194b": {
      "model_module": "@jupyter-widgets/controls",
      "model_module_version": "1.5.0",
      "model_name": "HBoxModel",
      "state": {
       "_dom_classes": [],
       "_model_module": "@jupyter-widgets/controls",
       "_model_module_version": "1.5.0",
       "_model_name": "HBoxModel",
       "_view_count": null,
       "_view_module": "@jupyter-widgets/controls",
       "_view_module_version": "1.5.0",
       "_view_name": "HBoxView",
       "box_style": "",
       "children": [
        "IPY_MODEL_eb0759a0753e41fdb93a6c3fe0c25b5d",
        "IPY_MODEL_8db7653578ba45308fd16df268e2624c",
        "IPY_MODEL_660ab5f718b44f5990f25b9699f6f41c"
       ],
       "layout": "IPY_MODEL_f0edec969e554a439e9425ad9916c7a9"
      }
     },
     "4375e6eb467e47c19609691230631cf1": {
      "model_module": "@jupyter-widgets/controls",
      "model_module_version": "1.5.0",
      "model_name": "HBoxModel",
      "state": {
       "_dom_classes": [],
       "_model_module": "@jupyter-widgets/controls",
       "_model_module_version": "1.5.0",
       "_model_name": "HBoxModel",
       "_view_count": null,
       "_view_module": "@jupyter-widgets/controls",
       "_view_module_version": "1.5.0",
       "_view_name": "HBoxView",
       "box_style": "",
       "children": [
        "IPY_MODEL_12608a1b084c4068bf3307429443552e",
        "IPY_MODEL_4910ba3023764bed828df8e688fd4d01",
        "IPY_MODEL_07af3bac2b714e048a4ef9fb38c32804"
       ],
       "layout": "IPY_MODEL_9aef60241960452ab8e418c7a4d33fec"
      }
     },
     "47eb5b1796794af79633a447e787e0dd": {
      "model_module": "@jupyter-widgets/controls",
      "model_module_version": "1.5.0",
      "model_name": "ProgressStyleModel",
      "state": {
       "_model_module": "@jupyter-widgets/controls",
       "_model_module_version": "1.5.0",
       "_model_name": "ProgressStyleModel",
       "_view_count": null,
       "_view_module": "@jupyter-widgets/base",
       "_view_module_version": "1.2.0",
       "_view_name": "StyleView",
       "bar_color": null,
       "description_width": ""
      }
     },
     "4910ba3023764bed828df8e688fd4d01": {
      "model_module": "@jupyter-widgets/controls",
      "model_module_version": "1.5.0",
      "model_name": "FloatProgressModel",
      "state": {
       "_dom_classes": [],
       "_model_module": "@jupyter-widgets/controls",
       "_model_module_version": "1.5.0",
       "_model_name": "FloatProgressModel",
       "_view_count": null,
       "_view_module": "@jupyter-widgets/controls",
       "_view_module_version": "1.5.0",
       "_view_name": "ProgressView",
       "bar_style": "success",
       "description": "",
       "description_tooltip": null,
       "layout": "IPY_MODEL_a8ec39fe823d4c4691f460af7783c4e7",
       "max": 224.0,
       "min": 0.0,
       "orientation": "horizontal",
       "style": "IPY_MODEL_ecac76019f99458e9b4b19ec1dccd013",
       "value": 224.0
      }
     },
     "4f5a68a233e64b728c7896346d3287ac": {
      "model_module": "@jupyter-widgets/controls",
      "model_module_version": "1.5.0",
      "model_name": "DescriptionStyleModel",
      "state": {
       "_model_module": "@jupyter-widgets/controls",
       "_model_module_version": "1.5.0",
       "_model_name": "DescriptionStyleModel",
       "_view_count": null,
       "_view_module": "@jupyter-widgets/base",
       "_view_module_version": "1.2.0",
       "_view_name": "StyleView",
       "description_width": ""
      }
     },
     "5a2ca3c7e927477c9457c0a46fd355f2": {
      "model_module": "@jupyter-widgets/controls",
      "model_module_version": "1.5.0",
      "model_name": "HTMLModel",
      "state": {
       "_dom_classes": [],
       "_model_module": "@jupyter-widgets/controls",
       "_model_module_version": "1.5.0",
       "_model_name": "HTMLModel",
       "_view_count": null,
       "_view_module": "@jupyter-widgets/controls",
       "_view_module_version": "1.5.0",
       "_view_name": "HTMLView",
       "description": "",
       "description_tooltip": null,
       "layout": "IPY_MODEL_250a6575c58c4412ab299d1bba236070",
       "placeholder": "​",
       "style": "IPY_MODEL_f4f72a350162461cb13f8e72cc8994bf",
       "value": "Batches: 100%"
      }
     },
     "5afd721e27b742deb2c9eabfa39357d8": {
      "model_module": "@jupyter-widgets/base",
      "model_module_version": "1.2.0",
      "model_name": "LayoutModel",
      "state": {
       "_model_module": "@jupyter-widgets/base",
       "_model_module_version": "1.2.0",
       "_model_name": "LayoutModel",
       "_view_count": null,
       "_view_module": "@jupyter-widgets/base",
       "_view_module_version": "1.2.0",
       "_view_name": "LayoutView",
       "align_content": null,
       "align_items": null,
       "align_self": null,
       "border": null,
       "bottom": null,
       "display": null,
       "flex": null,
       "flex_flow": null,
       "grid_area": null,
       "grid_auto_columns": null,
       "grid_auto_flow": null,
       "grid_auto_rows": null,
       "grid_column": null,
       "grid_gap": null,
       "grid_row": null,
       "grid_template_areas": null,
       "grid_template_columns": null,
       "grid_template_rows": null,
       "height": null,
       "justify_content": null,
       "justify_items": null,
       "left": null,
       "margin": null,
       "max_height": null,
       "max_width": null,
       "min_height": null,
       "min_width": null,
       "object_fit": null,
       "object_position": null,
       "order": null,
       "overflow": null,
       "overflow_x": null,
       "overflow_y": null,
       "padding": null,
       "right": null,
       "top": null,
       "visibility": null,
       "width": null
      }
     },
     "660ab5f718b44f5990f25b9699f6f41c": {
      "model_module": "@jupyter-widgets/controls",
      "model_module_version": "1.5.0",
      "model_name": "HTMLModel",
      "state": {
       "_dom_classes": [],
       "_model_module": "@jupyter-widgets/controls",
       "_model_module_version": "1.5.0",
       "_model_name": "HTMLModel",
       "_view_count": null,
       "_view_module": "@jupyter-widgets/controls",
       "_view_module_version": "1.5.0",
       "_view_name": "HTMLView",
       "description": "",
       "description_tooltip": null,
       "layout": "IPY_MODEL_21272b009aea4eac9e6436ca07e0b983",
       "placeholder": "​",
       "style": "IPY_MODEL_3033cddec1b7433188937a1691ef9427",
       "value": " 1/1 [00:00&lt;00:00, 37.15it/s]"
      }
     },
     "661b855cdfda46cca0580b9d2647cd9b": {
      "model_module": "@jupyter-widgets/controls",
      "model_module_version": "1.5.0",
      "model_name": "FloatProgressModel",
      "state": {
       "_dom_classes": [],
       "_model_module": "@jupyter-widgets/controls",
       "_model_module_version": "1.5.0",
       "_model_name": "FloatProgressModel",
       "_view_count": null,
       "_view_module": "@jupyter-widgets/controls",
       "_view_module_version": "1.5.0",
       "_view_name": "ProgressView",
       "bar_style": "success",
       "description": "",
       "description_tooltip": null,
       "layout": "IPY_MODEL_5afd721e27b742deb2c9eabfa39357d8",
       "max": 1.0,
       "min": 0.0,
       "orientation": "horizontal",
       "style": "IPY_MODEL_f117530b094545eeb5c0d9e972be8cb5",
       "value": 1.0
      }
     },
     "67a137cf6d2140beb23f584b193f57f9": {
      "model_module": "@jupyter-widgets/controls",
      "model_module_version": "1.5.0",
      "model_name": "FloatProgressModel",
      "state": {
       "_dom_classes": [],
       "_model_module": "@jupyter-widgets/controls",
       "_model_module_version": "1.5.0",
       "_model_name": "FloatProgressModel",
       "_view_count": null,
       "_view_module": "@jupyter-widgets/controls",
       "_view_module_version": "1.5.0",
       "_view_name": "ProgressView",
       "bar_style": "success",
       "description": "",
       "description_tooltip": null,
       "layout": "IPY_MODEL_fcfe52a10f1440f4a09bc7bc99362bbb",
       "max": 1.0,
       "min": 0.0,
       "orientation": "horizontal",
       "style": "IPY_MODEL_47eb5b1796794af79633a447e787e0dd",
       "value": 1.0
      }
     },
     "71564a7655b74b5ba2ce4d94d05682e0": {
      "model_module": "@jupyter-widgets/base",
      "model_module_version": "1.2.0",
      "model_name": "LayoutModel",
      "state": {
       "_model_module": "@jupyter-widgets/base",
       "_model_module_version": "1.2.0",
       "_model_name": "LayoutModel",
       "_view_count": null,
       "_view_module": "@jupyter-widgets/base",
       "_view_module_version": "1.2.0",
       "_view_name": "LayoutView",
       "align_content": null,
       "align_items": null,
       "align_self": null,
       "border": null,
       "bottom": null,
       "display": null,
       "flex": null,
       "flex_flow": null,
       "grid_area": null,
       "grid_auto_columns": null,
       "grid_auto_flow": null,
       "grid_auto_rows": null,
       "grid_column": null,
       "grid_gap": null,
       "grid_row": null,
       "grid_template_areas": null,
       "grid_template_columns": null,
       "grid_template_rows": null,
       "height": null,
       "justify_content": null,
       "justify_items": null,
       "left": null,
       "margin": null,
       "max_height": null,
       "max_width": null,
       "min_height": null,
       "min_width": null,
       "object_fit": null,
       "object_position": null,
       "order": null,
       "overflow": null,
       "overflow_x": null,
       "overflow_y": null,
       "padding": null,
       "right": null,
       "top": null,
       "visibility": null,
       "width": null
      }
     },
     "8aa8905ff74b4c2ea2f418cfcc2b3352": {
      "model_module": "@jupyter-widgets/controls",
      "model_module_version": "1.5.0",
      "model_name": "DescriptionStyleModel",
      "state": {
       "_model_module": "@jupyter-widgets/controls",
       "_model_module_version": "1.5.0",
       "_model_name": "DescriptionStyleModel",
       "_view_count": null,
       "_view_module": "@jupyter-widgets/base",
       "_view_module_version": "1.2.0",
       "_view_name": "StyleView",
       "description_width": ""
      }
     },
     "8db7653578ba45308fd16df268e2624c": {
      "model_module": "@jupyter-widgets/controls",
      "model_module_version": "1.5.0",
      "model_name": "FloatProgressModel",
      "state": {
       "_dom_classes": [],
       "_model_module": "@jupyter-widgets/controls",
       "_model_module_version": "1.5.0",
       "_model_name": "FloatProgressModel",
       "_view_count": null,
       "_view_module": "@jupyter-widgets/controls",
       "_view_module_version": "1.5.0",
       "_view_name": "ProgressView",
       "bar_style": "success",
       "description": "",
       "description_tooltip": null,
       "layout": "IPY_MODEL_042c8d57ad874473906ddc0421a38d72",
       "max": 1.0,
       "min": 0.0,
       "orientation": "horizontal",
       "style": "IPY_MODEL_37ff8d0db1f949b4b4b568d9cb7778d5",
       "value": 1.0
      }
     },
     "9242b01aaf4f4b41b976ad17a064d9b7": {
      "model_module": "@jupyter-widgets/controls",
      "model_module_version": "1.5.0",
      "model_name": "HBoxModel",
      "state": {
       "_dom_classes": [],
       "_model_module": "@jupyter-widgets/controls",
       "_model_module_version": "1.5.0",
       "_model_name": "HBoxModel",
       "_view_count": null,
       "_view_module": "@jupyter-widgets/controls",
       "_view_module_version": "1.5.0",
       "_view_name": "HBoxView",
       "box_style": "",
       "children": [
        "IPY_MODEL_f7438ed4f5a8459998f28082f8a31401",
        "IPY_MODEL_661b855cdfda46cca0580b9d2647cd9b",
        "IPY_MODEL_a2b6d35ef80d48569cc0a074793b0e32"
       ],
       "layout": "IPY_MODEL_40c94d11f180489c82078b6f61d0d072"
      }
     },
     "99a3c5c3eb464502a3a9b314feb0be1d": {
      "model_module": "@jupyter-widgets/base",
      "model_module_version": "1.2.0",
      "model_name": "LayoutModel",
      "state": {
       "_model_module": "@jupyter-widgets/base",
       "_model_module_version": "1.2.0",
       "_model_name": "LayoutModel",
       "_view_count": null,
       "_view_module": "@jupyter-widgets/base",
       "_view_module_version": "1.2.0",
       "_view_name": "LayoutView",
       "align_content": null,
       "align_items": null,
       "align_self": null,
       "border": null,
       "bottom": null,
       "display": null,
       "flex": null,
       "flex_flow": null,
       "grid_area": null,
       "grid_auto_columns": null,
       "grid_auto_flow": null,
       "grid_auto_rows": null,
       "grid_column": null,
       "grid_gap": null,
       "grid_row": null,
       "grid_template_areas": null,
       "grid_template_columns": null,
       "grid_template_rows": null,
       "height": null,
       "justify_content": null,
       "justify_items": null,
       "left": null,
       "margin": null,
       "max_height": null,
       "max_width": null,
       "min_height": null,
       "min_width": null,
       "object_fit": null,
       "object_position": null,
       "order": null,
       "overflow": null,
       "overflow_x": null,
       "overflow_y": null,
       "padding": null,
       "right": null,
       "top": null,
       "visibility": null,
       "width": null
      }
     },
     "9aec38adc3b14b3da197c3ac47e1fc38": {
      "model_module": "@jupyter-widgets/base",
      "model_module_version": "1.2.0",
      "model_name": "LayoutModel",
      "state": {
       "_model_module": "@jupyter-widgets/base",
       "_model_module_version": "1.2.0",
       "_model_name": "LayoutModel",
       "_view_count": null,
       "_view_module": "@jupyter-widgets/base",
       "_view_module_version": "1.2.0",
       "_view_name": "LayoutView",
       "align_content": null,
       "align_items": null,
       "align_self": null,
       "border": null,
       "bottom": null,
       "display": null,
       "flex": null,
       "flex_flow": null,
       "grid_area": null,
       "grid_auto_columns": null,
       "grid_auto_flow": null,
       "grid_auto_rows": null,
       "grid_column": null,
       "grid_gap": null,
       "grid_row": null,
       "grid_template_areas": null,
       "grid_template_columns": null,
       "grid_template_rows": null,
       "height": null,
       "justify_content": null,
       "justify_items": null,
       "left": null,
       "margin": null,
       "max_height": null,
       "max_width": null,
       "min_height": null,
       "min_width": null,
       "object_fit": null,
       "object_position": null,
       "order": null,
       "overflow": null,
       "overflow_x": null,
       "overflow_y": null,
       "padding": null,
       "right": null,
       "top": null,
       "visibility": null,
       "width": null
      }
     },
     "9aef60241960452ab8e418c7a4d33fec": {
      "model_module": "@jupyter-widgets/base",
      "model_module_version": "1.2.0",
      "model_name": "LayoutModel",
      "state": {
       "_model_module": "@jupyter-widgets/base",
       "_model_module_version": "1.2.0",
       "_model_name": "LayoutModel",
       "_view_count": null,
       "_view_module": "@jupyter-widgets/base",
       "_view_module_version": "1.2.0",
       "_view_name": "LayoutView",
       "align_content": null,
       "align_items": null,
       "align_self": null,
       "border": null,
       "bottom": null,
       "display": null,
       "flex": null,
       "flex_flow": null,
       "grid_area": null,
       "grid_auto_columns": null,
       "grid_auto_flow": null,
       "grid_auto_rows": null,
       "grid_column": null,
       "grid_gap": null,
       "grid_row": null,
       "grid_template_areas": null,
       "grid_template_columns": null,
       "grid_template_rows": null,
       "height": null,
       "justify_content": null,
       "justify_items": null,
       "left": null,
       "margin": null,
       "max_height": null,
       "max_width": null,
       "min_height": null,
       "min_width": null,
       "object_fit": null,
       "object_position": null,
       "order": null,
       "overflow": null,
       "overflow_x": null,
       "overflow_y": null,
       "padding": null,
       "right": null,
       "top": null,
       "visibility": null,
       "width": null
      }
     },
     "9b06d697027a443c9bc01c56aaabf768": {
      "model_module": "@jupyter-widgets/controls",
      "model_module_version": "1.5.0",
      "model_name": "HBoxModel",
      "state": {
       "_dom_classes": [],
       "_model_module": "@jupyter-widgets/controls",
       "_model_module_version": "1.5.0",
       "_model_name": "HBoxModel",
       "_view_count": null,
       "_view_module": "@jupyter-widgets/controls",
       "_view_module_version": "1.5.0",
       "_view_name": "HBoxView",
       "box_style": "",
       "children": [
        "IPY_MODEL_5a2ca3c7e927477c9457c0a46fd355f2",
        "IPY_MODEL_67a137cf6d2140beb23f584b193f57f9",
        "IPY_MODEL_f1c781aacb84431dabf2586619162c66"
       ],
       "layout": "IPY_MODEL_9aec38adc3b14b3da197c3ac47e1fc38"
      }
     },
     "a2b6d35ef80d48569cc0a074793b0e32": {
      "model_module": "@jupyter-widgets/controls",
      "model_module_version": "1.5.0",
      "model_name": "HTMLModel",
      "state": {
       "_dom_classes": [],
       "_model_module": "@jupyter-widgets/controls",
       "_model_module_version": "1.5.0",
       "_model_name": "HTMLModel",
       "_view_count": null,
       "_view_module": "@jupyter-widgets/controls",
       "_view_module_version": "1.5.0",
       "_view_name": "HTMLView",
       "description": "",
       "description_tooltip": null,
       "layout": "IPY_MODEL_99a3c5c3eb464502a3a9b314feb0be1d",
       "placeholder": "​",
       "style": "IPY_MODEL_4f5a68a233e64b728c7896346d3287ac",
       "value": " 1/1 [00:00&lt;00:00,  1.80it/s]"
      }
     },
     "a8ec39fe823d4c4691f460af7783c4e7": {
      "model_module": "@jupyter-widgets/base",
      "model_module_version": "1.2.0",
      "model_name": "LayoutModel",
      "state": {
       "_model_module": "@jupyter-widgets/base",
       "_model_module_version": "1.2.0",
       "_model_name": "LayoutModel",
       "_view_count": null,
       "_view_module": "@jupyter-widgets/base",
       "_view_module_version": "1.2.0",
       "_view_name": "LayoutView",
       "align_content": null,
       "align_items": null,
       "align_self": null,
       "border": null,
       "bottom": null,
       "display": null,
       "flex": null,
       "flex_flow": null,
       "grid_area": null,
       "grid_auto_columns": null,
       "grid_auto_flow": null,
       "grid_auto_rows": null,
       "grid_column": null,
       "grid_gap": null,
       "grid_row": null,
       "grid_template_areas": null,
       "grid_template_columns": null,
       "grid_template_rows": null,
       "height": null,
       "justify_content": null,
       "justify_items": null,
       "left": null,
       "margin": null,
       "max_height": null,
       "max_width": null,
       "min_height": null,
       "min_width": null,
       "object_fit": null,
       "object_position": null,
       "order": null,
       "overflow": null,
       "overflow_x": null,
       "overflow_y": null,
       "padding": null,
       "right": null,
       "top": null,
       "visibility": null,
       "width": null
      }
     },
     "b6ce18ec86014e35a2e97503e74f7f68": {
      "model_module": "@jupyter-widgets/controls",
      "model_module_version": "1.5.0",
      "model_name": "DescriptionStyleModel",
      "state": {
       "_model_module": "@jupyter-widgets/controls",
       "_model_module_version": "1.5.0",
       "_model_name": "DescriptionStyleModel",
       "_view_count": null,
       "_view_module": "@jupyter-widgets/base",
       "_view_module_version": "1.2.0",
       "_view_name": "StyleView",
       "description_width": ""
      }
     },
     "c59c9711568a482bab73028805acd7eb": {
      "model_module": "@jupyter-widgets/controls",
      "model_module_version": "1.5.0",
      "model_name": "DescriptionStyleModel",
      "state": {
       "_model_module": "@jupyter-widgets/controls",
       "_model_module_version": "1.5.0",
       "_model_name": "DescriptionStyleModel",
       "_view_count": null,
       "_view_module": "@jupyter-widgets/base",
       "_view_module_version": "1.2.0",
       "_view_name": "StyleView",
       "description_width": ""
      }
     },
     "c90f3df512ac4e36b389ed7fa84c4e26": {
      "model_module": "@jupyter-widgets/controls",
      "model_module_version": "1.5.0",
      "model_name": "DescriptionStyleModel",
      "state": {
       "_model_module": "@jupyter-widgets/controls",
       "_model_module_version": "1.5.0",
       "_model_name": "DescriptionStyleModel",
       "_view_count": null,
       "_view_module": "@jupyter-widgets/base",
       "_view_module_version": "1.2.0",
       "_view_name": "StyleView",
       "description_width": ""
      }
     },
     "e7bcb72016c9470f8bf21fadaf808b29": {
      "model_module": "@jupyter-widgets/controls",
      "model_module_version": "1.5.0",
      "model_name": "DescriptionStyleModel",
      "state": {
       "_model_module": "@jupyter-widgets/controls",
       "_model_module_version": "1.5.0",
       "_model_name": "DescriptionStyleModel",
       "_view_count": null,
       "_view_module": "@jupyter-widgets/base",
       "_view_module_version": "1.2.0",
       "_view_name": "StyleView",
       "description_width": ""
      }
     },
     "eb0759a0753e41fdb93a6c3fe0c25b5d": {
      "model_module": "@jupyter-widgets/controls",
      "model_module_version": "1.5.0",
      "model_name": "HTMLModel",
      "state": {
       "_dom_classes": [],
       "_model_module": "@jupyter-widgets/controls",
       "_model_module_version": "1.5.0",
       "_model_name": "HTMLModel",
       "_view_count": null,
       "_view_module": "@jupyter-widgets/controls",
       "_view_module_version": "1.5.0",
       "_view_name": "HTMLView",
       "description": "",
       "description_tooltip": null,
       "layout": "IPY_MODEL_333608dba5194e56be3efa373a5f6440",
       "placeholder": "​",
       "style": "IPY_MODEL_8aa8905ff74b4c2ea2f418cfcc2b3352",
       "value": "Batches: 100%"
      }
     },
     "eb2af181c31e438eb28d80e31d5a4c0f": {
      "model_module": "@jupyter-widgets/base",
      "model_module_version": "1.2.0",
      "model_name": "LayoutModel",
      "state": {
       "_model_module": "@jupyter-widgets/base",
       "_model_module_version": "1.2.0",
       "_model_name": "LayoutModel",
       "_view_count": null,
       "_view_module": "@jupyter-widgets/base",
       "_view_module_version": "1.2.0",
       "_view_name": "LayoutView",
       "align_content": null,
       "align_items": null,
       "align_self": null,
       "border": null,
       "bottom": null,
       "display": null,
       "flex": null,
       "flex_flow": null,
       "grid_area": null,
       "grid_auto_columns": null,
       "grid_auto_flow": null,
       "grid_auto_rows": null,
       "grid_column": null,
       "grid_gap": null,
       "grid_row": null,
       "grid_template_areas": null,
       "grid_template_columns": null,
       "grid_template_rows": null,
       "height": null,
       "justify_content": null,
       "justify_items": null,
       "left": null,
       "margin": null,
       "max_height": null,
       "max_width": null,
       "min_height": null,
       "min_width": null,
       "object_fit": null,
       "object_position": null,
       "order": null,
       "overflow": null,
       "overflow_x": null,
       "overflow_y": null,
       "padding": null,
       "right": null,
       "top": null,
       "visibility": null,
       "width": null
      }
     },
     "ecac76019f99458e9b4b19ec1dccd013": {
      "model_module": "@jupyter-widgets/controls",
      "model_module_version": "1.5.0",
      "model_name": "ProgressStyleModel",
      "state": {
       "_model_module": "@jupyter-widgets/controls",
       "_model_module_version": "1.5.0",
       "_model_name": "ProgressStyleModel",
       "_view_count": null,
       "_view_module": "@jupyter-widgets/base",
       "_view_module_version": "1.2.0",
       "_view_name": "StyleView",
       "bar_color": null,
       "description_width": ""
      }
     },
     "f0edec969e554a439e9425ad9916c7a9": {
      "model_module": "@jupyter-widgets/base",
      "model_module_version": "1.2.0",
      "model_name": "LayoutModel",
      "state": {
       "_model_module": "@jupyter-widgets/base",
       "_model_module_version": "1.2.0",
       "_model_name": "LayoutModel",
       "_view_count": null,
       "_view_module": "@jupyter-widgets/base",
       "_view_module_version": "1.2.0",
       "_view_name": "LayoutView",
       "align_content": null,
       "align_items": null,
       "align_self": null,
       "border": null,
       "bottom": null,
       "display": null,
       "flex": null,
       "flex_flow": null,
       "grid_area": null,
       "grid_auto_columns": null,
       "grid_auto_flow": null,
       "grid_auto_rows": null,
       "grid_column": null,
       "grid_gap": null,
       "grid_row": null,
       "grid_template_areas": null,
       "grid_template_columns": null,
       "grid_template_rows": null,
       "height": null,
       "justify_content": null,
       "justify_items": null,
       "left": null,
       "margin": null,
       "max_height": null,
       "max_width": null,
       "min_height": null,
       "min_width": null,
       "object_fit": null,
       "object_position": null,
       "order": null,
       "overflow": null,
       "overflow_x": null,
       "overflow_y": null,
       "padding": null,
       "right": null,
       "top": null,
       "visibility": null,
       "width": null
      }
     },
     "f117530b094545eeb5c0d9e972be8cb5": {
      "model_module": "@jupyter-widgets/controls",
      "model_module_version": "1.5.0",
      "model_name": "ProgressStyleModel",
      "state": {
       "_model_module": "@jupyter-widgets/controls",
       "_model_module_version": "1.5.0",
       "_model_name": "ProgressStyleModel",
       "_view_count": null,
       "_view_module": "@jupyter-widgets/base",
       "_view_module_version": "1.2.0",
       "_view_name": "StyleView",
       "bar_color": null,
       "description_width": ""
      }
     },
     "f1c781aacb84431dabf2586619162c66": {
      "model_module": "@jupyter-widgets/controls",
      "model_module_version": "1.5.0",
      "model_name": "HTMLModel",
      "state": {
       "_dom_classes": [],
       "_model_module": "@jupyter-widgets/controls",
       "_model_module_version": "1.5.0",
       "_model_name": "HTMLModel",
       "_view_count": null,
       "_view_module": "@jupyter-widgets/controls",
       "_view_module_version": "1.5.0",
       "_view_name": "HTMLView",
       "description": "",
       "description_tooltip": null,
       "layout": "IPY_MODEL_115c1ce231034899b39d98b8e7955102",
       "placeholder": "​",
       "style": "IPY_MODEL_e7bcb72016c9470f8bf21fadaf808b29",
       "value": " 1/1 [00:00&lt;00:00, 34.25it/s]"
      }
     },
     "f4f72a350162461cb13f8e72cc8994bf": {
      "model_module": "@jupyter-widgets/controls",
      "model_module_version": "1.5.0",
      "model_name": "DescriptionStyleModel",
      "state": {
       "_model_module": "@jupyter-widgets/controls",
       "_model_module_version": "1.5.0",
       "_model_name": "DescriptionStyleModel",
       "_view_count": null,
       "_view_module": "@jupyter-widgets/base",
       "_view_module_version": "1.2.0",
       "_view_name": "StyleView",
       "description_width": ""
      }
     },
     "f7438ed4f5a8459998f28082f8a31401": {
      "model_module": "@jupyter-widgets/controls",
      "model_module_version": "1.5.0",
      "model_name": "HTMLModel",
      "state": {
       "_dom_classes": [],
       "_model_module": "@jupyter-widgets/controls",
       "_model_module_version": "1.5.0",
       "_model_name": "HTMLModel",
       "_view_count": null,
       "_view_module": "@jupyter-widgets/controls",
       "_view_module_version": "1.5.0",
       "_view_name": "HTMLView",
       "description": "",
       "description_tooltip": null,
       "layout": "IPY_MODEL_71564a7655b74b5ba2ce4d94d05682e0",
       "placeholder": "​",
       "style": "IPY_MODEL_b6ce18ec86014e35a2e97503e74f7f68",
       "value": "Batches: 100%"
      }
     },
     "fcfe52a10f1440f4a09bc7bc99362bbb": {
      "model_module": "@jupyter-widgets/base",
      "model_module_version": "1.2.0",
      "model_name": "LayoutModel",
      "state": {
       "_model_module": "@jupyter-widgets/base",
       "_model_module_version": "1.2.0",
       "_model_name": "LayoutModel",
       "_view_count": null,
       "_view_module": "@jupyter-widgets/base",
       "_view_module_version": "1.2.0",
       "_view_name": "LayoutView",
       "align_content": null,
       "align_items": null,
       "align_self": null,
       "border": null,
       "bottom": null,
       "display": null,
       "flex": null,
       "flex_flow": null,
       "grid_area": null,
       "grid_auto_columns": null,
       "grid_auto_flow": null,
       "grid_auto_rows": null,
       "grid_column": null,
       "grid_gap": null,
       "grid_row": null,
       "grid_template_areas": null,
       "grid_template_columns": null,
       "grid_template_rows": null,
       "height": null,
       "justify_content": null,
       "justify_items": null,
       "left": null,
       "margin": null,
       "max_height": null,
       "max_width": null,
       "min_height": null,
       "min_width": null,
       "object_fit": null,
       "object_position": null,
       "order": null,
       "overflow": null,
       "overflow_x": null,
       "overflow_y": null,
       "padding": null,
       "right": null,
       "top": null,
       "visibility": null,
       "width": null
      }
     }
    },
    "version_major": 2,
    "version_minor": 0
   }
  }
 },
 "nbformat": 4,
 "nbformat_minor": 5
}
