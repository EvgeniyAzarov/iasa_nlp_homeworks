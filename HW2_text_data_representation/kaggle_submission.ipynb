{
 "cells": [
  {
   "cell_type": "code",
   "execution_count": 1,
   "id": "c1179e54",
   "metadata": {
    "_cell_guid": "a27727ff-33dc-4b3e-a4c8-72b53c11564d",
    "_kg_hide-output": true,
    "_uuid": "eacdce79-487c-4c50-9311-8170152a0b06",
    "collapsed": false,
    "execution": {
     "iopub.execute_input": "2023-10-10T00:06:31.096903Z",
     "iopub.status.busy": "2023-10-10T00:06:31.096255Z",
     "iopub.status.idle": "2023-10-10T00:06:32.557776Z",
     "shell.execute_reply": "2023-10-10T00:06:32.556666Z"
    },
    "jupyter": {
     "outputs_hidden": false
    },
    "papermill": {
     "duration": 1.472717,
     "end_time": "2023-10-10T00:06:32.560232",
     "exception": false,
     "start_time": "2023-10-10T00:06:31.087515",
     "status": "completed"
    },
    "tags": []
   },
   "outputs": [],
   "source": [
    "# This Python 3 environment comes with many helpful analytics libraries installed\n",
    "# It is defined by the kaggle/python Docker image: https://github.com/kaggle/docker-python\n",
    "# For example, here's several helpful packages to load\n",
    "\n",
    "import numpy as np # linear algebra\n",
    "import pandas as pd # data processing, CSV file I/O (e.g. pd.read_csv)\n",
    "\n",
    "# Input data files are available in the read-only \"../input/\" directory\n",
    "# For example, running this (by clicking run or pressing Shift+Enter) will list all files under the input directory\n",
    "\n",
    "import os\n",
    "for dirname, _, filenames in os.walk('/kaggle/input'):\n",
    "    for filename in filenames:\n",
    "        print(os.path.join(dirname, filename))\n",
    "\n",
    "# You can write up to 20GB to the current directory (/kaggle/working/) that gets preserved as output when you create a version using \"Save & Run All\" \n",
    "# You can also write temporary files to /kaggle/temp/, but they won't be saved outside of the current session"
   ]
  },
  {
   "cell_type": "code",
   "execution_count": 2,
   "id": "57b19e34",
   "metadata": {
    "_cell_guid": "9a28941e-b386-4849-8da3-c55e35bd5943",
    "_uuid": "ca19e382-e2b9-425c-95fb-f0693739f247",
    "collapsed": false,
    "execution": {
     "iopub.execute_input": "2023-10-10T00:06:32.578188Z",
     "iopub.status.busy": "2023-10-10T00:06:32.577389Z",
     "iopub.status.idle": "2023-10-10T00:07:13.563830Z",
     "shell.execute_reply": "2023-10-10T00:07:13.562536Z"
    },
    "jupyter": {
     "outputs_hidden": false
    },
    "papermill": {
     "duration": 40.998262,
     "end_time": "2023-10-10T00:07:13.566612",
     "exception": false,
     "start_time": "2023-10-10T00:06:32.568350",
     "status": "completed"
    },
    "tags": []
   },
   "outputs": [
    {
     "name": "stdout",
     "output_type": "stream",
     "text": [
      "Processing /tmp/st\r\n",
      "  Preparing metadata (setup.py) ... \u001b[?25l-\b \bdone\r\n",
      "\u001b[?25hRequirement already satisfied: transformers<5.0.0,>=4.6.0 in /opt/conda/lib/python3.10/site-packages (from sentence-transformers==2.2.2) (4.33.0)\r\n",
      "Requirement already satisfied: tqdm in /opt/conda/lib/python3.10/site-packages (from sentence-transformers==2.2.2) (4.66.1)\r\n",
      "Requirement already satisfied: torch>=1.6.0 in /opt/conda/lib/python3.10/site-packages (from sentence-transformers==2.2.2) (2.0.0+cpu)\r\n",
      "Requirement already satisfied: torchvision in /opt/conda/lib/python3.10/site-packages (from sentence-transformers==2.2.2) (0.15.1+cpu)\r\n",
      "Requirement already satisfied: numpy in /opt/conda/lib/python3.10/site-packages (from sentence-transformers==2.2.2) (1.23.5)\r\n",
      "Requirement already satisfied: scikit-learn in /opt/conda/lib/python3.10/site-packages (from sentence-transformers==2.2.2) (1.2.2)\r\n",
      "Requirement already satisfied: scipy in /opt/conda/lib/python3.10/site-packages (from sentence-transformers==2.2.2) (1.11.2)\r\n",
      "Requirement already satisfied: nltk in /opt/conda/lib/python3.10/site-packages (from sentence-transformers==2.2.2) (3.2.4)\r\n",
      "Requirement already satisfied: sentencepiece in /opt/conda/lib/python3.10/site-packages (from sentence-transformers==2.2.2) (0.1.99)\r\n",
      "Requirement already satisfied: huggingface-hub>=0.4.0 in /opt/conda/lib/python3.10/site-packages (from sentence-transformers==2.2.2) (0.16.4)\r\n",
      "Requirement already satisfied: filelock in /opt/conda/lib/python3.10/site-packages (from huggingface-hub>=0.4.0->sentence-transformers==2.2.2) (3.12.2)\r\n",
      "Requirement already satisfied: fsspec in /opt/conda/lib/python3.10/site-packages (from huggingface-hub>=0.4.0->sentence-transformers==2.2.2) (2023.9.0)\r\n",
      "Requirement already satisfied: requests in /opt/conda/lib/python3.10/site-packages (from huggingface-hub>=0.4.0->sentence-transformers==2.2.2) (2.31.0)\r\n",
      "Requirement already satisfied: pyyaml>=5.1 in /opt/conda/lib/python3.10/site-packages (from huggingface-hub>=0.4.0->sentence-transformers==2.2.2) (6.0)\r\n",
      "Requirement already satisfied: typing-extensions>=3.7.4.3 in /opt/conda/lib/python3.10/site-packages (from huggingface-hub>=0.4.0->sentence-transformers==2.2.2) (4.6.3)\r\n",
      "Requirement already satisfied: packaging>=20.9 in /opt/conda/lib/python3.10/site-packages (from huggingface-hub>=0.4.0->sentence-transformers==2.2.2) (21.3)\r\n",
      "Requirement already satisfied: sympy in /opt/conda/lib/python3.10/site-packages (from torch>=1.6.0->sentence-transformers==2.2.2) (1.12)\r\n",
      "Requirement already satisfied: networkx in /opt/conda/lib/python3.10/site-packages (from torch>=1.6.0->sentence-transformers==2.2.2) (3.1)\r\n",
      "Requirement already satisfied: jinja2 in /opt/conda/lib/python3.10/site-packages (from torch>=1.6.0->sentence-transformers==2.2.2) (3.1.2)\r\n",
      "Requirement already satisfied: regex!=2019.12.17 in /opt/conda/lib/python3.10/site-packages (from transformers<5.0.0,>=4.6.0->sentence-transformers==2.2.2) (2023.6.3)\r\n",
      "Requirement already satisfied: tokenizers!=0.11.3,<0.14,>=0.11.1 in /opt/conda/lib/python3.10/site-packages (from transformers<5.0.0,>=4.6.0->sentence-transformers==2.2.2) (0.13.3)\r\n",
      "Requirement already satisfied: safetensors>=0.3.1 in /opt/conda/lib/python3.10/site-packages (from transformers<5.0.0,>=4.6.0->sentence-transformers==2.2.2) (0.3.3)\r\n",
      "Requirement already satisfied: six in /opt/conda/lib/python3.10/site-packages (from nltk->sentence-transformers==2.2.2) (1.16.0)\r\n",
      "Requirement already satisfied: joblib>=1.1.1 in /opt/conda/lib/python3.10/site-packages (from scikit-learn->sentence-transformers==2.2.2) (1.3.2)\r\n",
      "Requirement already satisfied: threadpoolctl>=2.0.0 in /opt/conda/lib/python3.10/site-packages (from scikit-learn->sentence-transformers==2.2.2) (3.1.0)\r\n",
      "Requirement already satisfied: pillow!=8.3.*,>=5.3.0 in /opt/conda/lib/python3.10/site-packages (from torchvision->sentence-transformers==2.2.2) (9.5.0)\r\n",
      "Requirement already satisfied: pyparsing!=3.0.5,>=2.0.2 in /opt/conda/lib/python3.10/site-packages (from packaging>=20.9->huggingface-hub>=0.4.0->sentence-transformers==2.2.2) (3.0.9)\r\n",
      "Requirement already satisfied: MarkupSafe>=2.0 in /opt/conda/lib/python3.10/site-packages (from jinja2->torch>=1.6.0->sentence-transformers==2.2.2) (2.1.3)\r\n",
      "Requirement already satisfied: charset-normalizer<4,>=2 in /opt/conda/lib/python3.10/site-packages (from requests->huggingface-hub>=0.4.0->sentence-transformers==2.2.2) (3.1.0)\r\n",
      "Requirement already satisfied: idna<4,>=2.5 in /opt/conda/lib/python3.10/site-packages (from requests->huggingface-hub>=0.4.0->sentence-transformers==2.2.2) (3.4)\r\n",
      "Requirement already satisfied: urllib3<3,>=1.21.1 in /opt/conda/lib/python3.10/site-packages (from requests->huggingface-hub>=0.4.0->sentence-transformers==2.2.2) (1.26.15)\r\n",
      "Requirement already satisfied: certifi>=2017.4.17 in /opt/conda/lib/python3.10/site-packages (from requests->huggingface-hub>=0.4.0->sentence-transformers==2.2.2) (2023.7.22)\r\n",
      "Requirement already satisfied: mpmath>=0.19 in /opt/conda/lib/python3.10/site-packages (from sympy->torch>=1.6.0->sentence-transformers==2.2.2) (1.3.0)\r\n",
      "Building wheels for collected packages: sentence-transformers\r\n",
      "  Building wheel for sentence-transformers (setup.py) ... \u001b[?25l-\b \b\\\b \bdone\r\n",
      "\u001b[?25h  Created wheel for sentence-transformers: filename=sentence_transformers-2.2.2-py3-none-any.whl size=126132 sha256=ec4c97f1af320153d230ca0fb23cbf53f688c1f91525590c9d1588db94db762f\r\n",
      "  Stored in directory: /tmp/pip-ephem-wheel-cache-8e8kxruk/wheels/75/66/b4/7e3615e01e698b0515db7fe537d95df69218ed36339b7dfb5d\r\n",
      "Successfully built sentence-transformers\r\n",
      "Installing collected packages: sentence-transformers\r\n",
      "Successfully installed sentence-transformers-2.2.2\r\n"
     ]
    }
   ],
   "source": [
    "!cp -r ../input/sentence-transformers-dataset/sentence-transformers /tmp/st\n",
    "!pip install /tmp/st"
   ]
  },
  {
   "cell_type": "code",
   "execution_count": 2,
   "id": "b0629919",
   "metadata": {
    "_cell_guid": "e8707652-fc44-43b1-b307-fd3b88a247bd",
    "_uuid": "32bf82c4-ffa1-4af5-bbad-4e94ed03a878",
    "collapsed": false,
    "execution": {
     "iopub.execute_input": "2023-10-10T00:07:13.586358Z",
     "iopub.status.busy": "2023-10-10T00:07:13.585618Z",
     "iopub.status.idle": "2023-10-10T00:07:36.941031Z",
     "shell.execute_reply": "2023-10-10T00:07:36.940120Z"
    },
    "jupyter": {
     "outputs_hidden": false
    },
    "papermill": {
     "duration": 23.368346,
     "end_time": "2023-10-10T00:07:36.943835",
     "exception": false,
     "start_time": "2023-10-10T00:07:13.575489",
     "status": "completed"
    },
    "tags": []
   },
   "outputs": [
    {
     "name": "stderr",
     "output_type": "stream",
     "text": [
      "/home/evgeniy/.local/bin/miniconda3/envs/iasa_nlp_env/lib/python3.9/site-packages/torch/cuda/__init__.py:497: UserWarning: Can't initialize NVML\n",
      "  warnings.warn(\"Can't initialize NVML\")\n",
      "/home/evgeniy/.local/bin/miniconda3/envs/iasa_nlp_env/lib/python3.9/site-packages/torch/cuda/__init__.py:529: UserWarning: HIP initialization: Unexpected error from hipGetDeviceCount(). Did you run some cuda functions before calling NumHipDevices() that might have already set an error? Error 101: hipErrorInvalidDevice (Triggered internally at ../c10/hip/HIPFunctions.cpp:110.)\n",
      "  return torch._C._cuda_getDeviceCount() if nvml_count < 0 else nvml_count\n",
      "/home/evgeniy/.local/lib/python3.9/site-packages/dask/dataframe/utils.py:367: FutureWarning: pandas.Int64Index is deprecated and will be removed from pandas in a future version. Use pandas.Index with the appropriate dtype instead.\n",
      "  _numeric_index_types = (pd.Int64Index, pd.Float64Index, pd.UInt64Index)\n",
      "/home/evgeniy/.local/lib/python3.9/site-packages/dask/dataframe/utils.py:367: FutureWarning: pandas.Float64Index is deprecated and will be removed from pandas in a future version. Use pandas.Index with the appropriate dtype instead.\n",
      "  _numeric_index_types = (pd.Int64Index, pd.Float64Index, pd.UInt64Index)\n",
      "/home/evgeniy/.local/lib/python3.9/site-packages/dask/dataframe/utils.py:367: FutureWarning: pandas.UInt64Index is deprecated and will be removed from pandas in a future version. Use pandas.Index with the appropriate dtype instead.\n",
      "  _numeric_index_types = (pd.Int64Index, pd.Float64Index, pd.UInt64Index)\n"
     ]
    }
   ],
   "source": [
    "import os\n",
    "\n",
    "import pandas as pd\n",
    "import numpy as np\n",
    "import scipy\n",
    "import seaborn as sns\n",
    "import gensim\n",
    "import nltk\n",
    "import spacy\n",
    "import sentence_transformers\n",
    "import re\n",
    "import spacy\n",
    "import matplotlib.pyplot as plt\n",
    "import lightgbm\n",
    "import optuna\n",
    "from sklearn.feature_extraction.text import TfidfVectorizer, CountVectorizer\n",
    "from sklearn.pipeline import Pipeline, FeatureUnion\n",
    "from sklearn.compose import ColumnTransformer\n",
    "from sklearn.model_selection import train_test_split\n",
    "from sklearn.metrics import mean_squared_error\n",
    "from sklearn.preprocessing import RobustScaler, FunctionTransformer\n",
    "from sklearn.metrics.pairwise import cosine_similarity\n",
    "from sklearn.linear_model import LinearRegression, Ridge"
   ]
  },
  {
   "cell_type": "code",
   "execution_count": 3,
   "id": "bb0a869d",
   "metadata": {
    "_cell_guid": "b0a28d0b-388d-4d66-869c-cf05ba12c4c5",
    "_uuid": "1549e9ef-aac6-4129-a300-ac6e798c55bc",
    "collapsed": false,
    "execution": {
     "iopub.execute_input": "2023-10-10T00:07:36.963969Z",
     "iopub.status.busy": "2023-10-10T00:07:36.963622Z",
     "iopub.status.idle": "2023-10-10T00:07:37.086145Z",
     "shell.execute_reply": "2023-10-10T00:07:37.085286Z"
    },
    "jupyter": {
     "outputs_hidden": false
    },
    "papermill": {
     "duration": 0.134985,
     "end_time": "2023-10-10T00:07:37.088318",
     "exception": false,
     "start_time": "2023-10-10T00:07:36.953333",
     "status": "completed"
    },
    "tags": []
   },
   "outputs": [],
   "source": [
    "dir = \"../data/\"\n",
    "# dir = \"/kaggle/input/\"\n",
    "prompts_train = pd.read_csv(os.path.join(dir, \"commonlit-evaluate-student-summaries/prompts_train.csv\"))\n",
    "summaries_train = pd.read_csv(os.path.join(dir, \"commonlit-evaluate-student-summaries/summaries_train.csv\"))\n",
    "\n",
    "prompts_test = pd.read_csv(os.path.join(dir, \"commonlit-evaluate-student-summaries/prompts_test.csv\"))\n",
    "summaries_test = pd.read_csv(os.path.join(dir, \"commonlit-evaluate-student-summaries/summaries_test.csv\"))\n",
    "\n",
    "sample_submission = pd.read_csv(os.path.join(dir, \"commonlit-evaluate-student-summaries/sample_submission.csv\"))"
   ]
  },
  {
   "cell_type": "code",
   "execution_count": 4,
   "id": "0765e6b8",
   "metadata": {
    "_cell_guid": "047f6d75-be62-4073-83a9-f2d7d9037209",
    "_uuid": "7fed86d9-d906-43ac-9565-cd647e6bfc1b",
    "collapsed": false,
    "execution": {
     "iopub.execute_input": "2023-10-10T00:07:37.107816Z",
     "iopub.status.busy": "2023-10-10T00:07:37.107215Z",
     "iopub.status.idle": "2023-10-10T00:07:37.117074Z",
     "shell.execute_reply": "2023-10-10T00:07:37.116268Z"
    },
    "jupyter": {
     "outputs_hidden": false
    },
    "papermill": {
     "duration": 0.022048,
     "end_time": "2023-10-10T00:07:37.119235",
     "exception": false,
     "start_time": "2023-10-10T00:07:37.097187",
     "status": "completed"
    },
    "tags": []
   },
   "outputs": [],
   "source": [
    "def preprocess_general(text):\n",
    "    tokens = nltk.tokenize.word_tokenize(text)\n",
    "    tokens = [t.lower() for t in tokens]\n",
    "    tokens = [t for t in tokens if t.isalpha()]\n",
    "    return \" \".join(tokens)\n",
    "\n",
    "stop_words = set(nltk.corpus.stopwords.words(\"english\"))\n",
    "# lemmatizer = nltk.stem.WordNetLemmatizer()\n",
    "\n",
    "def remove_stopwords_and_lemmatize(text):\n",
    "    filtered = []\n",
    "    for word in nltk.tokenize.word_tokenize(text):\n",
    "        if word.lower() not in stop_words: \n",
    "#             filtered.append(lemmatizer.lemmatize(word))\n",
    "            filtered.append(word)\n",
    "\n",
    "    return \" \".join(filtered)"
   ]
  },
  {
   "cell_type": "code",
   "execution_count": 17,
   "id": "8102d90d",
   "metadata": {},
   "outputs": [],
   "source": [
    "summaries_train['train'] = True\n",
    "summaries_test['train'] = False\n",
    "summaries = pd.concat([summaries_train, summaries_test]).reset_index(drop=True)"
   ]
  },
  {
   "cell_type": "code",
   "execution_count": 18,
   "id": "ade83997",
   "metadata": {},
   "outputs": [],
   "source": [
    "prompts_train['train'] = True\n",
    "prompts_test['train'] = False \n",
    "prompts = pd.concat([prompts_train, prompts_test]).reset_index(drop=True)"
   ]
  },
  {
   "cell_type": "code",
   "execution_count": 19,
   "id": "156159bc",
   "metadata": {
    "_cell_guid": "e2029149-3392-4ba7-8592-1e05635f3d87",
    "_uuid": "5d834a48-2268-43ca-aeb4-d52b02d42020",
    "collapsed": false,
    "execution": {
     "iopub.execute_input": "2023-10-10T00:07:37.138100Z",
     "iopub.status.busy": "2023-10-10T00:07:37.137764Z",
     "iopub.status.idle": "2023-10-10T00:07:43.803006Z",
     "shell.execute_reply": "2023-10-10T00:07:43.802216Z"
    },
    "jupyter": {
     "outputs_hidden": false
    },
    "papermill": {
     "duration": 6.677114,
     "end_time": "2023-10-10T00:07:43.805199",
     "exception": false,
     "start_time": "2023-10-10T00:07:37.128085",
     "status": "completed"
    },
    "tags": []
   },
   "outputs": [],
   "source": [
    "summaries['cleaned_text'] = summaries['text'].apply(preprocess_general)\n",
    "summaries['xcleaned_text'] = summaries['cleaned_text'].apply(remove_stopwords_and_lemmatize)"
   ]
  },
  {
   "cell_type": "code",
   "execution_count": 20,
   "id": "d69c23b9",
   "metadata": {
    "_cell_guid": "4aede796-6a1b-4582-a798-649adae9d499",
    "_uuid": "727e3dd1-efd1-42b5-871c-53fb63c14249",
    "collapsed": false,
    "execution": {
     "iopub.execute_input": "2023-10-10T00:07:43.852573Z",
     "iopub.status.busy": "2023-10-10T00:07:43.851887Z",
     "iopub.status.idle": "2023-10-10T00:07:43.887992Z",
     "shell.execute_reply": "2023-10-10T00:07:43.887183Z"
    },
    "jupyter": {
     "outputs_hidden": false
    },
    "papermill": {
     "duration": 0.047214,
     "end_time": "2023-10-10T00:07:43.889676",
     "exception": false,
     "start_time": "2023-10-10T00:07:43.842462",
     "status": "completed"
    },
    "tags": []
   },
   "outputs": [],
   "source": [
    "prompts['cleaned_prompt_text'] = prompts['prompt_text'].apply(lambda x: remove_stopwords_and_lemmatize(preprocess_general(x)))"
   ]
  },
  {
   "cell_type": "code",
   "execution_count": 21,
   "id": "9195a582",
   "metadata": {
    "_cell_guid": "6e06607a-f772-4631-a33e-569c3f5c6273",
    "_uuid": "df5648bd-bcc8-466a-912c-fc2d2293f8a3",
    "collapsed": false,
    "execution": {
     "iopub.execute_input": "2023-10-10T00:07:45.094615Z",
     "iopub.status.busy": "2023-10-10T00:07:45.093765Z",
     "iopub.status.idle": "2023-10-10T00:07:47.972811Z",
     "shell.execute_reply": "2023-10-10T00:07:47.971649Z"
    },
    "jupyter": {
     "outputs_hidden": false
    },
    "papermill": {
     "duration": 2.892577,
     "end_time": "2023-10-10T00:07:47.975231",
     "exception": false,
     "start_time": "2023-10-10T00:07:45.082654",
     "status": "completed"
    },
    "tags": []
   },
   "outputs": [],
   "source": [
    "# sbert_model = sentence_transformers.SentenceTransformer('../input/sentence-transformers-models/all-MiniLM-L6-v2')\n",
    "sbert_model = sentence_transformers.SentenceTransformer('all-MiniLM-L6-v2')"
   ]
  },
  {
   "cell_type": "code",
   "execution_count": 22,
   "id": "8d63350e",
   "metadata": {
    "_cell_guid": "b6650e29-e0b7-4b12-a9ab-074cc17809e1",
    "_uuid": "9a9841b3-5f92-40f3-8d9c-68e69766fea4",
    "collapsed": false,
    "execution": {
     "iopub.execute_input": "2023-10-10T00:07:47.994011Z",
     "iopub.status.busy": "2023-10-10T00:07:47.993635Z",
     "iopub.status.idle": "2023-10-10T00:07:48.569918Z",
     "shell.execute_reply": "2023-10-10T00:07:48.568783Z"
    },
    "jupyter": {
     "outputs_hidden": false
    },
    "papermill": {
     "duration": 0.587736,
     "end_time": "2023-10-10T00:07:48.571917",
     "exception": false,
     "start_time": "2023-10-10T00:07:47.984181",
     "status": "completed"
    },
    "tags": []
   },
   "outputs": [],
   "source": [
    "prompts_embeddings = sbert_model.encode(prompts['cleaned_prompt_text'])\n",
    "prompts_emb_df = pd.DataFrame(prompts_embeddings, columns=[f\"PE_{i}\" for i in range(prompts_embeddings.shape[1])], index=prompts['prompt_id'])"
   ]
  },
  {
   "cell_type": "code",
   "execution_count": 23,
   "id": "374cf8d0",
   "metadata": {
    "_cell_guid": "ce7bb8cb-b24d-417a-a145-8f428067cbe7",
    "_uuid": "4c7f8c98-9faa-4eb3-9aa6-abcc5f34c324",
    "collapsed": false,
    "execution": {
     "iopub.execute_input": "2023-10-10T00:07:48.653686Z",
     "iopub.status.busy": "2023-10-10T00:07:48.653316Z",
     "iopub.status.idle": "2023-10-10T00:09:24.202120Z",
     "shell.execute_reply": "2023-10-10T00:09:24.201217Z"
    },
    "jupyter": {
     "outputs_hidden": false
    },
    "papermill": {
     "duration": 95.561646,
     "end_time": "2023-10-10T00:09:24.204444",
     "exception": false,
     "start_time": "2023-10-10T00:07:48.642798",
     "status": "completed"
    },
    "tags": []
   },
   "outputs": [],
   "source": [
    "summaries_embeddings = sbert_model.encode(summaries['xcleaned_text'])\n",
    "summaries_emb_df = pd.DataFrame(summaries_embeddings, columns=[f\"SE_{i}\" for i in range(summaries_embeddings.shape[1])])"
   ]
  },
  {
   "cell_type": "code",
   "execution_count": 24,
   "id": "2ed34218",
   "metadata": {
    "execution": {
     "iopub.execute_input": "2023-10-10T00:09:24.287072Z",
     "iopub.status.busy": "2023-10-10T00:09:24.286348Z",
     "iopub.status.idle": "2023-10-10T00:09:24.291298Z",
     "shell.execute_reply": "2023-10-10T00:09:24.290270Z"
    },
    "papermill": {
     "duration": 0.017377,
     "end_time": "2023-10-10T00:09:24.293098",
     "exception": false,
     "start_time": "2023-10-10T00:09:24.275721",
     "status": "completed"
    },
    "tags": []
   },
   "outputs": [],
   "source": [
    "def similarity(u, v):\n",
    "    return np.dot(u, v) / (np.linalg.norm(u) * np.linalg.norm(v))"
   ]
  },
  {
   "cell_type": "code",
   "execution_count": 33,
   "id": "7bbe4394",
   "metadata": {},
   "outputs": [],
   "source": [
    "summaries['similarity_to_prompt'] = \\\n",
    "    summaries.apply(lambda x: similarity(prompts_emb_df.loc[x['prompt_id']], summaries_emb_df.loc[x.name]), axis=1)"
   ]
  },
  {
   "cell_type": "code",
   "execution_count": 70,
   "id": "149f4dfe",
   "metadata": {
    "execution": {
     "iopub.execute_input": "2023-10-10T00:09:24.586755Z",
     "iopub.status.busy": "2023-10-10T00:09:24.586192Z",
     "iopub.status.idle": "2023-10-10T00:09:28.916029Z",
     "shell.execute_reply": "2023-10-10T00:09:28.914973Z"
    },
    "papermill": {
     "duration": 4.342527,
     "end_time": "2023-10-10T00:09:28.918230",
     "exception": false,
     "start_time": "2023-10-10T00:09:24.575703",
     "status": "completed"
    },
    "tags": []
   },
   "outputs": [
    {
     "data": {
      "text/plain": [
       "TfidfVectorizer(ngram_range=(1, 2))"
      ]
     },
     "execution_count": 70,
     "metadata": {},
     "output_type": "execute_result"
    }
   ],
   "source": [
    "# tfidf for words and pairs of words\n",
    "tfidf = TfidfVectorizer(\n",
    "    analyzer='word', \n",
    "    ngram_range=(1, 2)\n",
    ")\n",
    "tfidf.fit(summaries['cleaned_text'])"
   ]
  },
  {
   "cell_type": "code",
   "execution_count": 36,
   "id": "9ee32669",
   "metadata": {
    "execution": {
     "iopub.execute_input": "2023-10-10T00:09:28.938859Z",
     "iopub.status.busy": "2023-10-10T00:09:28.938500Z",
     "iopub.status.idle": "2023-10-10T00:09:29.219457Z",
     "shell.execute_reply": "2023-10-10T00:09:29.218340Z"
    },
    "papermill": {
     "duration": 0.29429,
     "end_time": "2023-10-10T00:09:29.221975",
     "exception": false,
     "start_time": "2023-10-10T00:09:28.927685",
     "status": "completed"
    },
    "tags": []
   },
   "outputs": [],
   "source": [
    "summaries['n_words'] = summaries['cleaned_text'].apply(lambda x: len(x.split(\" \")))\n",
    "summaries['n_sentences'] = summaries['text'].str.count('\\.')\n",
    "summaries['mean_word_length'] = summaries['cleaned_text'].apply(lambda x: np.mean([len(word) for word in x.split()]))\n",
    "summaries['n_punctuation'] = summaries.apply(lambda x: len(x['text']) - len(x['cleaned_text']), axis=1)"
   ]
  },
  {
   "cell_type": "code",
   "execution_count": 77,
   "id": "388d9d6e",
   "metadata": {
    "execution": {
     "iopub.execute_input": "2023-10-10T00:09:29.276689Z",
     "iopub.status.busy": "2023-10-10T00:09:29.276348Z",
     "iopub.status.idle": "2023-10-10T00:09:29.319783Z",
     "shell.execute_reply": "2023-10-10T00:09:29.318842Z"
    },
    "papermill": {
     "duration": 0.057174,
     "end_time": "2023-10-10T00:09:29.322269",
     "exception": false,
     "start_time": "2023-10-10T00:09:29.265095",
     "status": "completed"
    },
    "tags": []
   },
   "outputs": [],
   "source": [
    "df_content = pd.concat([\n",
    "    summaries[[\"train\", \"similarity_to_prompt\", \"n_words\", \"n_sentences\", \"mean_word_length\", \"n_punctuation\", \"content\"]], \n",
    "    prompts_emb_df.loc[summaries['prompt_id']].reset_index(drop=True),\n",
    "    summaries_emb_df\n",
    "], axis=1, join='inner') "
   ]
  },
  {
   "cell_type": "code",
   "execution_count": 78,
   "id": "96bec426",
   "metadata": {
    "execution": {
     "iopub.execute_input": "2023-10-10T00:09:29.374116Z",
     "iopub.status.busy": "2023-10-10T00:09:29.373762Z",
     "iopub.status.idle": "2023-10-10T00:09:29.384977Z",
     "shell.execute_reply": "2023-10-10T00:09:29.383989Z"
    },
    "papermill": {
     "duration": 0.024624,
     "end_time": "2023-10-10T00:09:29.386945",
     "exception": false,
     "start_time": "2023-10-10T00:09:29.362321",
     "status": "completed"
    },
    "tags": []
   },
   "outputs": [],
   "source": [
    "predictors = df_content.drop([\"content\", \"train\"], axis=1).columns\n",
    "target = \"content\""
   ]
  },
  {
   "cell_type": "code",
   "execution_count": 79,
   "id": "efdcfe4b",
   "metadata": {
    "execution": {
     "iopub.execute_input": "2023-10-10T00:09:29.408237Z",
     "iopub.status.busy": "2023-10-10T00:09:29.407882Z",
     "iopub.status.idle": "2023-10-10T00:09:29.630576Z",
     "shell.execute_reply": "2023-10-10T00:09:29.629238Z"
    },
    "papermill": {
     "duration": 0.238139,
     "end_time": "2023-10-10T00:09:29.634720",
     "exception": false,
     "start_time": "2023-10-10T00:09:29.396581",
     "status": "completed"
    },
    "tags": []
   },
   "outputs": [
    {
     "data": {
      "text/plain": [
       "Ridge(alpha=10869)"
      ]
     },
     "execution_count": 79,
     "metadata": {},
     "output_type": "execute_result"
    }
   ],
   "source": [
    "lm = Ridge(alpha=10869)\n",
    "lm.fit(df_content.loc[df_content['train'], predictors], df_content.loc[df_content['train'], target])"
   ]
  },
  {
   "cell_type": "code",
   "execution_count": 80,
   "id": "350a0397",
   "metadata": {
    "execution": {
     "iopub.execute_input": "2023-10-10T00:09:29.694160Z",
     "iopub.status.busy": "2023-10-10T00:09:29.693760Z",
     "iopub.status.idle": "2023-10-10T00:09:29.725762Z",
     "shell.execute_reply": "2023-10-10T00:09:29.724305Z"
    },
    "papermill": {
     "duration": 0.064293,
     "end_time": "2023-10-10T00:09:29.728694",
     "exception": false,
     "start_time": "2023-10-10T00:09:29.664401",
     "status": "completed"
    },
    "tags": []
   },
   "outputs": [],
   "source": [
    "content_pred = lm.predict(df_content.loc[~df_content['train'], predictors])"
   ]
  },
  {
   "cell_type": "code",
   "execution_count": 81,
   "id": "26907cbe",
   "metadata": {
    "execution": {
     "iopub.execute_input": "2023-10-10T00:09:29.749790Z",
     "iopub.status.busy": "2023-10-10T00:09:29.749428Z",
     "iopub.status.idle": "2023-10-10T00:09:29.756986Z",
     "shell.execute_reply": "2023-10-10T00:09:29.755958Z"
    },
    "papermill": {
     "duration": 0.020892,
     "end_time": "2023-10-10T00:09:29.759268",
     "exception": false,
     "start_time": "2023-10-10T00:09:29.738376",
     "status": "completed"
    },
    "tags": []
   },
   "outputs": [],
   "source": [
    "df_wording = summaries[[\"train\", \"n_words\", \"n_sentences\", \"mean_word_length\", \"n_punctuation\", \"wording\", \"cleaned_text\"]]"
   ]
  },
  {
   "cell_type": "code",
   "execution_count": 82,
   "id": "9edcbcba",
   "metadata": {
    "execution": {
     "iopub.execute_input": "2023-10-10T00:09:29.780351Z",
     "iopub.status.busy": "2023-10-10T00:09:29.779999Z",
     "iopub.status.idle": "2023-10-10T00:09:29.785830Z",
     "shell.execute_reply": "2023-10-10T00:09:29.784829Z"
    },
    "papermill": {
     "duration": 0.018327,
     "end_time": "2023-10-10T00:09:29.787599",
     "exception": false,
     "start_time": "2023-10-10T00:09:29.769272",
     "status": "completed"
    },
    "tags": []
   },
   "outputs": [],
   "source": [
    "predictors = df_wording.drop([\"wording\", \"cleaned_text\", \"train\"], axis=1).columns\n",
    "target = 'wording'"
   ]
  },
  {
   "cell_type": "code",
   "execution_count": 85,
   "id": "ab874c4a",
   "metadata": {
    "execution": {
     "iopub.execute_input": "2023-10-10T00:09:29.808801Z",
     "iopub.status.busy": "2023-10-10T00:09:29.808123Z",
     "iopub.status.idle": "2023-10-10T00:09:32.001240Z",
     "shell.execute_reply": "2023-10-10T00:09:32.000229Z"
    },
    "papermill": {
     "duration": 2.20646,
     "end_time": "2023-10-10T00:09:32.003625",
     "exception": false,
     "start_time": "2023-10-10T00:09:29.797165",
     "status": "completed"
    },
    "tags": []
   },
   "outputs": [],
   "source": [
    "X_wording_train = scipy.sparse.hstack([\n",
    "    df_wording.loc[df_wording['train'], predictors], \n",
    "    tfidf.transform(df_wording.loc[df_wording['train'], 'cleaned_text'])\n",
    "]) \n",
    "X_wording_test = scipy.sparse.hstack([\n",
    "    df_wording.loc[~df_wording['train'], predictors], \n",
    "    tfidf.transform(df_wording.loc[~df_wording['train'], 'cleaned_text'])\n",
    "]) "
   ]
  },
  {
   "cell_type": "code",
   "execution_count": 89,
   "id": "dfc3ca80",
   "metadata": {
    "execution": {
     "iopub.execute_input": "2023-10-10T00:09:32.025147Z",
     "iopub.status.busy": "2023-10-10T00:09:32.024743Z",
     "iopub.status.idle": "2023-10-10T00:09:32.582462Z",
     "shell.execute_reply": "2023-10-10T00:09:32.581405Z"
    },
    "papermill": {
     "duration": 0.572081,
     "end_time": "2023-10-10T00:09:32.585598",
     "exception": false,
     "start_time": "2023-10-10T00:09:32.013517",
     "status": "completed"
    },
    "tags": []
   },
   "outputs": [
    {
     "data": {
      "text/plain": [
       "Ridge(alpha=1346)"
      ]
     },
     "execution_count": 89,
     "metadata": {},
     "output_type": "execute_result"
    }
   ],
   "source": [
    "lm = Ridge(alpha=1346)\n",
    "lm.fit(X_wording_train, df_wording.loc[df_wording['train'], target])"
   ]
  },
  {
   "cell_type": "code",
   "execution_count": 90,
   "id": "0a2d2070",
   "metadata": {
    "execution": {
     "iopub.execute_input": "2023-10-10T00:09:32.644755Z",
     "iopub.status.busy": "2023-10-10T00:09:32.644149Z",
     "iopub.status.idle": "2023-10-10T00:09:32.651021Z",
     "shell.execute_reply": "2023-10-10T00:09:32.649971Z"
    },
    "papermill": {
     "duration": 0.040115,
     "end_time": "2023-10-10T00:09:32.653996",
     "exception": false,
     "start_time": "2023-10-10T00:09:32.613881",
     "status": "completed"
    },
    "tags": []
   },
   "outputs": [],
   "source": [
    "wording_pred = lm.predict(X_wording_test)"
   ]
  },
  {
   "cell_type": "code",
   "execution_count": 92,
   "id": "14d0458e",
   "metadata": {
    "execution": {
     "iopub.execute_input": "2023-10-10T00:09:32.744145Z",
     "iopub.status.busy": "2023-10-10T00:09:32.743045Z",
     "iopub.status.idle": "2023-10-10T00:09:32.748328Z",
     "shell.execute_reply": "2023-10-10T00:09:32.747654Z"
    },
    "papermill": {
     "duration": 0.018599,
     "end_time": "2023-10-10T00:09:32.750193",
     "exception": false,
     "start_time": "2023-10-10T00:09:32.731594",
     "status": "completed"
    },
    "tags": []
   },
   "outputs": [],
   "source": [
    "sample_submission['content'] = content_pred\n",
    "sample_submission['wording'] = wording_pred"
   ]
  },
  {
   "cell_type": "code",
   "execution_count": 93,
   "id": "44c28e9e",
   "metadata": {
    "execution": {
     "iopub.execute_input": "2023-10-10T00:09:32.771889Z",
     "iopub.status.busy": "2023-10-10T00:09:32.771504Z",
     "iopub.status.idle": "2023-10-10T00:09:32.781422Z",
     "shell.execute_reply": "2023-10-10T00:09:32.780246Z"
    },
    "papermill": {
     "duration": 0.022947,
     "end_time": "2023-10-10T00:09:32.783209",
     "exception": false,
     "start_time": "2023-10-10T00:09:32.760262",
     "status": "completed"
    },
    "tags": []
   },
   "outputs": [
    {
     "data": {
      "text/html": [
       "<div>\n",
       "<style scoped>\n",
       "    .dataframe tbody tr th:only-of-type {\n",
       "        vertical-align: middle;\n",
       "    }\n",
       "\n",
       "    .dataframe tbody tr th {\n",
       "        vertical-align: top;\n",
       "    }\n",
       "\n",
       "    .dataframe thead th {\n",
       "        text-align: right;\n",
       "    }\n",
       "</style>\n",
       "<table border=\"1\" class=\"dataframe\">\n",
       "  <thead>\n",
       "    <tr style=\"text-align: right;\">\n",
       "      <th></th>\n",
       "      <th>student_id</th>\n",
       "      <th>content</th>\n",
       "      <th>wording</th>\n",
       "    </tr>\n",
       "  </thead>\n",
       "  <tbody>\n",
       "    <tr>\n",
       "      <th>0</th>\n",
       "      <td>000000ffffff</td>\n",
       "      <td>-1.129216</td>\n",
       "      <td>-0.720588</td>\n",
       "    </tr>\n",
       "    <tr>\n",
       "      <th>1</th>\n",
       "      <td>111111eeeeee</td>\n",
       "      <td>-1.129216</td>\n",
       "      <td>-0.720588</td>\n",
       "    </tr>\n",
       "    <tr>\n",
       "      <th>2</th>\n",
       "      <td>222222cccccc</td>\n",
       "      <td>-1.129216</td>\n",
       "      <td>-0.720588</td>\n",
       "    </tr>\n",
       "    <tr>\n",
       "      <th>3</th>\n",
       "      <td>333333dddddd</td>\n",
       "      <td>-1.129216</td>\n",
       "      <td>-0.720588</td>\n",
       "    </tr>\n",
       "  </tbody>\n",
       "</table>\n",
       "</div>"
      ],
      "text/plain": [
       "     student_id   content   wording\n",
       "0  000000ffffff -1.129216 -0.720588\n",
       "1  111111eeeeee -1.129216 -0.720588\n",
       "2  222222cccccc -1.129216 -0.720588\n",
       "3  333333dddddd -1.129216 -0.720588"
      ]
     },
     "execution_count": 93,
     "metadata": {},
     "output_type": "execute_result"
    }
   ],
   "source": [
    "sample_submission"
   ]
  },
  {
   "cell_type": "code",
   "execution_count": 94,
   "id": "185f5395",
   "metadata": {
    "execution": {
     "iopub.execute_input": "2023-10-10T00:09:32.805642Z",
     "iopub.status.busy": "2023-10-10T00:09:32.805078Z",
     "iopub.status.idle": "2023-10-10T00:09:32.812490Z",
     "shell.execute_reply": "2023-10-10T00:09:32.811794Z"
    },
    "papermill": {
     "duration": 0.020806,
     "end_time": "2023-10-10T00:09:32.814318",
     "exception": false,
     "start_time": "2023-10-10T00:09:32.793512",
     "status": "completed"
    },
    "tags": []
   },
   "outputs": [],
   "source": [
    "sample_submission.to_csv(\"submission.csv\", index=False)"
   ]
  }
 ],
 "metadata": {
  "kernelspec": {
   "display_name": "Python 3",
   "language": "python",
   "name": "python3"
  },
  "language_info": {
   "codemirror_mode": {
    "name": "ipython",
    "version": 3
   },
   "file_extension": ".py",
   "mimetype": "text/x-python",
   "name": "python",
   "nbconvert_exporter": "python",
   "pygments_lexer": "ipython3",
   "version": "3.9.18"
  },
  "papermill": {
   "default_parameters": {},
   "duration": 189.013297,
   "end_time": "2023-10-10T00:09:36.308676",
   "environment_variables": {},
   "exception": null,
   "input_path": "__notebook__.ipynb",
   "output_path": "__notebook__.ipynb",
   "parameters": {},
   "start_time": "2023-10-10T00:06:27.295379",
   "version": "2.4.0"
  },
  "widgets": {
   "application/vnd.jupyter.widget-state+json": {
    "state": {
     "042c8d57ad874473906ddc0421a38d72": {
      "model_module": "@jupyter-widgets/base",
      "model_module_version": "1.2.0",
      "model_name": "LayoutModel",
      "state": {
       "_model_module": "@jupyter-widgets/base",
       "_model_module_version": "1.2.0",
       "_model_name": "LayoutModel",
       "_view_count": null,
       "_view_module": "@jupyter-widgets/base",
       "_view_module_version": "1.2.0",
       "_view_name": "LayoutView",
       "align_content": null,
       "align_items": null,
       "align_self": null,
       "border": null,
       "bottom": null,
       "display": null,
       "flex": null,
       "flex_flow": null,
       "grid_area": null,
       "grid_auto_columns": null,
       "grid_auto_flow": null,
       "grid_auto_rows": null,
       "grid_column": null,
       "grid_gap": null,
       "grid_row": null,
       "grid_template_areas": null,
       "grid_template_columns": null,
       "grid_template_rows": null,
       "height": null,
       "justify_content": null,
       "justify_items": null,
       "left": null,
       "margin": null,
       "max_height": null,
       "max_width": null,
       "min_height": null,
       "min_width": null,
       "object_fit": null,
       "object_position": null,
       "order": null,
       "overflow": null,
       "overflow_x": null,
       "overflow_y": null,
       "padding": null,
       "right": null,
       "top": null,
       "visibility": null,
       "width": null
      }
     },
     "07af3bac2b714e048a4ef9fb38c32804": {
      "model_module": "@jupyter-widgets/controls",
      "model_module_version": "1.5.0",
      "model_name": "HTMLModel",
      "state": {
       "_dom_classes": [],
       "_model_module": "@jupyter-widgets/controls",
       "_model_module_version": "1.5.0",
       "_model_name": "HTMLModel",
       "_view_count": null,
       "_view_module": "@jupyter-widgets/controls",
       "_view_module_version": "1.5.0",
       "_view_name": "HTMLView",
       "description": "",
       "description_tooltip": null,
       "layout": "IPY_MODEL_0e77fa69871b4614b1b27ae8e12631bd",
       "placeholder": "​",
       "style": "IPY_MODEL_c90f3df512ac4e36b389ed7fa84c4e26",
       "value": " 224/224 [01:35&lt;00:00,  7.53it/s]"
      }
     },
     "0e77fa69871b4614b1b27ae8e12631bd": {
      "model_module": "@jupyter-widgets/base",
      "model_module_version": "1.2.0",
      "model_name": "LayoutModel",
      "state": {
       "_model_module": "@jupyter-widgets/base",
       "_model_module_version": "1.2.0",
       "_model_name": "LayoutModel",
       "_view_count": null,
       "_view_module": "@jupyter-widgets/base",
       "_view_module_version": "1.2.0",
       "_view_name": "LayoutView",
       "align_content": null,
       "align_items": null,
       "align_self": null,
       "border": null,
       "bottom": null,
       "display": null,
       "flex": null,
       "flex_flow": null,
       "grid_area": null,
       "grid_auto_columns": null,
       "grid_auto_flow": null,
       "grid_auto_rows": null,
       "grid_column": null,
       "grid_gap": null,
       "grid_row": null,
       "grid_template_areas": null,
       "grid_template_columns": null,
       "grid_template_rows": null,
       "height": null,
       "justify_content": null,
       "justify_items": null,
       "left": null,
       "margin": null,
       "max_height": null,
       "max_width": null,
       "min_height": null,
       "min_width": null,
       "object_fit": null,
       "object_position": null,
       "order": null,
       "overflow": null,
       "overflow_x": null,
       "overflow_y": null,
       "padding": null,
       "right": null,
       "top": null,
       "visibility": null,
       "width": null
      }
     },
     "115c1ce231034899b39d98b8e7955102": {
      "model_module": "@jupyter-widgets/base",
      "model_module_version": "1.2.0",
      "model_name": "LayoutModel",
      "state": {
       "_model_module": "@jupyter-widgets/base",
       "_model_module_version": "1.2.0",
       "_model_name": "LayoutModel",
       "_view_count": null,
       "_view_module": "@jupyter-widgets/base",
       "_view_module_version": "1.2.0",
       "_view_name": "LayoutView",
       "align_content": null,
       "align_items": null,
       "align_self": null,
       "border": null,
       "bottom": null,
       "display": null,
       "flex": null,
       "flex_flow": null,
       "grid_area": null,
       "grid_auto_columns": null,
       "grid_auto_flow": null,
       "grid_auto_rows": null,
       "grid_column": null,
       "grid_gap": null,
       "grid_row": null,
       "grid_template_areas": null,
       "grid_template_columns": null,
       "grid_template_rows": null,
       "height": null,
       "justify_content": null,
       "justify_items": null,
       "left": null,
       "margin": null,
       "max_height": null,
       "max_width": null,
       "min_height": null,
       "min_width": null,
       "object_fit": null,
       "object_position": null,
       "order": null,
       "overflow": null,
       "overflow_x": null,
       "overflow_y": null,
       "padding": null,
       "right": null,
       "top": null,
       "visibility": null,
       "width": null
      }
     },
     "12608a1b084c4068bf3307429443552e": {
      "model_module": "@jupyter-widgets/controls",
      "model_module_version": "1.5.0",
      "model_name": "HTMLModel",
      "state": {
       "_dom_classes": [],
       "_model_module": "@jupyter-widgets/controls",
       "_model_module_version": "1.5.0",
       "_model_name": "HTMLModel",
       "_view_count": null,
       "_view_module": "@jupyter-widgets/controls",
       "_view_module_version": "1.5.0",
       "_view_name": "HTMLView",
       "description": "",
       "description_tooltip": null,
       "layout": "IPY_MODEL_eb2af181c31e438eb28d80e31d5a4c0f",
       "placeholder": "​",
       "style": "IPY_MODEL_c59c9711568a482bab73028805acd7eb",
       "value": "Batches: 100%"
      }
     },
     "21272b009aea4eac9e6436ca07e0b983": {
      "model_module": "@jupyter-widgets/base",
      "model_module_version": "1.2.0",
      "model_name": "LayoutModel",
      "state": {
       "_model_module": "@jupyter-widgets/base",
       "_model_module_version": "1.2.0",
       "_model_name": "LayoutModel",
       "_view_count": null,
       "_view_module": "@jupyter-widgets/base",
       "_view_module_version": "1.2.0",
       "_view_name": "LayoutView",
       "align_content": null,
       "align_items": null,
       "align_self": null,
       "border": null,
       "bottom": null,
       "display": null,
       "flex": null,
       "flex_flow": null,
       "grid_area": null,
       "grid_auto_columns": null,
       "grid_auto_flow": null,
       "grid_auto_rows": null,
       "grid_column": null,
       "grid_gap": null,
       "grid_row": null,
       "grid_template_areas": null,
       "grid_template_columns": null,
       "grid_template_rows": null,
       "height": null,
       "justify_content": null,
       "justify_items": null,
       "left": null,
       "margin": null,
       "max_height": null,
       "max_width": null,
       "min_height": null,
       "min_width": null,
       "object_fit": null,
       "object_position": null,
       "order": null,
       "overflow": null,
       "overflow_x": null,
       "overflow_y": null,
       "padding": null,
       "right": null,
       "top": null,
       "visibility": null,
       "width": null
      }
     },
     "250a6575c58c4412ab299d1bba236070": {
      "model_module": "@jupyter-widgets/base",
      "model_module_version": "1.2.0",
      "model_name": "LayoutModel",
      "state": {
       "_model_module": "@jupyter-widgets/base",
       "_model_module_version": "1.2.0",
       "_model_name": "LayoutModel",
       "_view_count": null,
       "_view_module": "@jupyter-widgets/base",
       "_view_module_version": "1.2.0",
       "_view_name": "LayoutView",
       "align_content": null,
       "align_items": null,
       "align_self": null,
       "border": null,
       "bottom": null,
       "display": null,
       "flex": null,
       "flex_flow": null,
       "grid_area": null,
       "grid_auto_columns": null,
       "grid_auto_flow": null,
       "grid_auto_rows": null,
       "grid_column": null,
       "grid_gap": null,
       "grid_row": null,
       "grid_template_areas": null,
       "grid_template_columns": null,
       "grid_template_rows": null,
       "height": null,
       "justify_content": null,
       "justify_items": null,
       "left": null,
       "margin": null,
       "max_height": null,
       "max_width": null,
       "min_height": null,
       "min_width": null,
       "object_fit": null,
       "object_position": null,
       "order": null,
       "overflow": null,
       "overflow_x": null,
       "overflow_y": null,
       "padding": null,
       "right": null,
       "top": null,
       "visibility": null,
       "width": null
      }
     },
     "3033cddec1b7433188937a1691ef9427": {
      "model_module": "@jupyter-widgets/controls",
      "model_module_version": "1.5.0",
      "model_name": "DescriptionStyleModel",
      "state": {
       "_model_module": "@jupyter-widgets/controls",
       "_model_module_version": "1.5.0",
       "_model_name": "DescriptionStyleModel",
       "_view_count": null,
       "_view_module": "@jupyter-widgets/base",
       "_view_module_version": "1.2.0",
       "_view_name": "StyleView",
       "description_width": ""
      }
     },
     "333608dba5194e56be3efa373a5f6440": {
      "model_module": "@jupyter-widgets/base",
      "model_module_version": "1.2.0",
      "model_name": "LayoutModel",
      "state": {
       "_model_module": "@jupyter-widgets/base",
       "_model_module_version": "1.2.0",
       "_model_name": "LayoutModel",
       "_view_count": null,
       "_view_module": "@jupyter-widgets/base",
       "_view_module_version": "1.2.0",
       "_view_name": "LayoutView",
       "align_content": null,
       "align_items": null,
       "align_self": null,
       "border": null,
       "bottom": null,
       "display": null,
       "flex": null,
       "flex_flow": null,
       "grid_area": null,
       "grid_auto_columns": null,
       "grid_auto_flow": null,
       "grid_auto_rows": null,
       "grid_column": null,
       "grid_gap": null,
       "grid_row": null,
       "grid_template_areas": null,
       "grid_template_columns": null,
       "grid_template_rows": null,
       "height": null,
       "justify_content": null,
       "justify_items": null,
       "left": null,
       "margin": null,
       "max_height": null,
       "max_width": null,
       "min_height": null,
       "min_width": null,
       "object_fit": null,
       "object_position": null,
       "order": null,
       "overflow": null,
       "overflow_x": null,
       "overflow_y": null,
       "padding": null,
       "right": null,
       "top": null,
       "visibility": null,
       "width": null
      }
     },
     "37ff8d0db1f949b4b4b568d9cb7778d5": {
      "model_module": "@jupyter-widgets/controls",
      "model_module_version": "1.5.0",
      "model_name": "ProgressStyleModel",
      "state": {
       "_model_module": "@jupyter-widgets/controls",
       "_model_module_version": "1.5.0",
       "_model_name": "ProgressStyleModel",
       "_view_count": null,
       "_view_module": "@jupyter-widgets/base",
       "_view_module_version": "1.2.0",
       "_view_name": "StyleView",
       "bar_color": null,
       "description_width": ""
      }
     },
     "40c94d11f180489c82078b6f61d0d072": {
      "model_module": "@jupyter-widgets/base",
      "model_module_version": "1.2.0",
      "model_name": "LayoutModel",
      "state": {
       "_model_module": "@jupyter-widgets/base",
       "_model_module_version": "1.2.0",
       "_model_name": "LayoutModel",
       "_view_count": null,
       "_view_module": "@jupyter-widgets/base",
       "_view_module_version": "1.2.0",
       "_view_name": "LayoutView",
       "align_content": null,
       "align_items": null,
       "align_self": null,
       "border": null,
       "bottom": null,
       "display": null,
       "flex": null,
       "flex_flow": null,
       "grid_area": null,
       "grid_auto_columns": null,
       "grid_auto_flow": null,
       "grid_auto_rows": null,
       "grid_column": null,
       "grid_gap": null,
       "grid_row": null,
       "grid_template_areas": null,
       "grid_template_columns": null,
       "grid_template_rows": null,
       "height": null,
       "justify_content": null,
       "justify_items": null,
       "left": null,
       "margin": null,
       "max_height": null,
       "max_width": null,
       "min_height": null,
       "min_width": null,
       "object_fit": null,
       "object_position": null,
       "order": null,
       "overflow": null,
       "overflow_x": null,
       "overflow_y": null,
       "padding": null,
       "right": null,
       "top": null,
       "visibility": null,
       "width": null
      }
     },
     "42830315c0c44186ad5da8bbc4f2194b": {
      "model_module": "@jupyter-widgets/controls",
      "model_module_version": "1.5.0",
      "model_name": "HBoxModel",
      "state": {
       "_dom_classes": [],
       "_model_module": "@jupyter-widgets/controls",
       "_model_module_version": "1.5.0",
       "_model_name": "HBoxModel",
       "_view_count": null,
       "_view_module": "@jupyter-widgets/controls",
       "_view_module_version": "1.5.0",
       "_view_name": "HBoxView",
       "box_style": "",
       "children": [
        "IPY_MODEL_eb0759a0753e41fdb93a6c3fe0c25b5d",
        "IPY_MODEL_8db7653578ba45308fd16df268e2624c",
        "IPY_MODEL_660ab5f718b44f5990f25b9699f6f41c"
       ],
       "layout": "IPY_MODEL_f0edec969e554a439e9425ad9916c7a9"
      }
     },
     "4375e6eb467e47c19609691230631cf1": {
      "model_module": "@jupyter-widgets/controls",
      "model_module_version": "1.5.0",
      "model_name": "HBoxModel",
      "state": {
       "_dom_classes": [],
       "_model_module": "@jupyter-widgets/controls",
       "_model_module_version": "1.5.0",
       "_model_name": "HBoxModel",
       "_view_count": null,
       "_view_module": "@jupyter-widgets/controls",
       "_view_module_version": "1.5.0",
       "_view_name": "HBoxView",
       "box_style": "",
       "children": [
        "IPY_MODEL_12608a1b084c4068bf3307429443552e",
        "IPY_MODEL_4910ba3023764bed828df8e688fd4d01",
        "IPY_MODEL_07af3bac2b714e048a4ef9fb38c32804"
       ],
       "layout": "IPY_MODEL_9aef60241960452ab8e418c7a4d33fec"
      }
     },
     "47eb5b1796794af79633a447e787e0dd": {
      "model_module": "@jupyter-widgets/controls",
      "model_module_version": "1.5.0",
      "model_name": "ProgressStyleModel",
      "state": {
       "_model_module": "@jupyter-widgets/controls",
       "_model_module_version": "1.5.0",
       "_model_name": "ProgressStyleModel",
       "_view_count": null,
       "_view_module": "@jupyter-widgets/base",
       "_view_module_version": "1.2.0",
       "_view_name": "StyleView",
       "bar_color": null,
       "description_width": ""
      }
     },
     "4910ba3023764bed828df8e688fd4d01": {
      "model_module": "@jupyter-widgets/controls",
      "model_module_version": "1.5.0",
      "model_name": "FloatProgressModel",
      "state": {
       "_dom_classes": [],
       "_model_module": "@jupyter-widgets/controls",
       "_model_module_version": "1.5.0",
       "_model_name": "FloatProgressModel",
       "_view_count": null,
       "_view_module": "@jupyter-widgets/controls",
       "_view_module_version": "1.5.0",
       "_view_name": "ProgressView",
       "bar_style": "success",
       "description": "",
       "description_tooltip": null,
       "layout": "IPY_MODEL_a8ec39fe823d4c4691f460af7783c4e7",
       "max": 224,
       "min": 0,
       "orientation": "horizontal",
       "style": "IPY_MODEL_ecac76019f99458e9b4b19ec1dccd013",
       "value": 224
      }
     },
     "4f5a68a233e64b728c7896346d3287ac": {
      "model_module": "@jupyter-widgets/controls",
      "model_module_version": "1.5.0",
      "model_name": "DescriptionStyleModel",
      "state": {
       "_model_module": "@jupyter-widgets/controls",
       "_model_module_version": "1.5.0",
       "_model_name": "DescriptionStyleModel",
       "_view_count": null,
       "_view_module": "@jupyter-widgets/base",
       "_view_module_version": "1.2.0",
       "_view_name": "StyleView",
       "description_width": ""
      }
     },
     "5a2ca3c7e927477c9457c0a46fd355f2": {
      "model_module": "@jupyter-widgets/controls",
      "model_module_version": "1.5.0",
      "model_name": "HTMLModel",
      "state": {
       "_dom_classes": [],
       "_model_module": "@jupyter-widgets/controls",
       "_model_module_version": "1.5.0",
       "_model_name": "HTMLModel",
       "_view_count": null,
       "_view_module": "@jupyter-widgets/controls",
       "_view_module_version": "1.5.0",
       "_view_name": "HTMLView",
       "description": "",
       "description_tooltip": null,
       "layout": "IPY_MODEL_250a6575c58c4412ab299d1bba236070",
       "placeholder": "​",
       "style": "IPY_MODEL_f4f72a350162461cb13f8e72cc8994bf",
       "value": "Batches: 100%"
      }
     },
     "5afd721e27b742deb2c9eabfa39357d8": {
      "model_module": "@jupyter-widgets/base",
      "model_module_version": "1.2.0",
      "model_name": "LayoutModel",
      "state": {
       "_model_module": "@jupyter-widgets/base",
       "_model_module_version": "1.2.0",
       "_model_name": "LayoutModel",
       "_view_count": null,
       "_view_module": "@jupyter-widgets/base",
       "_view_module_version": "1.2.0",
       "_view_name": "LayoutView",
       "align_content": null,
       "align_items": null,
       "align_self": null,
       "border": null,
       "bottom": null,
       "display": null,
       "flex": null,
       "flex_flow": null,
       "grid_area": null,
       "grid_auto_columns": null,
       "grid_auto_flow": null,
       "grid_auto_rows": null,
       "grid_column": null,
       "grid_gap": null,
       "grid_row": null,
       "grid_template_areas": null,
       "grid_template_columns": null,
       "grid_template_rows": null,
       "height": null,
       "justify_content": null,
       "justify_items": null,
       "left": null,
       "margin": null,
       "max_height": null,
       "max_width": null,
       "min_height": null,
       "min_width": null,
       "object_fit": null,
       "object_position": null,
       "order": null,
       "overflow": null,
       "overflow_x": null,
       "overflow_y": null,
       "padding": null,
       "right": null,
       "top": null,
       "visibility": null,
       "width": null
      }
     },
     "660ab5f718b44f5990f25b9699f6f41c": {
      "model_module": "@jupyter-widgets/controls",
      "model_module_version": "1.5.0",
      "model_name": "HTMLModel",
      "state": {
       "_dom_classes": [],
       "_model_module": "@jupyter-widgets/controls",
       "_model_module_version": "1.5.0",
       "_model_name": "HTMLModel",
       "_view_count": null,
       "_view_module": "@jupyter-widgets/controls",
       "_view_module_version": "1.5.0",
       "_view_name": "HTMLView",
       "description": "",
       "description_tooltip": null,
       "layout": "IPY_MODEL_21272b009aea4eac9e6436ca07e0b983",
       "placeholder": "​",
       "style": "IPY_MODEL_3033cddec1b7433188937a1691ef9427",
       "value": " 1/1 [00:00&lt;00:00, 37.15it/s]"
      }
     },
     "661b855cdfda46cca0580b9d2647cd9b": {
      "model_module": "@jupyter-widgets/controls",
      "model_module_version": "1.5.0",
      "model_name": "FloatProgressModel",
      "state": {
       "_dom_classes": [],
       "_model_module": "@jupyter-widgets/controls",
       "_model_module_version": "1.5.0",
       "_model_name": "FloatProgressModel",
       "_view_count": null,
       "_view_module": "@jupyter-widgets/controls",
       "_view_module_version": "1.5.0",
       "_view_name": "ProgressView",
       "bar_style": "success",
       "description": "",
       "description_tooltip": null,
       "layout": "IPY_MODEL_5afd721e27b742deb2c9eabfa39357d8",
       "max": 1,
       "min": 0,
       "orientation": "horizontal",
       "style": "IPY_MODEL_f117530b094545eeb5c0d9e972be8cb5",
       "value": 1
      }
     },
     "67a137cf6d2140beb23f584b193f57f9": {
      "model_module": "@jupyter-widgets/controls",
      "model_module_version": "1.5.0",
      "model_name": "FloatProgressModel",
      "state": {
       "_dom_classes": [],
       "_model_module": "@jupyter-widgets/controls",
       "_model_module_version": "1.5.0",
       "_model_name": "FloatProgressModel",
       "_view_count": null,
       "_view_module": "@jupyter-widgets/controls",
       "_view_module_version": "1.5.0",
       "_view_name": "ProgressView",
       "bar_style": "success",
       "description": "",
       "description_tooltip": null,
       "layout": "IPY_MODEL_fcfe52a10f1440f4a09bc7bc99362bbb",
       "max": 1,
       "min": 0,
       "orientation": "horizontal",
       "style": "IPY_MODEL_47eb5b1796794af79633a447e787e0dd",
       "value": 1
      }
     },
     "71564a7655b74b5ba2ce4d94d05682e0": {
      "model_module": "@jupyter-widgets/base",
      "model_module_version": "1.2.0",
      "model_name": "LayoutModel",
      "state": {
       "_model_module": "@jupyter-widgets/base",
       "_model_module_version": "1.2.0",
       "_model_name": "LayoutModel",
       "_view_count": null,
       "_view_module": "@jupyter-widgets/base",
       "_view_module_version": "1.2.0",
       "_view_name": "LayoutView",
       "align_content": null,
       "align_items": null,
       "align_self": null,
       "border": null,
       "bottom": null,
       "display": null,
       "flex": null,
       "flex_flow": null,
       "grid_area": null,
       "grid_auto_columns": null,
       "grid_auto_flow": null,
       "grid_auto_rows": null,
       "grid_column": null,
       "grid_gap": null,
       "grid_row": null,
       "grid_template_areas": null,
       "grid_template_columns": null,
       "grid_template_rows": null,
       "height": null,
       "justify_content": null,
       "justify_items": null,
       "left": null,
       "margin": null,
       "max_height": null,
       "max_width": null,
       "min_height": null,
       "min_width": null,
       "object_fit": null,
       "object_position": null,
       "order": null,
       "overflow": null,
       "overflow_x": null,
       "overflow_y": null,
       "padding": null,
       "right": null,
       "top": null,
       "visibility": null,
       "width": null
      }
     },
     "8aa8905ff74b4c2ea2f418cfcc2b3352": {
      "model_module": "@jupyter-widgets/controls",
      "model_module_version": "1.5.0",
      "model_name": "DescriptionStyleModel",
      "state": {
       "_model_module": "@jupyter-widgets/controls",
       "_model_module_version": "1.5.0",
       "_model_name": "DescriptionStyleModel",
       "_view_count": null,
       "_view_module": "@jupyter-widgets/base",
       "_view_module_version": "1.2.0",
       "_view_name": "StyleView",
       "description_width": ""
      }
     },
     "8db7653578ba45308fd16df268e2624c": {
      "model_module": "@jupyter-widgets/controls",
      "model_module_version": "1.5.0",
      "model_name": "FloatProgressModel",
      "state": {
       "_dom_classes": [],
       "_model_module": "@jupyter-widgets/controls",
       "_model_module_version": "1.5.0",
       "_model_name": "FloatProgressModel",
       "_view_count": null,
       "_view_module": "@jupyter-widgets/controls",
       "_view_module_version": "1.5.0",
       "_view_name": "ProgressView",
       "bar_style": "success",
       "description": "",
       "description_tooltip": null,
       "layout": "IPY_MODEL_042c8d57ad874473906ddc0421a38d72",
       "max": 1,
       "min": 0,
       "orientation": "horizontal",
       "style": "IPY_MODEL_37ff8d0db1f949b4b4b568d9cb7778d5",
       "value": 1
      }
     },
     "9242b01aaf4f4b41b976ad17a064d9b7": {
      "model_module": "@jupyter-widgets/controls",
      "model_module_version": "1.5.0",
      "model_name": "HBoxModel",
      "state": {
       "_dom_classes": [],
       "_model_module": "@jupyter-widgets/controls",
       "_model_module_version": "1.5.0",
       "_model_name": "HBoxModel",
       "_view_count": null,
       "_view_module": "@jupyter-widgets/controls",
       "_view_module_version": "1.5.0",
       "_view_name": "HBoxView",
       "box_style": "",
       "children": [
        "IPY_MODEL_f7438ed4f5a8459998f28082f8a31401",
        "IPY_MODEL_661b855cdfda46cca0580b9d2647cd9b",
        "IPY_MODEL_a2b6d35ef80d48569cc0a074793b0e32"
       ],
       "layout": "IPY_MODEL_40c94d11f180489c82078b6f61d0d072"
      }
     },
     "99a3c5c3eb464502a3a9b314feb0be1d": {
      "model_module": "@jupyter-widgets/base",
      "model_module_version": "1.2.0",
      "model_name": "LayoutModel",
      "state": {
       "_model_module": "@jupyter-widgets/base",
       "_model_module_version": "1.2.0",
       "_model_name": "LayoutModel",
       "_view_count": null,
       "_view_module": "@jupyter-widgets/base",
       "_view_module_version": "1.2.0",
       "_view_name": "LayoutView",
       "align_content": null,
       "align_items": null,
       "align_self": null,
       "border": null,
       "bottom": null,
       "display": null,
       "flex": null,
       "flex_flow": null,
       "grid_area": null,
       "grid_auto_columns": null,
       "grid_auto_flow": null,
       "grid_auto_rows": null,
       "grid_column": null,
       "grid_gap": null,
       "grid_row": null,
       "grid_template_areas": null,
       "grid_template_columns": null,
       "grid_template_rows": null,
       "height": null,
       "justify_content": null,
       "justify_items": null,
       "left": null,
       "margin": null,
       "max_height": null,
       "max_width": null,
       "min_height": null,
       "min_width": null,
       "object_fit": null,
       "object_position": null,
       "order": null,
       "overflow": null,
       "overflow_x": null,
       "overflow_y": null,
       "padding": null,
       "right": null,
       "top": null,
       "visibility": null,
       "width": null
      }
     },
     "9aec38adc3b14b3da197c3ac47e1fc38": {
      "model_module": "@jupyter-widgets/base",
      "model_module_version": "1.2.0",
      "model_name": "LayoutModel",
      "state": {
       "_model_module": "@jupyter-widgets/base",
       "_model_module_version": "1.2.0",
       "_model_name": "LayoutModel",
       "_view_count": null,
       "_view_module": "@jupyter-widgets/base",
       "_view_module_version": "1.2.0",
       "_view_name": "LayoutView",
       "align_content": null,
       "align_items": null,
       "align_self": null,
       "border": null,
       "bottom": null,
       "display": null,
       "flex": null,
       "flex_flow": null,
       "grid_area": null,
       "grid_auto_columns": null,
       "grid_auto_flow": null,
       "grid_auto_rows": null,
       "grid_column": null,
       "grid_gap": null,
       "grid_row": null,
       "grid_template_areas": null,
       "grid_template_columns": null,
       "grid_template_rows": null,
       "height": null,
       "justify_content": null,
       "justify_items": null,
       "left": null,
       "margin": null,
       "max_height": null,
       "max_width": null,
       "min_height": null,
       "min_width": null,
       "object_fit": null,
       "object_position": null,
       "order": null,
       "overflow": null,
       "overflow_x": null,
       "overflow_y": null,
       "padding": null,
       "right": null,
       "top": null,
       "visibility": null,
       "width": null
      }
     },
     "9aef60241960452ab8e418c7a4d33fec": {
      "model_module": "@jupyter-widgets/base",
      "model_module_version": "1.2.0",
      "model_name": "LayoutModel",
      "state": {
       "_model_module": "@jupyter-widgets/base",
       "_model_module_version": "1.2.0",
       "_model_name": "LayoutModel",
       "_view_count": null,
       "_view_module": "@jupyter-widgets/base",
       "_view_module_version": "1.2.0",
       "_view_name": "LayoutView",
       "align_content": null,
       "align_items": null,
       "align_self": null,
       "border": null,
       "bottom": null,
       "display": null,
       "flex": null,
       "flex_flow": null,
       "grid_area": null,
       "grid_auto_columns": null,
       "grid_auto_flow": null,
       "grid_auto_rows": null,
       "grid_column": null,
       "grid_gap": null,
       "grid_row": null,
       "grid_template_areas": null,
       "grid_template_columns": null,
       "grid_template_rows": null,
       "height": null,
       "justify_content": null,
       "justify_items": null,
       "left": null,
       "margin": null,
       "max_height": null,
       "max_width": null,
       "min_height": null,
       "min_width": null,
       "object_fit": null,
       "object_position": null,
       "order": null,
       "overflow": null,
       "overflow_x": null,
       "overflow_y": null,
       "padding": null,
       "right": null,
       "top": null,
       "visibility": null,
       "width": null
      }
     },
     "9b06d697027a443c9bc01c56aaabf768": {
      "model_module": "@jupyter-widgets/controls",
      "model_module_version": "1.5.0",
      "model_name": "HBoxModel",
      "state": {
       "_dom_classes": [],
       "_model_module": "@jupyter-widgets/controls",
       "_model_module_version": "1.5.0",
       "_model_name": "HBoxModel",
       "_view_count": null,
       "_view_module": "@jupyter-widgets/controls",
       "_view_module_version": "1.5.0",
       "_view_name": "HBoxView",
       "box_style": "",
       "children": [
        "IPY_MODEL_5a2ca3c7e927477c9457c0a46fd355f2",
        "IPY_MODEL_67a137cf6d2140beb23f584b193f57f9",
        "IPY_MODEL_f1c781aacb84431dabf2586619162c66"
       ],
       "layout": "IPY_MODEL_9aec38adc3b14b3da197c3ac47e1fc38"
      }
     },
     "a2b6d35ef80d48569cc0a074793b0e32": {
      "model_module": "@jupyter-widgets/controls",
      "model_module_version": "1.5.0",
      "model_name": "HTMLModel",
      "state": {
       "_dom_classes": [],
       "_model_module": "@jupyter-widgets/controls",
       "_model_module_version": "1.5.0",
       "_model_name": "HTMLModel",
       "_view_count": null,
       "_view_module": "@jupyter-widgets/controls",
       "_view_module_version": "1.5.0",
       "_view_name": "HTMLView",
       "description": "",
       "description_tooltip": null,
       "layout": "IPY_MODEL_99a3c5c3eb464502a3a9b314feb0be1d",
       "placeholder": "​",
       "style": "IPY_MODEL_4f5a68a233e64b728c7896346d3287ac",
       "value": " 1/1 [00:00&lt;00:00,  1.80it/s]"
      }
     },
     "a8ec39fe823d4c4691f460af7783c4e7": {
      "model_module": "@jupyter-widgets/base",
      "model_module_version": "1.2.0",
      "model_name": "LayoutModel",
      "state": {
       "_model_module": "@jupyter-widgets/base",
       "_model_module_version": "1.2.0",
       "_model_name": "LayoutModel",
       "_view_count": null,
       "_view_module": "@jupyter-widgets/base",
       "_view_module_version": "1.2.0",
       "_view_name": "LayoutView",
       "align_content": null,
       "align_items": null,
       "align_self": null,
       "border": null,
       "bottom": null,
       "display": null,
       "flex": null,
       "flex_flow": null,
       "grid_area": null,
       "grid_auto_columns": null,
       "grid_auto_flow": null,
       "grid_auto_rows": null,
       "grid_column": null,
       "grid_gap": null,
       "grid_row": null,
       "grid_template_areas": null,
       "grid_template_columns": null,
       "grid_template_rows": null,
       "height": null,
       "justify_content": null,
       "justify_items": null,
       "left": null,
       "margin": null,
       "max_height": null,
       "max_width": null,
       "min_height": null,
       "min_width": null,
       "object_fit": null,
       "object_position": null,
       "order": null,
       "overflow": null,
       "overflow_x": null,
       "overflow_y": null,
       "padding": null,
       "right": null,
       "top": null,
       "visibility": null,
       "width": null
      }
     },
     "b6ce18ec86014e35a2e97503e74f7f68": {
      "model_module": "@jupyter-widgets/controls",
      "model_module_version": "1.5.0",
      "model_name": "DescriptionStyleModel",
      "state": {
       "_model_module": "@jupyter-widgets/controls",
       "_model_module_version": "1.5.0",
       "_model_name": "DescriptionStyleModel",
       "_view_count": null,
       "_view_module": "@jupyter-widgets/base",
       "_view_module_version": "1.2.0",
       "_view_name": "StyleView",
       "description_width": ""
      }
     },
     "c59c9711568a482bab73028805acd7eb": {
      "model_module": "@jupyter-widgets/controls",
      "model_module_version": "1.5.0",
      "model_name": "DescriptionStyleModel",
      "state": {
       "_model_module": "@jupyter-widgets/controls",
       "_model_module_version": "1.5.0",
       "_model_name": "DescriptionStyleModel",
       "_view_count": null,
       "_view_module": "@jupyter-widgets/base",
       "_view_module_version": "1.2.0",
       "_view_name": "StyleView",
       "description_width": ""
      }
     },
     "c90f3df512ac4e36b389ed7fa84c4e26": {
      "model_module": "@jupyter-widgets/controls",
      "model_module_version": "1.5.0",
      "model_name": "DescriptionStyleModel",
      "state": {
       "_model_module": "@jupyter-widgets/controls",
       "_model_module_version": "1.5.0",
       "_model_name": "DescriptionStyleModel",
       "_view_count": null,
       "_view_module": "@jupyter-widgets/base",
       "_view_module_version": "1.2.0",
       "_view_name": "StyleView",
       "description_width": ""
      }
     },
     "e7bcb72016c9470f8bf21fadaf808b29": {
      "model_module": "@jupyter-widgets/controls",
      "model_module_version": "1.5.0",
      "model_name": "DescriptionStyleModel",
      "state": {
       "_model_module": "@jupyter-widgets/controls",
       "_model_module_version": "1.5.0",
       "_model_name": "DescriptionStyleModel",
       "_view_count": null,
       "_view_module": "@jupyter-widgets/base",
       "_view_module_version": "1.2.0",
       "_view_name": "StyleView",
       "description_width": ""
      }
     },
     "eb0759a0753e41fdb93a6c3fe0c25b5d": {
      "model_module": "@jupyter-widgets/controls",
      "model_module_version": "1.5.0",
      "model_name": "HTMLModel",
      "state": {
       "_dom_classes": [],
       "_model_module": "@jupyter-widgets/controls",
       "_model_module_version": "1.5.0",
       "_model_name": "HTMLModel",
       "_view_count": null,
       "_view_module": "@jupyter-widgets/controls",
       "_view_module_version": "1.5.0",
       "_view_name": "HTMLView",
       "description": "",
       "description_tooltip": null,
       "layout": "IPY_MODEL_333608dba5194e56be3efa373a5f6440",
       "placeholder": "​",
       "style": "IPY_MODEL_8aa8905ff74b4c2ea2f418cfcc2b3352",
       "value": "Batches: 100%"
      }
     },
     "eb2af181c31e438eb28d80e31d5a4c0f": {
      "model_module": "@jupyter-widgets/base",
      "model_module_version": "1.2.0",
      "model_name": "LayoutModel",
      "state": {
       "_model_module": "@jupyter-widgets/base",
       "_model_module_version": "1.2.0",
       "_model_name": "LayoutModel",
       "_view_count": null,
       "_view_module": "@jupyter-widgets/base",
       "_view_module_version": "1.2.0",
       "_view_name": "LayoutView",
       "align_content": null,
       "align_items": null,
       "align_self": null,
       "border": null,
       "bottom": null,
       "display": null,
       "flex": null,
       "flex_flow": null,
       "grid_area": null,
       "grid_auto_columns": null,
       "grid_auto_flow": null,
       "grid_auto_rows": null,
       "grid_column": null,
       "grid_gap": null,
       "grid_row": null,
       "grid_template_areas": null,
       "grid_template_columns": null,
       "grid_template_rows": null,
       "height": null,
       "justify_content": null,
       "justify_items": null,
       "left": null,
       "margin": null,
       "max_height": null,
       "max_width": null,
       "min_height": null,
       "min_width": null,
       "object_fit": null,
       "object_position": null,
       "order": null,
       "overflow": null,
       "overflow_x": null,
       "overflow_y": null,
       "padding": null,
       "right": null,
       "top": null,
       "visibility": null,
       "width": null
      }
     },
     "ecac76019f99458e9b4b19ec1dccd013": {
      "model_module": "@jupyter-widgets/controls",
      "model_module_version": "1.5.0",
      "model_name": "ProgressStyleModel",
      "state": {
       "_model_module": "@jupyter-widgets/controls",
       "_model_module_version": "1.5.0",
       "_model_name": "ProgressStyleModel",
       "_view_count": null,
       "_view_module": "@jupyter-widgets/base",
       "_view_module_version": "1.2.0",
       "_view_name": "StyleView",
       "bar_color": null,
       "description_width": ""
      }
     },
     "f0edec969e554a439e9425ad9916c7a9": {
      "model_module": "@jupyter-widgets/base",
      "model_module_version": "1.2.0",
      "model_name": "LayoutModel",
      "state": {
       "_model_module": "@jupyter-widgets/base",
       "_model_module_version": "1.2.0",
       "_model_name": "LayoutModel",
       "_view_count": null,
       "_view_module": "@jupyter-widgets/base",
       "_view_module_version": "1.2.0",
       "_view_name": "LayoutView",
       "align_content": null,
       "align_items": null,
       "align_self": null,
       "border": null,
       "bottom": null,
       "display": null,
       "flex": null,
       "flex_flow": null,
       "grid_area": null,
       "grid_auto_columns": null,
       "grid_auto_flow": null,
       "grid_auto_rows": null,
       "grid_column": null,
       "grid_gap": null,
       "grid_row": null,
       "grid_template_areas": null,
       "grid_template_columns": null,
       "grid_template_rows": null,
       "height": null,
       "justify_content": null,
       "justify_items": null,
       "left": null,
       "margin": null,
       "max_height": null,
       "max_width": null,
       "min_height": null,
       "min_width": null,
       "object_fit": null,
       "object_position": null,
       "order": null,
       "overflow": null,
       "overflow_x": null,
       "overflow_y": null,
       "padding": null,
       "right": null,
       "top": null,
       "visibility": null,
       "width": null
      }
     },
     "f117530b094545eeb5c0d9e972be8cb5": {
      "model_module": "@jupyter-widgets/controls",
      "model_module_version": "1.5.0",
      "model_name": "ProgressStyleModel",
      "state": {
       "_model_module": "@jupyter-widgets/controls",
       "_model_module_version": "1.5.0",
       "_model_name": "ProgressStyleModel",
       "_view_count": null,
       "_view_module": "@jupyter-widgets/base",
       "_view_module_version": "1.2.0",
       "_view_name": "StyleView",
       "bar_color": null,
       "description_width": ""
      }
     },
     "f1c781aacb84431dabf2586619162c66": {
      "model_module": "@jupyter-widgets/controls",
      "model_module_version": "1.5.0",
      "model_name": "HTMLModel",
      "state": {
       "_dom_classes": [],
       "_model_module": "@jupyter-widgets/controls",
       "_model_module_version": "1.5.0",
       "_model_name": "HTMLModel",
       "_view_count": null,
       "_view_module": "@jupyter-widgets/controls",
       "_view_module_version": "1.5.0",
       "_view_name": "HTMLView",
       "description": "",
       "description_tooltip": null,
       "layout": "IPY_MODEL_115c1ce231034899b39d98b8e7955102",
       "placeholder": "​",
       "style": "IPY_MODEL_e7bcb72016c9470f8bf21fadaf808b29",
       "value": " 1/1 [00:00&lt;00:00, 34.25it/s]"
      }
     },
     "f4f72a350162461cb13f8e72cc8994bf": {
      "model_module": "@jupyter-widgets/controls",
      "model_module_version": "1.5.0",
      "model_name": "DescriptionStyleModel",
      "state": {
       "_model_module": "@jupyter-widgets/controls",
       "_model_module_version": "1.5.0",
       "_model_name": "DescriptionStyleModel",
       "_view_count": null,
       "_view_module": "@jupyter-widgets/base",
       "_view_module_version": "1.2.0",
       "_view_name": "StyleView",
       "description_width": ""
      }
     },
     "f7438ed4f5a8459998f28082f8a31401": {
      "model_module": "@jupyter-widgets/controls",
      "model_module_version": "1.5.0",
      "model_name": "HTMLModel",
      "state": {
       "_dom_classes": [],
       "_model_module": "@jupyter-widgets/controls",
       "_model_module_version": "1.5.0",
       "_model_name": "HTMLModel",
       "_view_count": null,
       "_view_module": "@jupyter-widgets/controls",
       "_view_module_version": "1.5.0",
       "_view_name": "HTMLView",
       "description": "",
       "description_tooltip": null,
       "layout": "IPY_MODEL_71564a7655b74b5ba2ce4d94d05682e0",
       "placeholder": "​",
       "style": "IPY_MODEL_b6ce18ec86014e35a2e97503e74f7f68",
       "value": "Batches: 100%"
      }
     },
     "fcfe52a10f1440f4a09bc7bc99362bbb": {
      "model_module": "@jupyter-widgets/base",
      "model_module_version": "1.2.0",
      "model_name": "LayoutModel",
      "state": {
       "_model_module": "@jupyter-widgets/base",
       "_model_module_version": "1.2.0",
       "_model_name": "LayoutModel",
       "_view_count": null,
       "_view_module": "@jupyter-widgets/base",
       "_view_module_version": "1.2.0",
       "_view_name": "LayoutView",
       "align_content": null,
       "align_items": null,
       "align_self": null,
       "border": null,
       "bottom": null,
       "display": null,
       "flex": null,
       "flex_flow": null,
       "grid_area": null,
       "grid_auto_columns": null,
       "grid_auto_flow": null,
       "grid_auto_rows": null,
       "grid_column": null,
       "grid_gap": null,
       "grid_row": null,
       "grid_template_areas": null,
       "grid_template_columns": null,
       "grid_template_rows": null,
       "height": null,
       "justify_content": null,
       "justify_items": null,
       "left": null,
       "margin": null,
       "max_height": null,
       "max_width": null,
       "min_height": null,
       "min_width": null,
       "object_fit": null,
       "object_position": null,
       "order": null,
       "overflow": null,
       "overflow_x": null,
       "overflow_y": null,
       "padding": null,
       "right": null,
       "top": null,
       "visibility": null,
       "width": null
      }
     }
    },
    "version_major": 2,
    "version_minor": 0
   }
  }
 },
 "nbformat": 4,
 "nbformat_minor": 5
}
